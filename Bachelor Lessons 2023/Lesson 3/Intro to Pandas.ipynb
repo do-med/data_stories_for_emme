{
  "nbformat": 4,
  "nbformat_minor": 0,
  "metadata": {
    "colab": {
      "provenance": []
    },
    "kernelspec": {
      "name": "python3",
      "display_name": "Python 3"
    },
    "language_info": {
      "name": "python"
    }
  },
  "cells": [
    {
      "cell_type": "markdown",
      "source": [
        "# Εισαγωγή στα Pandas (Pandas library)"
      ],
      "metadata": {
        "id": "FMDoMzXBvE1-"
      }
    },
    {
      "cell_type": "markdown",
      "source": [
        "##**Δεν μας έφταναν οι πύθωνες, θέλουμε και αρκούδες**\n",
        "\n",
        "![](https://drive.google.com/uc?export=view&id=1LtZXFw65C7uK-TLSl_Svy-BAeI25wQHS)"
      ],
      "metadata": {
        "id": "dFezkn4Z_Fso"
      }
    },
    {
      "cell_type": "code",
      "source": [
        "# Η Python λειτουργεί με βιβλιοθήκες, οι pandas είναι βιβλιοθήκες της Pyhton\n"
      ],
      "metadata": {
        "id": "an1gxIfYOpWg"
      },
      "execution_count": null,
      "outputs": []
    },
    {
      "cell_type": "code",
      "source": [
        "import pandas as pd"
      ],
      "metadata": {
        "id": "c_VzdW4JO2GV"
      },
      "execution_count": 1,
      "outputs": []
    },
    {
      "cell_type": "markdown",
      "source": [
        "##**Python libraries**\n",
        "\n",
        "Προκειμένου η ζωή μας στον προγραμματισμό να γίνει ευκολότερη, υπάρχουν κάποια έτοιμα πακέτα κώδικα που μπορούμε να καλέσουμε και να χρησιμοποιήσουμε γράφοντας απλώς το όνομά τους για να επιτελέσουμε συγκεκριμένες εργασίες."
      ],
      "metadata": {
        "id": "dDotxwpzoagD"
      }
    },
    {
      "cell_type": "code",
      "source": [
        "min(42, -6, 35, 13, 0, 1024)"
      ],
      "metadata": {
        "colab": {
          "base_uri": "https://localhost:8080/"
        },
        "id": "qmvcnOfSocns",
        "outputId": "564ec5e8-6d9b-4de7-e664-1b36ea97ca9d"
      },
      "execution_count": null,
      "outputs": [
        {
          "output_type": "execute_result",
          "data": {
            "text/plain": [
              "-6"
            ]
          },
          "metadata": {},
          "execution_count": 1
        }
      ]
    },
    {
      "cell_type": "markdown",
      "source": [
        "### **Τι είναι οι βιβλιοθήκες**\n",
        "\n",
        "Στον προγραμματισμό, **μια βιβλιοθήκη (library)** είναι μια **συλλογή** έτοιμων για χρήση πακέτων κώδικα που μπορούμε να χρησιμοποιήσουμε σε ένα πρόγραμμα για να επιτελέσουν κάποιες συγκεκριμένες λειτουργίες.\n",
        "\n",
        "Για παράδειγμα η βιβλιοθήκη **math** περιέχει μαθηματικές συναρτήσεις. Με τη συνάρτηση sqrt() της math, μπορούμε να βρούμε την τετραγωνική ρίζα ενός αριθμού.\n",
        "\n",
        "Για να χρησιμοποιήσουμε τη συνάρτηση μιας βιβλιοθήκης, η σύνταξη είναι:\n",
        "```\n",
        "<όνομα βιβλιοθήκης>.<όνομα συνάρτησης>\n",
        "```"
      ],
      "metadata": {
        "id": "8ACqwN9GrGXg"
      }
    },
    {
      "cell_type": "code",
      "source": [
        "math.sqrt(3)"
      ],
      "metadata": {
        "colab": {
          "base_uri": "https://localhost:8080/",
          "height": 167
        },
        "id": "7Pk9Ya4SrHnO",
        "outputId": "cf41cd89-5c7a-4fc9-8a06-cb1a4cc08ddf"
      },
      "execution_count": null,
      "outputs": [
        {
          "output_type": "error",
          "ename": "NameError",
          "evalue": "ignored",
          "traceback": [
            "\u001b[0;31m---------------------------------------------------------------------------\u001b[0m",
            "\u001b[0;31mNameError\u001b[0m                                 Traceback (most recent call last)",
            "\u001b[0;32m<ipython-input-2-51c8bcbe0ecf>\u001b[0m in \u001b[0;36m<cell line: 1>\u001b[0;34m()\u001b[0m\n\u001b[0;32m----> 1\u001b[0;31m \u001b[0mmath\u001b[0m\u001b[0;34m.\u001b[0m\u001b[0msqrt\u001b[0m\u001b[0;34m(\u001b[0m\u001b[0;36m3\u001b[0m\u001b[0;34m)\u001b[0m\u001b[0;34m\u001b[0m\u001b[0;34m\u001b[0m\u001b[0m\n\u001b[0m",
            "\u001b[0;31mNameError\u001b[0m: name 'math' is not defined"
          ]
        }
      ]
    },
    {
      "cell_type": "markdown",
      "source": [
        "H εντολή μας δεν τρέχει, γιατί η βιβλιοθήκη math, δεν περιέχεται στην Python. Για να τη χρησιμοποιήσουμε στο πρόγραμμά μας, πρέπει πρώτα να την **εισάγουμε** (**import**)."
      ],
      "metadata": {
        "id": "V9Ihm1ljr6BV"
      }
    },
    {
      "cell_type": "markdown",
      "source": [
        "### **Εισαγωγή βιβλιοθηκών στην Python**"
      ],
      "metadata": {
        "id": "AQv0QkqcDhFD"
      }
    },
    {
      "cell_type": "code",
      "source": [
        "import math"
      ],
      "metadata": {
        "id": "x8aT_vTgsiF6"
      },
      "execution_count": null,
      "outputs": []
    },
    {
      "cell_type": "code",
      "source": [
        "math.sqrt(3)"
      ],
      "metadata": {
        "id": "gec4447Gsllx"
      },
      "execution_count": null,
      "outputs": []
    },
    {
      "cell_type": "markdown",
      "source": [
        "Κάθε βιβλιοθήκη περιλαμβάνει πάρα πολλά πακέτα, αλλά εμείς μπορεί να θέλουμε μόνο μερικά απ' αυτά. Γι' αυτό, μπορούμε να εισάγουμε μόνο το/τα πακέτα που θέλουμε από μια βιβλιοθήκη, με τη σύνταξη:\n",
        "\n",
        "```\n",
        "from <όνομα βιβλιοθήκης> import <όνομα πακέτου 1>, <όνομα πακέτου 2>...\n",
        "```\n",
        "\n",
        "#### **Σύνδεση του colab με το google drive**\n",
        "\n",
        "Ένα χρήσιμο πακέτο για τη σύνδεση του colab με το google drive είναι το **drive** από τη βιβλιοθήκη **google.colab**"
      ],
      "metadata": {
        "id": "_5X10lY5sqjz"
      }
    },
    {
      "cell_type": "code",
      "source": [
        "from google.colab import drive\n",
        "\n",
        "drive.mount('/content/gdrive/', force_remount=True)"
      ],
      "metadata": {
        "id": "bdOE_gZs148j"
      },
      "execution_count": null,
      "outputs": []
    },
    {
      "cell_type": "markdown",
      "source": [
        "#### **Εισαγωγή βιβλιοθήκης με σύντομο όνομα**\n",
        "\n",
        "Όταν το όνομα μιας βιβλιοθήκης είναι μεγάλο, η συνήθης πρακτική είναι να την εισάγουμε ορίζοντας ταυτόχρονα και μια συντομογραφία του ονόματός της με την οποία θα την καλούμε. Π.χ.:\n",
        "\n",
        "```\n",
        "import matplotlib.pyplot as plt\n",
        "```"
      ],
      "metadata": {
        "id": "1tcNREGwKym-"
      }
    },
    {
      "cell_type": "markdown",
      "source": [
        "#### **Δημοφιλείς βιβλιοθήκες για την Python** στην ανάλυση δεδομένων\n",
        "\n",
        "* **Matplotlib**: Δημιουργεί απεικονίσεις αριθμητικών δεδομένων όπως bar charts, pie charts, histograms, scatterplots, κλπ. και γι' αυτό χρησιμοποιείται στην ανάλυση δεδομένων (data analysis).\n",
        "* **Numpy** (Numerical Python): Αποτελείται από ενσωματωμένες μαθηματικές συναρτήσεις για εύκολους υπολογισμούς, υποστηρίζει μεγάλους πίνακες και πολυδιάστατα δεδομένα και γι' αυτό χρησιμοποιείται πολύ στη μηχανική μάθηση (Machine Learning).\n",
        "* **SpaCy**: Περιέχει γλωσσολογικά (και αλλά) εργαλεία που χρησιμοποιούνται για την επεξεργασία της φυσικής γλώσσας [Natural Language Processing (NLP)]."
      ],
      "metadata": {
        "id": "J1pXaTV0X2K4"
      }
    },
    {
      "cell_type": "markdown",
      "source": [
        "## **Τι είναι τα Pandas**\n",
        "\n",
        "Τα Pandas είναι μια βιβλιοθήκη της Python που χρησιμοποιείται για να δουλέψουμε με σύνολα δεδομένων (data sets).\n",
        "\n",
        "Περιλαμβάνει συναρτήσεις για:\n",
        "* **ανάλυση**\n",
        "* **καθάρισμα**\n",
        "* **εξερεύνηση**, και\n",
        "* **επεξεργασία**\n",
        "\n",
        "Των δεδομένων.\n",
        "\n",
        "*Το όνομα \"Pandas\" συνδέεται με το \"Panel Data\" και το \"Python Data Analysis\" και δημιουργήθηκε από τον Wes McKinney το 2008.*\n"
      ],
      "metadata": {
        "id": "MmQRPGDRxIHj"
      }
    },
    {
      "cell_type": "markdown",
      "source": [
        "#### **Γιατί να χρησιμοποιήσουμε τα Pandas;**\n",
        "\n",
        "Στη δημοσιογραφία δεδομένων (Data Journalism), ο στόχος μας είναι να ανακαλύψουμε τους πιθανούς τρόπους με τους οποίους συσχετίζονται τα διάφορα δεδομένα μεταξύ τους και να βγάλουμε **συμπεράσματα**.\n",
        "\n",
        "Με τα πλαίσια δεδομένων (**dataframes**) των Pandas, τα δεδομένα μας οργανώνονται σε πίνακες (όπως στο exel, αλλά με πολύ περισσότερες δυνατότητες).\n",
        "\n",
        "![](https://www.cdn.geeksforgeeks.org/wp-content/uploads/creating_dataframe1.png)\n",
        "\n",
        "Έτσι μπορούμε να επισκοπήσουμε τα δεδομένα και, με τη βοήθεια των εργαλείων που μας παρέχει η βιβλιοθήκη, να πάρουμε απ' αυτά απαντήσεις, σε ερωτήσεις όπως:\n",
        "\n",
        "* Υπάρχει συσχέτιση μεταξύ δύο ή περισσότερων στηλών;\n",
        "* Ποιά είναι η μέση τιμή;\n",
        "* Ποιά είναι η μέγιστη ή η ελάχιστη;\n",
        "* Πώς εξελλίσσονται οι τιμές στο χρόνο;\n",
        "\n",
        "Με τα Pandas μπορούμε να διαγράψουμε σειρές που είναι άσχετες ή περιέχουν λανθασμένες ή κενές τιμές, στο πλαίσιο της διαδικασίας που ονομάζουμε \"**καθάρισμα δεδομένων**\"."
      ],
      "metadata": {
        "id": "fyC-aGl0OCKf"
      }
    },
    {
      "cell_type": "markdown",
      "source": [
        "---\n",
        "### **0. Εισαγωγή της βιβλιοθήκης Pandas στην Python**"
      ],
      "metadata": {
        "id": "hnMIXcG2D_lf"
      }
    },
    {
      "cell_type": "markdown",
      "source": [
        "Εισάγετε τη βιβλιοθήκη pandas με σύντομο όνομα το pd"
      ],
      "metadata": {
        "id": "d1OOIcfr4SJm"
      }
    },
    {
      "cell_type": "code",
      "execution_count": null,
      "metadata": {
        "id": "PUNPcFdavAnk"
      },
      "outputs": [],
      "source": []
    },
    {
      "cell_type": "markdown",
      "source": [
        "---\n",
        "### **1. Ανάγνωση και αποθήκευση δεδομένων**\n",
        "\n",
        "**1.1 Ανάγνωση αρχείου csv από το github**\n",
        "\n",
        "* Ανοίξτε στον browser σε νέο tab (δεξί κλικ στο link > Open Link in New Tab) τη διεύθυνση https://github.com/datajour-gr/DataJournalism/tree/main/Bachelor%20Lessons%202023/Lesson%203\n",
        "\n",
        "* Πατήστε στο αρχείο countries.csv\n",
        "\n",
        "* Πατήστε το κουμπί Raw\n",
        "\n",
        "* Αντιγράψτε τη διεύθυνση url\n",
        "\n",
        "* Επικολλήστε τη διεύθυνση url μέσα στα **εισαγωγικά** μέσα στην **παρένθεση** στον παρακάτω κώδικα\n",
        "\n",
        "* Τρέξτε το κελί\n"
      ],
      "metadata": {
        "id": "mQndwis3NUPz"
      }
    },
    {
      "cell_type": "code",
      "source": [
        "df = pd.read_csv(\"https://raw.githubusercontent.com/datajour-gr/DataJournalism/refs/heads/main/Bachelor%20Lessons%202023/Lesson%203/countries.csv\")\n",
        "df\n",
        "#αυτός ο πίνακας είναι ένα dataframe το οποίο έχουμε ονομάζει df"
      ],
      "metadata": {
        "colab": {
          "base_uri": "https://localhost:8080/",
          "height": 423
        },
        "id": "FQNz_bXvaTSN",
        "outputId": "0d0a7585-3c57-4e83-d684-ab94b7da16ae"
      },
      "execution_count": 2,
      "outputs": [
        {
          "output_type": "execute_result",
          "data": {
            "text/plain": [
              "                 country   continent  gdp_per_capita  life_expectancy  \\\n",
              "0            Afghanistan        Asia             663           54.863   \n",
              "1                Albania      Europe            4195           74.200   \n",
              "2                Algeria      Africa            5098           68.963   \n",
              "3                 Angola      Africa            2446           45.234   \n",
              "4    Antigua and Barbuda  N. America           12738           73.544   \n",
              "..                   ...         ...             ...              ...   \n",
              "183              Vietnam        Asia            1577           73.777   \n",
              "184   West Bank and Gaza        Asia            7586           70.929   \n",
              "185          Yemen, Rep.        Asia            2217           60.404   \n",
              "186               Zambia      Africa            1035           41.802   \n",
              "187             Zimbabwe      Africa             745           43.976   \n",
              "\n",
              "     population  \n",
              "0      22856302  \n",
              "1       3071856  \n",
              "2      30533827  \n",
              "3      13926373  \n",
              "4         77656  \n",
              "..          ...  \n",
              "183    78758010  \n",
              "184     3198560  \n",
              "185    17723186  \n",
              "186    10201562  \n",
              "187    12509477  \n",
              "\n",
              "[188 rows x 5 columns]"
            ],
            "text/html": [
              "\n",
              "  <div id=\"df-322dcce2-0064-4797-8b5a-4d380bcd0e81\" class=\"colab-df-container\">\n",
              "    <div>\n",
              "<style scoped>\n",
              "    .dataframe tbody tr th:only-of-type {\n",
              "        vertical-align: middle;\n",
              "    }\n",
              "\n",
              "    .dataframe tbody tr th {\n",
              "        vertical-align: top;\n",
              "    }\n",
              "\n",
              "    .dataframe thead th {\n",
              "        text-align: right;\n",
              "    }\n",
              "</style>\n",
              "<table border=\"1\" class=\"dataframe\">\n",
              "  <thead>\n",
              "    <tr style=\"text-align: right;\">\n",
              "      <th></th>\n",
              "      <th>country</th>\n",
              "      <th>continent</th>\n",
              "      <th>gdp_per_capita</th>\n",
              "      <th>life_expectancy</th>\n",
              "      <th>population</th>\n",
              "    </tr>\n",
              "  </thead>\n",
              "  <tbody>\n",
              "    <tr>\n",
              "      <th>0</th>\n",
              "      <td>Afghanistan</td>\n",
              "      <td>Asia</td>\n",
              "      <td>663</td>\n",
              "      <td>54.863</td>\n",
              "      <td>22856302</td>\n",
              "    </tr>\n",
              "    <tr>\n",
              "      <th>1</th>\n",
              "      <td>Albania</td>\n",
              "      <td>Europe</td>\n",
              "      <td>4195</td>\n",
              "      <td>74.200</td>\n",
              "      <td>3071856</td>\n",
              "    </tr>\n",
              "    <tr>\n",
              "      <th>2</th>\n",
              "      <td>Algeria</td>\n",
              "      <td>Africa</td>\n",
              "      <td>5098</td>\n",
              "      <td>68.963</td>\n",
              "      <td>30533827</td>\n",
              "    </tr>\n",
              "    <tr>\n",
              "      <th>3</th>\n",
              "      <td>Angola</td>\n",
              "      <td>Africa</td>\n",
              "      <td>2446</td>\n",
              "      <td>45.234</td>\n",
              "      <td>13926373</td>\n",
              "    </tr>\n",
              "    <tr>\n",
              "      <th>4</th>\n",
              "      <td>Antigua and Barbuda</td>\n",
              "      <td>N. America</td>\n",
              "      <td>12738</td>\n",
              "      <td>73.544</td>\n",
              "      <td>77656</td>\n",
              "    </tr>\n",
              "    <tr>\n",
              "      <th>...</th>\n",
              "      <td>...</td>\n",
              "      <td>...</td>\n",
              "      <td>...</td>\n",
              "      <td>...</td>\n",
              "      <td>...</td>\n",
              "    </tr>\n",
              "    <tr>\n",
              "      <th>183</th>\n",
              "      <td>Vietnam</td>\n",
              "      <td>Asia</td>\n",
              "      <td>1577</td>\n",
              "      <td>73.777</td>\n",
              "      <td>78758010</td>\n",
              "    </tr>\n",
              "    <tr>\n",
              "      <th>184</th>\n",
              "      <td>West Bank and Gaza</td>\n",
              "      <td>Asia</td>\n",
              "      <td>7586</td>\n",
              "      <td>70.929</td>\n",
              "      <td>3198560</td>\n",
              "    </tr>\n",
              "    <tr>\n",
              "      <th>185</th>\n",
              "      <td>Yemen, Rep.</td>\n",
              "      <td>Asia</td>\n",
              "      <td>2217</td>\n",
              "      <td>60.404</td>\n",
              "      <td>17723186</td>\n",
              "    </tr>\n",
              "    <tr>\n",
              "      <th>186</th>\n",
              "      <td>Zambia</td>\n",
              "      <td>Africa</td>\n",
              "      <td>1035</td>\n",
              "      <td>41.802</td>\n",
              "      <td>10201562</td>\n",
              "    </tr>\n",
              "    <tr>\n",
              "      <th>187</th>\n",
              "      <td>Zimbabwe</td>\n",
              "      <td>Africa</td>\n",
              "      <td>745</td>\n",
              "      <td>43.976</td>\n",
              "      <td>12509477</td>\n",
              "    </tr>\n",
              "  </tbody>\n",
              "</table>\n",
              "<p>188 rows × 5 columns</p>\n",
              "</div>\n",
              "    <div class=\"colab-df-buttons\">\n",
              "\n",
              "  <div class=\"colab-df-container\">\n",
              "    <button class=\"colab-df-convert\" onclick=\"convertToInteractive('df-322dcce2-0064-4797-8b5a-4d380bcd0e81')\"\n",
              "            title=\"Convert this dataframe to an interactive table.\"\n",
              "            style=\"display:none;\">\n",
              "\n",
              "  <svg xmlns=\"http://www.w3.org/2000/svg\" height=\"24px\" viewBox=\"0 -960 960 960\">\n",
              "    <path d=\"M120-120v-720h720v720H120Zm60-500h600v-160H180v160Zm220 220h160v-160H400v160Zm0 220h160v-160H400v160ZM180-400h160v-160H180v160Zm440 0h160v-160H620v160ZM180-180h160v-160H180v160Zm440 0h160v-160H620v160Z\"/>\n",
              "  </svg>\n",
              "    </button>\n",
              "\n",
              "  <style>\n",
              "    .colab-df-container {\n",
              "      display:flex;\n",
              "      gap: 12px;\n",
              "    }\n",
              "\n",
              "    .colab-df-convert {\n",
              "      background-color: #E8F0FE;\n",
              "      border: none;\n",
              "      border-radius: 50%;\n",
              "      cursor: pointer;\n",
              "      display: none;\n",
              "      fill: #1967D2;\n",
              "      height: 32px;\n",
              "      padding: 0 0 0 0;\n",
              "      width: 32px;\n",
              "    }\n",
              "\n",
              "    .colab-df-convert:hover {\n",
              "      background-color: #E2EBFA;\n",
              "      box-shadow: 0px 1px 2px rgba(60, 64, 67, 0.3), 0px 1px 3px 1px rgba(60, 64, 67, 0.15);\n",
              "      fill: #174EA6;\n",
              "    }\n",
              "\n",
              "    .colab-df-buttons div {\n",
              "      margin-bottom: 4px;\n",
              "    }\n",
              "\n",
              "    [theme=dark] .colab-df-convert {\n",
              "      background-color: #3B4455;\n",
              "      fill: #D2E3FC;\n",
              "    }\n",
              "\n",
              "    [theme=dark] .colab-df-convert:hover {\n",
              "      background-color: #434B5C;\n",
              "      box-shadow: 0px 1px 3px 1px rgba(0, 0, 0, 0.15);\n",
              "      filter: drop-shadow(0px 1px 2px rgba(0, 0, 0, 0.3));\n",
              "      fill: #FFFFFF;\n",
              "    }\n",
              "  </style>\n",
              "\n",
              "    <script>\n",
              "      const buttonEl =\n",
              "        document.querySelector('#df-322dcce2-0064-4797-8b5a-4d380bcd0e81 button.colab-df-convert');\n",
              "      buttonEl.style.display =\n",
              "        google.colab.kernel.accessAllowed ? 'block' : 'none';\n",
              "\n",
              "      async function convertToInteractive(key) {\n",
              "        const element = document.querySelector('#df-322dcce2-0064-4797-8b5a-4d380bcd0e81');\n",
              "        const dataTable =\n",
              "          await google.colab.kernel.invokeFunction('convertToInteractive',\n",
              "                                                    [key], {});\n",
              "        if (!dataTable) return;\n",
              "\n",
              "        const docLinkHtml = 'Like what you see? Visit the ' +\n",
              "          '<a target=\"_blank\" href=https://colab.research.google.com/notebooks/data_table.ipynb>data table notebook</a>'\n",
              "          + ' to learn more about interactive tables.';\n",
              "        element.innerHTML = '';\n",
              "        dataTable['output_type'] = 'display_data';\n",
              "        await google.colab.output.renderOutput(dataTable, element);\n",
              "        const docLink = document.createElement('div');\n",
              "        docLink.innerHTML = docLinkHtml;\n",
              "        element.appendChild(docLink);\n",
              "      }\n",
              "    </script>\n",
              "  </div>\n",
              "\n",
              "\n",
              "    <div id=\"df-36678f01-235d-4505-ab42-2415a5058ced\">\n",
              "      <button class=\"colab-df-quickchart\" onclick=\"quickchart('df-36678f01-235d-4505-ab42-2415a5058ced')\"\n",
              "                title=\"Suggest charts\"\n",
              "                style=\"display:none;\">\n",
              "\n",
              "<svg xmlns=\"http://www.w3.org/2000/svg\" height=\"24px\"viewBox=\"0 0 24 24\"\n",
              "     width=\"24px\">\n",
              "    <g>\n",
              "        <path d=\"M19 3H5c-1.1 0-2 .9-2 2v14c0 1.1.9 2 2 2h14c1.1 0 2-.9 2-2V5c0-1.1-.9-2-2-2zM9 17H7v-7h2v7zm4 0h-2V7h2v10zm4 0h-2v-4h2v4z\"/>\n",
              "    </g>\n",
              "</svg>\n",
              "      </button>\n",
              "\n",
              "<style>\n",
              "  .colab-df-quickchart {\n",
              "      --bg-color: #E8F0FE;\n",
              "      --fill-color: #1967D2;\n",
              "      --hover-bg-color: #E2EBFA;\n",
              "      --hover-fill-color: #174EA6;\n",
              "      --disabled-fill-color: #AAA;\n",
              "      --disabled-bg-color: #DDD;\n",
              "  }\n",
              "\n",
              "  [theme=dark] .colab-df-quickchart {\n",
              "      --bg-color: #3B4455;\n",
              "      --fill-color: #D2E3FC;\n",
              "      --hover-bg-color: #434B5C;\n",
              "      --hover-fill-color: #FFFFFF;\n",
              "      --disabled-bg-color: #3B4455;\n",
              "      --disabled-fill-color: #666;\n",
              "  }\n",
              "\n",
              "  .colab-df-quickchart {\n",
              "    background-color: var(--bg-color);\n",
              "    border: none;\n",
              "    border-radius: 50%;\n",
              "    cursor: pointer;\n",
              "    display: none;\n",
              "    fill: var(--fill-color);\n",
              "    height: 32px;\n",
              "    padding: 0;\n",
              "    width: 32px;\n",
              "  }\n",
              "\n",
              "  .colab-df-quickchart:hover {\n",
              "    background-color: var(--hover-bg-color);\n",
              "    box-shadow: 0 1px 2px rgba(60, 64, 67, 0.3), 0 1px 3px 1px rgba(60, 64, 67, 0.15);\n",
              "    fill: var(--button-hover-fill-color);\n",
              "  }\n",
              "\n",
              "  .colab-df-quickchart-complete:disabled,\n",
              "  .colab-df-quickchart-complete:disabled:hover {\n",
              "    background-color: var(--disabled-bg-color);\n",
              "    fill: var(--disabled-fill-color);\n",
              "    box-shadow: none;\n",
              "  }\n",
              "\n",
              "  .colab-df-spinner {\n",
              "    border: 2px solid var(--fill-color);\n",
              "    border-color: transparent;\n",
              "    border-bottom-color: var(--fill-color);\n",
              "    animation:\n",
              "      spin 1s steps(1) infinite;\n",
              "  }\n",
              "\n",
              "  @keyframes spin {\n",
              "    0% {\n",
              "      border-color: transparent;\n",
              "      border-bottom-color: var(--fill-color);\n",
              "      border-left-color: var(--fill-color);\n",
              "    }\n",
              "    20% {\n",
              "      border-color: transparent;\n",
              "      border-left-color: var(--fill-color);\n",
              "      border-top-color: var(--fill-color);\n",
              "    }\n",
              "    30% {\n",
              "      border-color: transparent;\n",
              "      border-left-color: var(--fill-color);\n",
              "      border-top-color: var(--fill-color);\n",
              "      border-right-color: var(--fill-color);\n",
              "    }\n",
              "    40% {\n",
              "      border-color: transparent;\n",
              "      border-right-color: var(--fill-color);\n",
              "      border-top-color: var(--fill-color);\n",
              "    }\n",
              "    60% {\n",
              "      border-color: transparent;\n",
              "      border-right-color: var(--fill-color);\n",
              "    }\n",
              "    80% {\n",
              "      border-color: transparent;\n",
              "      border-right-color: var(--fill-color);\n",
              "      border-bottom-color: var(--fill-color);\n",
              "    }\n",
              "    90% {\n",
              "      border-color: transparent;\n",
              "      border-bottom-color: var(--fill-color);\n",
              "    }\n",
              "  }\n",
              "</style>\n",
              "\n",
              "      <script>\n",
              "        async function quickchart(key) {\n",
              "          const quickchartButtonEl =\n",
              "            document.querySelector('#' + key + ' button');\n",
              "          quickchartButtonEl.disabled = true;  // To prevent multiple clicks.\n",
              "          quickchartButtonEl.classList.add('colab-df-spinner');\n",
              "          try {\n",
              "            const charts = await google.colab.kernel.invokeFunction(\n",
              "                'suggestCharts', [key], {});\n",
              "          } catch (error) {\n",
              "            console.error('Error during call to suggestCharts:', error);\n",
              "          }\n",
              "          quickchartButtonEl.classList.remove('colab-df-spinner');\n",
              "          quickchartButtonEl.classList.add('colab-df-quickchart-complete');\n",
              "        }\n",
              "        (() => {\n",
              "          let quickchartButtonEl =\n",
              "            document.querySelector('#df-36678f01-235d-4505-ab42-2415a5058ced button');\n",
              "          quickchartButtonEl.style.display =\n",
              "            google.colab.kernel.accessAllowed ? 'block' : 'none';\n",
              "        })();\n",
              "      </script>\n",
              "    </div>\n",
              "\n",
              "  <div id=\"id_65e86451-70a6-4a38-a786-52d72f340b8b\">\n",
              "    <style>\n",
              "      .colab-df-generate {\n",
              "        background-color: #E8F0FE;\n",
              "        border: none;\n",
              "        border-radius: 50%;\n",
              "        cursor: pointer;\n",
              "        display: none;\n",
              "        fill: #1967D2;\n",
              "        height: 32px;\n",
              "        padding: 0 0 0 0;\n",
              "        width: 32px;\n",
              "      }\n",
              "\n",
              "      .colab-df-generate:hover {\n",
              "        background-color: #E2EBFA;\n",
              "        box-shadow: 0px 1px 2px rgba(60, 64, 67, 0.3), 0px 1px 3px 1px rgba(60, 64, 67, 0.15);\n",
              "        fill: #174EA6;\n",
              "      }\n",
              "\n",
              "      [theme=dark] .colab-df-generate {\n",
              "        background-color: #3B4455;\n",
              "        fill: #D2E3FC;\n",
              "      }\n",
              "\n",
              "      [theme=dark] .colab-df-generate:hover {\n",
              "        background-color: #434B5C;\n",
              "        box-shadow: 0px 1px 3px 1px rgba(0, 0, 0, 0.15);\n",
              "        filter: drop-shadow(0px 1px 2px rgba(0, 0, 0, 0.3));\n",
              "        fill: #FFFFFF;\n",
              "      }\n",
              "    </style>\n",
              "    <button class=\"colab-df-generate\" onclick=\"generateWithVariable('df')\"\n",
              "            title=\"Generate code using this dataframe.\"\n",
              "            style=\"display:none;\">\n",
              "\n",
              "  <svg xmlns=\"http://www.w3.org/2000/svg\" height=\"24px\"viewBox=\"0 0 24 24\"\n",
              "       width=\"24px\">\n",
              "    <path d=\"M7,19H8.4L18.45,9,17,7.55,7,17.6ZM5,21V16.75L18.45,3.32a2,2,0,0,1,2.83,0l1.4,1.43a1.91,1.91,0,0,1,.58,1.4,1.91,1.91,0,0,1-.58,1.4L9.25,21ZM18.45,9,17,7.55Zm-12,3A5.31,5.31,0,0,0,4.9,8.1,5.31,5.31,0,0,0,1,6.5,5.31,5.31,0,0,0,4.9,4.9,5.31,5.31,0,0,0,6.5,1,5.31,5.31,0,0,0,8.1,4.9,5.31,5.31,0,0,0,12,6.5,5.46,5.46,0,0,0,6.5,12Z\"/>\n",
              "  </svg>\n",
              "    </button>\n",
              "    <script>\n",
              "      (() => {\n",
              "      const buttonEl =\n",
              "        document.querySelector('#id_65e86451-70a6-4a38-a786-52d72f340b8b button.colab-df-generate');\n",
              "      buttonEl.style.display =\n",
              "        google.colab.kernel.accessAllowed ? 'block' : 'none';\n",
              "\n",
              "      buttonEl.onclick = () => {\n",
              "        google.colab.notebook.generateWithVariable('df');\n",
              "      }\n",
              "      })();\n",
              "    </script>\n",
              "  </div>\n",
              "\n",
              "    </div>\n",
              "  </div>\n"
            ],
            "application/vnd.google.colaboratory.intrinsic+json": {
              "type": "dataframe",
              "variable_name": "df",
              "summary": "{\n  \"name\": \"df\",\n  \"rows\": 188,\n  \"fields\": [\n    {\n      \"column\": \"country\",\n      \"properties\": {\n        \"dtype\": \"string\",\n        \"num_unique_values\": 188,\n        \"samples\": [\n          \"Vietnam\",\n          \"Syria\",\n          \"Bhutan\"\n        ],\n        \"semantic_type\": \"\",\n        \"description\": \"\"\n      }\n    },\n    {\n      \"column\": \"continent\",\n      \"properties\": {\n        \"dtype\": \"category\",\n        \"num_unique_values\": 6,\n        \"samples\": [\n          \"Asia\",\n          \"Europe\",\n          \"Oceania\"\n        ],\n        \"semantic_type\": \"\",\n        \"description\": \"\"\n      }\n    },\n    {\n      \"column\": \"gdp_per_capita\",\n      \"properties\": {\n        \"dtype\": \"number\",\n        \"std\": 11953,\n        \"min\": 292,\n        \"max\": 63924,\n        \"num_unique_values\": 186,\n        \"samples\": [\n          2017,\n          826,\n          10496\n        ],\n        \"semantic_type\": \"\",\n        \"description\": \"\"\n      }\n    },\n    {\n      \"column\": \"life_expectancy\",\n      \"properties\": {\n        \"dtype\": \"number\",\n        \"std\": 10.298457610670951,\n        \"min\": 38.123000000000005,\n        \"max\": 81.35,\n        \"num_unique_values\": 188,\n        \"samples\": [\n          73.777,\n          73.316,\n          60.307\n        ],\n        \"semantic_type\": \"\",\n        \"description\": \"\"\n      }\n    },\n    {\n      \"column\": \"population\",\n      \"properties\": {\n        \"dtype\": \"number\",\n        \"std\": 123795162,\n        \"min\": 56196,\n        \"max\": 1269116737,\n        \"num_unique_values\": 188,\n        \"samples\": [\n          78758010,\n          15988534,\n          571262\n        ],\n        \"semantic_type\": \"\",\n        \"description\": \"\"\n      }\n    }\n  ]\n}"
            }
          },
          "metadata": {},
          "execution_count": 2
        }
      ]
    },
    {
      "cell_type": "code",
      "source": [
        "df.to_csv (\"https://raw.githubusercontent.com/datajour-gr/DataJournalism/refs/heads/main/Bachelor%20Lessons%202023/Lesson%203/countries.csv\".index=False)"
      ],
      "metadata": {
        "id": "_U_mgpw-SfDM"
      },
      "execution_count": null,
      "outputs": []
    },
    {
      "cell_type": "code",
      "source": [
        "from google.colab import drive\n",
        "drive.mount('/content/drive')"
      ],
      "metadata": {
        "id": "AJXHhsqKTW1S",
        "outputId": "08ee0e7f-0956-44a4-efaa-da8b0aefdeb7",
        "colab": {
          "base_uri": "https://localhost:8080/"
        }
      },
      "execution_count": 6,
      "outputs": [
        {
          "output_type": "stream",
          "name": "stdout",
          "text": [
            "Mounted at /content/drive\n"
          ]
        }
      ]
    },
    {
      "cell_type": "markdown",
      "source": [
        "Ο πίνακας που εμφανίζεται είναι ένα **dataframe** (γι' αυτό και το αποθηκεύσαμε σε μια μεταβλητή με όνομα **df**).\n",
        "\n",
        "* εμφανίζονται οι 5 πρώτες και οι 5 τελευταίες σειρές και ενδιάμεσα υπάρχουν τελίτσες\n",
        "* κάτω από τον πίνακα εμφανίζονται οι διαστάσεις του dataframe (ο αριθμός των σειρών και των στηλών)\n",
        "* ο αριθμός του index αρχίζει από το 0, όπως και στις λίστες"
      ],
      "metadata": {
        "id": "CCxnUtD0d4qo"
      }
    },
    {
      "cell_type": "markdown",
      "source": [
        "**1.2 Αποθήκευση dataframe σαν αρχείο csv στο google drive**\n",
        "\n",
        "* Πατήστε στο εικονίδιο του φακέλου στην αριστερή εργαλειοθήκη στο colab\n",
        "* Ανοίξτε το φάκελο gdrive\n",
        "* Mε mouse over στο όνομα ενός φακέλου εμφανίζονται 3 τελίτσες. Πατώντας τες εμφανίζονται κάποιες λειτουργίες, όπως το New folder και το Copy path\n",
        "* Επιλέξτε το φάκελο μέσα στον οποίο θα σώσετε το csv και αντιγράψτε το url του με τη λειτουργία Copy path\n",
        "* Επικολλήστε το path μέσα στα εισαγωγικά στην παρένθεση στον κώδικα στο παρακάτω code cell\n",
        "* Στο τέλος του path προσθέστε ένα slash (/) και το όνομα που θέλετε να έχει το αρχείο που θα σώσετε.\n",
        "\n",
        "Ο κώδικας θα είναι κάπως έτσι:\n",
        "```\n",
        "df.to_csv(\"/content/gdrive/MyDrive/2023/countries.csv\", index=False)\n",
        "```\n",
        "\n",
        "* Τρέξτε το κελί"
      ],
      "metadata": {
        "id": "ZwiFQ0KpePZl"
      }
    },
    {
      "cell_type": "code",
      "source": [],
      "metadata": {
        "id": "rSbJeb4ca0DN"
      },
      "execution_count": 6,
      "outputs": []
    },
    {
      "cell_type": "markdown",
      "source": [
        "**1.3 Ανάγνωση αρχείου csv από το google drive**\n",
        "\n",
        "* Μέσα στην παρένθεση, μέσα σε εισαγωγικά, επικολλήστε το path του αρχείου csv από το drive σας"
      ],
      "metadata": {
        "id": "gyenxd7LlZov"
      }
    },
    {
      "cell_type": "code",
      "source": [
        "df.to_csv(\"/content/drive/MyDrive/countries.csv\", index=False)\n",
        "df"
      ],
      "metadata": {
        "id": "GffwGytibELq",
        "outputId": "fbaba776-4ed4-4481-dc9e-c31a7bf6b294",
        "colab": {
          "base_uri": "https://localhost:8080/",
          "height": 423
        }
      },
      "execution_count": 17,
      "outputs": [
        {
          "output_type": "execute_result",
          "data": {
            "text/plain": [
              "                 country   continent  gdp_per_capita  life_expectancy  \\\n",
              "0            Afghanistan        Asia             663           54.863   \n",
              "1                Albania      Europe            4195           74.200   \n",
              "2                Algeria      Africa            5098           68.963   \n",
              "3                 Angola      Africa            2446           45.234   \n",
              "4    Antigua and Barbuda  N. America           12738           73.544   \n",
              "..                   ...         ...             ...              ...   \n",
              "183              Vietnam        Asia            1577           73.777   \n",
              "184   West Bank and Gaza        Asia            7586           70.929   \n",
              "185          Yemen, Rep.        Asia            2217           60.404   \n",
              "186               Zambia      Africa            1035           41.802   \n",
              "187             Zimbabwe      Africa             745           43.976   \n",
              "\n",
              "     population  \n",
              "0      22856302  \n",
              "1       3071856  \n",
              "2      30533827  \n",
              "3      13926373  \n",
              "4         77656  \n",
              "..          ...  \n",
              "183    78758010  \n",
              "184     3198560  \n",
              "185    17723186  \n",
              "186    10201562  \n",
              "187    12509477  \n",
              "\n",
              "[188 rows x 5 columns]"
            ],
            "text/html": [
              "\n",
              "  <div id=\"df-1c939157-77f1-475b-ad6b-2802d99c5e36\" class=\"colab-df-container\">\n",
              "    <div>\n",
              "<style scoped>\n",
              "    .dataframe tbody tr th:only-of-type {\n",
              "        vertical-align: middle;\n",
              "    }\n",
              "\n",
              "    .dataframe tbody tr th {\n",
              "        vertical-align: top;\n",
              "    }\n",
              "\n",
              "    .dataframe thead th {\n",
              "        text-align: right;\n",
              "    }\n",
              "</style>\n",
              "<table border=\"1\" class=\"dataframe\">\n",
              "  <thead>\n",
              "    <tr style=\"text-align: right;\">\n",
              "      <th></th>\n",
              "      <th>country</th>\n",
              "      <th>continent</th>\n",
              "      <th>gdp_per_capita</th>\n",
              "      <th>life_expectancy</th>\n",
              "      <th>population</th>\n",
              "    </tr>\n",
              "  </thead>\n",
              "  <tbody>\n",
              "    <tr>\n",
              "      <th>0</th>\n",
              "      <td>Afghanistan</td>\n",
              "      <td>Asia</td>\n",
              "      <td>663</td>\n",
              "      <td>54.863</td>\n",
              "      <td>22856302</td>\n",
              "    </tr>\n",
              "    <tr>\n",
              "      <th>1</th>\n",
              "      <td>Albania</td>\n",
              "      <td>Europe</td>\n",
              "      <td>4195</td>\n",
              "      <td>74.200</td>\n",
              "      <td>3071856</td>\n",
              "    </tr>\n",
              "    <tr>\n",
              "      <th>2</th>\n",
              "      <td>Algeria</td>\n",
              "      <td>Africa</td>\n",
              "      <td>5098</td>\n",
              "      <td>68.963</td>\n",
              "      <td>30533827</td>\n",
              "    </tr>\n",
              "    <tr>\n",
              "      <th>3</th>\n",
              "      <td>Angola</td>\n",
              "      <td>Africa</td>\n",
              "      <td>2446</td>\n",
              "      <td>45.234</td>\n",
              "      <td>13926373</td>\n",
              "    </tr>\n",
              "    <tr>\n",
              "      <th>4</th>\n",
              "      <td>Antigua and Barbuda</td>\n",
              "      <td>N. America</td>\n",
              "      <td>12738</td>\n",
              "      <td>73.544</td>\n",
              "      <td>77656</td>\n",
              "    </tr>\n",
              "    <tr>\n",
              "      <th>...</th>\n",
              "      <td>...</td>\n",
              "      <td>...</td>\n",
              "      <td>...</td>\n",
              "      <td>...</td>\n",
              "      <td>...</td>\n",
              "    </tr>\n",
              "    <tr>\n",
              "      <th>183</th>\n",
              "      <td>Vietnam</td>\n",
              "      <td>Asia</td>\n",
              "      <td>1577</td>\n",
              "      <td>73.777</td>\n",
              "      <td>78758010</td>\n",
              "    </tr>\n",
              "    <tr>\n",
              "      <th>184</th>\n",
              "      <td>West Bank and Gaza</td>\n",
              "      <td>Asia</td>\n",
              "      <td>7586</td>\n",
              "      <td>70.929</td>\n",
              "      <td>3198560</td>\n",
              "    </tr>\n",
              "    <tr>\n",
              "      <th>185</th>\n",
              "      <td>Yemen, Rep.</td>\n",
              "      <td>Asia</td>\n",
              "      <td>2217</td>\n",
              "      <td>60.404</td>\n",
              "      <td>17723186</td>\n",
              "    </tr>\n",
              "    <tr>\n",
              "      <th>186</th>\n",
              "      <td>Zambia</td>\n",
              "      <td>Africa</td>\n",
              "      <td>1035</td>\n",
              "      <td>41.802</td>\n",
              "      <td>10201562</td>\n",
              "    </tr>\n",
              "    <tr>\n",
              "      <th>187</th>\n",
              "      <td>Zimbabwe</td>\n",
              "      <td>Africa</td>\n",
              "      <td>745</td>\n",
              "      <td>43.976</td>\n",
              "      <td>12509477</td>\n",
              "    </tr>\n",
              "  </tbody>\n",
              "</table>\n",
              "<p>188 rows × 5 columns</p>\n",
              "</div>\n",
              "    <div class=\"colab-df-buttons\">\n",
              "\n",
              "  <div class=\"colab-df-container\">\n",
              "    <button class=\"colab-df-convert\" onclick=\"convertToInteractive('df-1c939157-77f1-475b-ad6b-2802d99c5e36')\"\n",
              "            title=\"Convert this dataframe to an interactive table.\"\n",
              "            style=\"display:none;\">\n",
              "\n",
              "  <svg xmlns=\"http://www.w3.org/2000/svg\" height=\"24px\" viewBox=\"0 -960 960 960\">\n",
              "    <path d=\"M120-120v-720h720v720H120Zm60-500h600v-160H180v160Zm220 220h160v-160H400v160Zm0 220h160v-160H400v160ZM180-400h160v-160H180v160Zm440 0h160v-160H620v160ZM180-180h160v-160H180v160Zm440 0h160v-160H620v160Z\"/>\n",
              "  </svg>\n",
              "    </button>\n",
              "\n",
              "  <style>\n",
              "    .colab-df-container {\n",
              "      display:flex;\n",
              "      gap: 12px;\n",
              "    }\n",
              "\n",
              "    .colab-df-convert {\n",
              "      background-color: #E8F0FE;\n",
              "      border: none;\n",
              "      border-radius: 50%;\n",
              "      cursor: pointer;\n",
              "      display: none;\n",
              "      fill: #1967D2;\n",
              "      height: 32px;\n",
              "      padding: 0 0 0 0;\n",
              "      width: 32px;\n",
              "    }\n",
              "\n",
              "    .colab-df-convert:hover {\n",
              "      background-color: #E2EBFA;\n",
              "      box-shadow: 0px 1px 2px rgba(60, 64, 67, 0.3), 0px 1px 3px 1px rgba(60, 64, 67, 0.15);\n",
              "      fill: #174EA6;\n",
              "    }\n",
              "\n",
              "    .colab-df-buttons div {\n",
              "      margin-bottom: 4px;\n",
              "    }\n",
              "\n",
              "    [theme=dark] .colab-df-convert {\n",
              "      background-color: #3B4455;\n",
              "      fill: #D2E3FC;\n",
              "    }\n",
              "\n",
              "    [theme=dark] .colab-df-convert:hover {\n",
              "      background-color: #434B5C;\n",
              "      box-shadow: 0px 1px 3px 1px rgba(0, 0, 0, 0.15);\n",
              "      filter: drop-shadow(0px 1px 2px rgba(0, 0, 0, 0.3));\n",
              "      fill: #FFFFFF;\n",
              "    }\n",
              "  </style>\n",
              "\n",
              "    <script>\n",
              "      const buttonEl =\n",
              "        document.querySelector('#df-1c939157-77f1-475b-ad6b-2802d99c5e36 button.colab-df-convert');\n",
              "      buttonEl.style.display =\n",
              "        google.colab.kernel.accessAllowed ? 'block' : 'none';\n",
              "\n",
              "      async function convertToInteractive(key) {\n",
              "        const element = document.querySelector('#df-1c939157-77f1-475b-ad6b-2802d99c5e36');\n",
              "        const dataTable =\n",
              "          await google.colab.kernel.invokeFunction('convertToInteractive',\n",
              "                                                    [key], {});\n",
              "        if (!dataTable) return;\n",
              "\n",
              "        const docLinkHtml = 'Like what you see? Visit the ' +\n",
              "          '<a target=\"_blank\" href=https://colab.research.google.com/notebooks/data_table.ipynb>data table notebook</a>'\n",
              "          + ' to learn more about interactive tables.';\n",
              "        element.innerHTML = '';\n",
              "        dataTable['output_type'] = 'display_data';\n",
              "        await google.colab.output.renderOutput(dataTable, element);\n",
              "        const docLink = document.createElement('div');\n",
              "        docLink.innerHTML = docLinkHtml;\n",
              "        element.appendChild(docLink);\n",
              "      }\n",
              "    </script>\n",
              "  </div>\n",
              "\n",
              "\n",
              "    <div id=\"df-88654ea4-12c6-4e7c-aa97-321bdc622504\">\n",
              "      <button class=\"colab-df-quickchart\" onclick=\"quickchart('df-88654ea4-12c6-4e7c-aa97-321bdc622504')\"\n",
              "                title=\"Suggest charts\"\n",
              "                style=\"display:none;\">\n",
              "\n",
              "<svg xmlns=\"http://www.w3.org/2000/svg\" height=\"24px\"viewBox=\"0 0 24 24\"\n",
              "     width=\"24px\">\n",
              "    <g>\n",
              "        <path d=\"M19 3H5c-1.1 0-2 .9-2 2v14c0 1.1.9 2 2 2h14c1.1 0 2-.9 2-2V5c0-1.1-.9-2-2-2zM9 17H7v-7h2v7zm4 0h-2V7h2v10zm4 0h-2v-4h2v4z\"/>\n",
              "    </g>\n",
              "</svg>\n",
              "      </button>\n",
              "\n",
              "<style>\n",
              "  .colab-df-quickchart {\n",
              "      --bg-color: #E8F0FE;\n",
              "      --fill-color: #1967D2;\n",
              "      --hover-bg-color: #E2EBFA;\n",
              "      --hover-fill-color: #174EA6;\n",
              "      --disabled-fill-color: #AAA;\n",
              "      --disabled-bg-color: #DDD;\n",
              "  }\n",
              "\n",
              "  [theme=dark] .colab-df-quickchart {\n",
              "      --bg-color: #3B4455;\n",
              "      --fill-color: #D2E3FC;\n",
              "      --hover-bg-color: #434B5C;\n",
              "      --hover-fill-color: #FFFFFF;\n",
              "      --disabled-bg-color: #3B4455;\n",
              "      --disabled-fill-color: #666;\n",
              "  }\n",
              "\n",
              "  .colab-df-quickchart {\n",
              "    background-color: var(--bg-color);\n",
              "    border: none;\n",
              "    border-radius: 50%;\n",
              "    cursor: pointer;\n",
              "    display: none;\n",
              "    fill: var(--fill-color);\n",
              "    height: 32px;\n",
              "    padding: 0;\n",
              "    width: 32px;\n",
              "  }\n",
              "\n",
              "  .colab-df-quickchart:hover {\n",
              "    background-color: var(--hover-bg-color);\n",
              "    box-shadow: 0 1px 2px rgba(60, 64, 67, 0.3), 0 1px 3px 1px rgba(60, 64, 67, 0.15);\n",
              "    fill: var(--button-hover-fill-color);\n",
              "  }\n",
              "\n",
              "  .colab-df-quickchart-complete:disabled,\n",
              "  .colab-df-quickchart-complete:disabled:hover {\n",
              "    background-color: var(--disabled-bg-color);\n",
              "    fill: var(--disabled-fill-color);\n",
              "    box-shadow: none;\n",
              "  }\n",
              "\n",
              "  .colab-df-spinner {\n",
              "    border: 2px solid var(--fill-color);\n",
              "    border-color: transparent;\n",
              "    border-bottom-color: var(--fill-color);\n",
              "    animation:\n",
              "      spin 1s steps(1) infinite;\n",
              "  }\n",
              "\n",
              "  @keyframes spin {\n",
              "    0% {\n",
              "      border-color: transparent;\n",
              "      border-bottom-color: var(--fill-color);\n",
              "      border-left-color: var(--fill-color);\n",
              "    }\n",
              "    20% {\n",
              "      border-color: transparent;\n",
              "      border-left-color: var(--fill-color);\n",
              "      border-top-color: var(--fill-color);\n",
              "    }\n",
              "    30% {\n",
              "      border-color: transparent;\n",
              "      border-left-color: var(--fill-color);\n",
              "      border-top-color: var(--fill-color);\n",
              "      border-right-color: var(--fill-color);\n",
              "    }\n",
              "    40% {\n",
              "      border-color: transparent;\n",
              "      border-right-color: var(--fill-color);\n",
              "      border-top-color: var(--fill-color);\n",
              "    }\n",
              "    60% {\n",
              "      border-color: transparent;\n",
              "      border-right-color: var(--fill-color);\n",
              "    }\n",
              "    80% {\n",
              "      border-color: transparent;\n",
              "      border-right-color: var(--fill-color);\n",
              "      border-bottom-color: var(--fill-color);\n",
              "    }\n",
              "    90% {\n",
              "      border-color: transparent;\n",
              "      border-bottom-color: var(--fill-color);\n",
              "    }\n",
              "  }\n",
              "</style>\n",
              "\n",
              "      <script>\n",
              "        async function quickchart(key) {\n",
              "          const quickchartButtonEl =\n",
              "            document.querySelector('#' + key + ' button');\n",
              "          quickchartButtonEl.disabled = true;  // To prevent multiple clicks.\n",
              "          quickchartButtonEl.classList.add('colab-df-spinner');\n",
              "          try {\n",
              "            const charts = await google.colab.kernel.invokeFunction(\n",
              "                'suggestCharts', [key], {});\n",
              "          } catch (error) {\n",
              "            console.error('Error during call to suggestCharts:', error);\n",
              "          }\n",
              "          quickchartButtonEl.classList.remove('colab-df-spinner');\n",
              "          quickchartButtonEl.classList.add('colab-df-quickchart-complete');\n",
              "        }\n",
              "        (() => {\n",
              "          let quickchartButtonEl =\n",
              "            document.querySelector('#df-88654ea4-12c6-4e7c-aa97-321bdc622504 button');\n",
              "          quickchartButtonEl.style.display =\n",
              "            google.colab.kernel.accessAllowed ? 'block' : 'none';\n",
              "        })();\n",
              "      </script>\n",
              "    </div>\n",
              "\n",
              "  <div id=\"id_e098e32d-5e88-4f92-a629-950f86a3d8a9\">\n",
              "    <style>\n",
              "      .colab-df-generate {\n",
              "        background-color: #E8F0FE;\n",
              "        border: none;\n",
              "        border-radius: 50%;\n",
              "        cursor: pointer;\n",
              "        display: none;\n",
              "        fill: #1967D2;\n",
              "        height: 32px;\n",
              "        padding: 0 0 0 0;\n",
              "        width: 32px;\n",
              "      }\n",
              "\n",
              "      .colab-df-generate:hover {\n",
              "        background-color: #E2EBFA;\n",
              "        box-shadow: 0px 1px 2px rgba(60, 64, 67, 0.3), 0px 1px 3px 1px rgba(60, 64, 67, 0.15);\n",
              "        fill: #174EA6;\n",
              "      }\n",
              "\n",
              "      [theme=dark] .colab-df-generate {\n",
              "        background-color: #3B4455;\n",
              "        fill: #D2E3FC;\n",
              "      }\n",
              "\n",
              "      [theme=dark] .colab-df-generate:hover {\n",
              "        background-color: #434B5C;\n",
              "        box-shadow: 0px 1px 3px 1px rgba(0, 0, 0, 0.15);\n",
              "        filter: drop-shadow(0px 1px 2px rgba(0, 0, 0, 0.3));\n",
              "        fill: #FFFFFF;\n",
              "      }\n",
              "    </style>\n",
              "    <button class=\"colab-df-generate\" onclick=\"generateWithVariable('df')\"\n",
              "            title=\"Generate code using this dataframe.\"\n",
              "            style=\"display:none;\">\n",
              "\n",
              "  <svg xmlns=\"http://www.w3.org/2000/svg\" height=\"24px\"viewBox=\"0 0 24 24\"\n",
              "       width=\"24px\">\n",
              "    <path d=\"M7,19H8.4L18.45,9,17,7.55,7,17.6ZM5,21V16.75L18.45,3.32a2,2,0,0,1,2.83,0l1.4,1.43a1.91,1.91,0,0,1,.58,1.4,1.91,1.91,0,0,1-.58,1.4L9.25,21ZM18.45,9,17,7.55Zm-12,3A5.31,5.31,0,0,0,4.9,8.1,5.31,5.31,0,0,0,1,6.5,5.31,5.31,0,0,0,4.9,4.9,5.31,5.31,0,0,0,6.5,1,5.31,5.31,0,0,0,8.1,4.9,5.31,5.31,0,0,0,12,6.5,5.46,5.46,0,0,0,6.5,12Z\"/>\n",
              "  </svg>\n",
              "    </button>\n",
              "    <script>\n",
              "      (() => {\n",
              "      const buttonEl =\n",
              "        document.querySelector('#id_e098e32d-5e88-4f92-a629-950f86a3d8a9 button.colab-df-generate');\n",
              "      buttonEl.style.display =\n",
              "        google.colab.kernel.accessAllowed ? 'block' : 'none';\n",
              "\n",
              "      buttonEl.onclick = () => {\n",
              "        google.colab.notebook.generateWithVariable('df');\n",
              "      }\n",
              "      })();\n",
              "    </script>\n",
              "  </div>\n",
              "\n",
              "    </div>\n",
              "  </div>\n"
            ],
            "application/vnd.google.colaboratory.intrinsic+json": {
              "type": "dataframe",
              "variable_name": "df",
              "summary": "{\n  \"name\": \"df\",\n  \"rows\": 188,\n  \"fields\": [\n    {\n      \"column\": \"country\",\n      \"properties\": {\n        \"dtype\": \"string\",\n        \"num_unique_values\": 188,\n        \"samples\": [\n          \"Vietnam\",\n          \"Syria\",\n          \"Bhutan\"\n        ],\n        \"semantic_type\": \"\",\n        \"description\": \"\"\n      }\n    },\n    {\n      \"column\": \"continent\",\n      \"properties\": {\n        \"dtype\": \"category\",\n        \"num_unique_values\": 6,\n        \"samples\": [\n          \"Asia\",\n          \"Europe\",\n          \"Oceania\"\n        ],\n        \"semantic_type\": \"\",\n        \"description\": \"\"\n      }\n    },\n    {\n      \"column\": \"gdp_per_capita\",\n      \"properties\": {\n        \"dtype\": \"number\",\n        \"std\": 11953,\n        \"min\": 292,\n        \"max\": 63924,\n        \"num_unique_values\": 186,\n        \"samples\": [\n          2017,\n          826,\n          10496\n        ],\n        \"semantic_type\": \"\",\n        \"description\": \"\"\n      }\n    },\n    {\n      \"column\": \"life_expectancy\",\n      \"properties\": {\n        \"dtype\": \"number\",\n        \"std\": 10.298457610670951,\n        \"min\": 38.123000000000005,\n        \"max\": 81.35,\n        \"num_unique_values\": 188,\n        \"samples\": [\n          73.777,\n          73.316,\n          60.307\n        ],\n        \"semantic_type\": \"\",\n        \"description\": \"\"\n      }\n    },\n    {\n      \"column\": \"population\",\n      \"properties\": {\n        \"dtype\": \"number\",\n        \"std\": 123795162,\n        \"min\": 56196,\n        \"max\": 1269116737,\n        \"num_unique_values\": 188,\n        \"samples\": [\n          78758010,\n          15988534,\n          571262\n        ],\n        \"semantic_type\": \"\",\n        \"description\": \"\"\n      }\n    }\n  ]\n}"
            }
          },
          "metadata": {},
          "execution_count": 17
        }
      ]
    },
    {
      "cell_type": "code",
      "source": [
        "df= pd.read_csv(\"/content/drive/MyDrive/countries.csv\") #με το head βλέπω τις 5 πρώτες γραμμές , με το tale βλέπω τις 5 τελευταίες\n",
        "df.head(1) #βλέπω τη συγκεκριμένη γραμμή\n",
        "df.shape\n",
        "df.columns # τα ονόματα της στήλης"
      ],
      "metadata": {
        "id": "WOBzkpqNYDzt",
        "outputId": "296772ff-e4fe-485e-8ed9-d18b988d3d76",
        "colab": {
          "base_uri": "https://localhost:8080/"
        }
      },
      "execution_count": 22,
      "outputs": [
        {
          "output_type": "execute_result",
          "data": {
            "text/plain": [
              "Index(['country', 'continent', 'gdp_per_capita', 'life_expectancy',\n",
              "       'population'],\n",
              "      dtype='object')"
            ]
          },
          "metadata": {},
          "execution_count": 22
        }
      ]
    },
    {
      "cell_type": "markdown",
      "source": [
        "---\n",
        "### **2. Επισκόπηση του dataframe**"
      ],
      "metadata": {
        "id": "kcRmQ20XmWqa"
      }
    },
    {
      "cell_type": "markdown",
      "source": [
        "**2.1 head() - πρώτες γραμμές**"
      ],
      "metadata": {
        "id": "YCv3wAeRn-9D"
      }
    },
    {
      "cell_type": "code",
      "source": [
        "# με το head() βλέπουμε τις πρώτες γραμμές\n",
        "# μέσα στην παρένθεση μπορούμε να ορίσουμε πόσες\n",
        "# το default (καμία τιμή) είναι 5\n",
        "df.head()"
      ],
      "metadata": {
        "id": "Wwr17HOMnDcK"
      },
      "execution_count": null,
      "outputs": []
    },
    {
      "cell_type": "markdown",
      "source": [
        "**2.2 tail() - τελευταίες γραμμές**"
      ],
      "metadata": {
        "id": "ssqvDTqZoLOO"
      }
    },
    {
      "cell_type": "code",
      "source": [
        "# με το tail() βλέπουμε τις τελευταίες γραμμές\n",
        "# βάζοντας τον αριθμό 3 μέσα στην παρένθεση, ζητάμε να μας δείξει τις 3 τελευταίες\n",
        "df.tail(3)"
      ],
      "metadata": {
        "id": "7vbxXFRknskw"
      },
      "execution_count": null,
      "outputs": []
    },
    {
      "cell_type": "markdown",
      "source": [
        "**2.3 shape - διαστάσεις του dataframe (αριθμός σειρών, αριθμός στηλών)**"
      ],
      "metadata": {
        "id": "OI3r1BgAB0-2"
      }
    },
    {
      "cell_type": "code",
      "source": [
        "df.shape"
      ],
      "metadata": {
        "id": "4zUiVZpCCClh"
      },
      "execution_count": null,
      "outputs": []
    },
    {
      "cell_type": "markdown",
      "source": [
        "---\n",
        "**Άσκηση 1**: Πώς θα μπορούσαμε να γράψουμε τον κώδικα σε ένα κελί ώστε να μας δώσει στο output ταυτόχρονα το shape και το head?\n"
      ],
      "metadata": {
        "id": "MNovo4FH3u7u"
      }
    },
    {
      "cell_type": "code",
      "source": [],
      "metadata": {
        "id": "Zr6nYyJw3gxV"
      },
      "execution_count": null,
      "outputs": []
    },
    {
      "cell_type": "markdown",
      "source": [
        "---"
      ],
      "metadata": {
        "id": "Z6qCivWU45r-"
      }
    },
    {
      "cell_type": "markdown",
      "source": [
        "**2.4 columns - ονόματα στηλών**"
      ],
      "metadata": {
        "id": "LfgZBeyMq-Z3"
      }
    },
    {
      "cell_type": "code",
      "source": [
        "df.columns"
      ],
      "metadata": {
        "id": "JPErSLH2q9Mh"
      },
      "execution_count": null,
      "outputs": []
    },
    {
      "cell_type": "markdown",
      "source": [
        "**2.5 dtypes - τύπος δεδομένων σε κάθε στήλη**"
      ],
      "metadata": {
        "id": "GenfqiHNrjAJ"
      }
    },
    {
      "cell_type": "code",
      "source": [
        "df.dtypes\n",
        "\n",
        "# object σημαίνει συμβολοσειρά (αλλά ΔΕΝ είναι string)"
      ],
      "metadata": {
        "id": "jE3YuCgMrwbo",
        "outputId": "7f287a32-1bd6-4932-96e1-bc19f7a94665",
        "colab": {
          "base_uri": "https://localhost:8080/",
          "height": 241
        }
      },
      "execution_count": 24,
      "outputs": [
        {
          "output_type": "execute_result",
          "data": {
            "text/plain": [
              "country             object\n",
              "continent           object\n",
              "gdp_per_capita       int64\n",
              "life_expectancy    float64\n",
              "population           int64\n",
              "dtype: object"
            ],
            "text/html": [
              "<div>\n",
              "<style scoped>\n",
              "    .dataframe tbody tr th:only-of-type {\n",
              "        vertical-align: middle;\n",
              "    }\n",
              "\n",
              "    .dataframe tbody tr th {\n",
              "        vertical-align: top;\n",
              "    }\n",
              "\n",
              "    .dataframe thead th {\n",
              "        text-align: right;\n",
              "    }\n",
              "</style>\n",
              "<table border=\"1\" class=\"dataframe\">\n",
              "  <thead>\n",
              "    <tr style=\"text-align: right;\">\n",
              "      <th></th>\n",
              "      <th>0</th>\n",
              "    </tr>\n",
              "  </thead>\n",
              "  <tbody>\n",
              "    <tr>\n",
              "      <th>country</th>\n",
              "      <td>object</td>\n",
              "    </tr>\n",
              "    <tr>\n",
              "      <th>continent</th>\n",
              "      <td>object</td>\n",
              "    </tr>\n",
              "    <tr>\n",
              "      <th>gdp_per_capita</th>\n",
              "      <td>int64</td>\n",
              "    </tr>\n",
              "    <tr>\n",
              "      <th>life_expectancy</th>\n",
              "      <td>float64</td>\n",
              "    </tr>\n",
              "    <tr>\n",
              "      <th>population</th>\n",
              "      <td>int64</td>\n",
              "    </tr>\n",
              "  </tbody>\n",
              "</table>\n",
              "</div><br><label><b>dtype:</b> object</label>"
            ]
          },
          "metadata": {},
          "execution_count": 24
        }
      ]
    },
    {
      "cell_type": "markdown",
      "source": [
        "**2.6 describe() - στατιστικά μεγέθη** (για στήλες με αριθμούς - όλες οι στήλες)"
      ],
      "metadata": {
        "id": "ATGXo7blsoaB"
      }
    },
    {
      "cell_type": "code",
      "source": [
        "df.describe() #στήλες με αριθμητικά δεδομένη φέρει στατιστικά μεγέθη"
      ],
      "metadata": {
        "id": "x5tlXbGJsbrt",
        "outputId": "e2ea646c-9f97-498f-88d9-bbae2a85ca24",
        "colab": {
          "base_uri": "https://localhost:8080/",
          "height": 300
        }
      },
      "execution_count": 23,
      "outputs": [
        {
          "output_type": "execute_result",
          "data": {
            "text/plain": [
              "       gdp_per_capita  life_expectancy    population\n",
              "count      188.000000       188.000000  1.880000e+02\n",
              "mean      9977.558511        66.501536  3.252682e+07\n",
              "std      11953.393378        10.298458  1.237952e+08\n",
              "min        292.000000        38.123000  5.619600e+04\n",
              "25%       1732.500000        59.663750  2.003170e+06\n",
              "50%       5290.500000        70.041500  6.888970e+06\n",
              "75%      12701.250000        74.134500  2.218517e+07\n",
              "max      63924.000000        81.350000  1.269117e+09"
            ],
            "text/html": [
              "\n",
              "  <div id=\"df-752ae490-faa5-4b1b-88ec-c33077b509bb\" class=\"colab-df-container\">\n",
              "    <div>\n",
              "<style scoped>\n",
              "    .dataframe tbody tr th:only-of-type {\n",
              "        vertical-align: middle;\n",
              "    }\n",
              "\n",
              "    .dataframe tbody tr th {\n",
              "        vertical-align: top;\n",
              "    }\n",
              "\n",
              "    .dataframe thead th {\n",
              "        text-align: right;\n",
              "    }\n",
              "</style>\n",
              "<table border=\"1\" class=\"dataframe\">\n",
              "  <thead>\n",
              "    <tr style=\"text-align: right;\">\n",
              "      <th></th>\n",
              "      <th>gdp_per_capita</th>\n",
              "      <th>life_expectancy</th>\n",
              "      <th>population</th>\n",
              "    </tr>\n",
              "  </thead>\n",
              "  <tbody>\n",
              "    <tr>\n",
              "      <th>count</th>\n",
              "      <td>188.000000</td>\n",
              "      <td>188.000000</td>\n",
              "      <td>1.880000e+02</td>\n",
              "    </tr>\n",
              "    <tr>\n",
              "      <th>mean</th>\n",
              "      <td>9977.558511</td>\n",
              "      <td>66.501536</td>\n",
              "      <td>3.252682e+07</td>\n",
              "    </tr>\n",
              "    <tr>\n",
              "      <th>std</th>\n",
              "      <td>11953.393378</td>\n",
              "      <td>10.298458</td>\n",
              "      <td>1.237952e+08</td>\n",
              "    </tr>\n",
              "    <tr>\n",
              "      <th>min</th>\n",
              "      <td>292.000000</td>\n",
              "      <td>38.123000</td>\n",
              "      <td>5.619600e+04</td>\n",
              "    </tr>\n",
              "    <tr>\n",
              "      <th>25%</th>\n",
              "      <td>1732.500000</td>\n",
              "      <td>59.663750</td>\n",
              "      <td>2.003170e+06</td>\n",
              "    </tr>\n",
              "    <tr>\n",
              "      <th>50%</th>\n",
              "      <td>5290.500000</td>\n",
              "      <td>70.041500</td>\n",
              "      <td>6.888970e+06</td>\n",
              "    </tr>\n",
              "    <tr>\n",
              "      <th>75%</th>\n",
              "      <td>12701.250000</td>\n",
              "      <td>74.134500</td>\n",
              "      <td>2.218517e+07</td>\n",
              "    </tr>\n",
              "    <tr>\n",
              "      <th>max</th>\n",
              "      <td>63924.000000</td>\n",
              "      <td>81.350000</td>\n",
              "      <td>1.269117e+09</td>\n",
              "    </tr>\n",
              "  </tbody>\n",
              "</table>\n",
              "</div>\n",
              "    <div class=\"colab-df-buttons\">\n",
              "\n",
              "  <div class=\"colab-df-container\">\n",
              "    <button class=\"colab-df-convert\" onclick=\"convertToInteractive('df-752ae490-faa5-4b1b-88ec-c33077b509bb')\"\n",
              "            title=\"Convert this dataframe to an interactive table.\"\n",
              "            style=\"display:none;\">\n",
              "\n",
              "  <svg xmlns=\"http://www.w3.org/2000/svg\" height=\"24px\" viewBox=\"0 -960 960 960\">\n",
              "    <path d=\"M120-120v-720h720v720H120Zm60-500h600v-160H180v160Zm220 220h160v-160H400v160Zm0 220h160v-160H400v160ZM180-400h160v-160H180v160Zm440 0h160v-160H620v160ZM180-180h160v-160H180v160Zm440 0h160v-160H620v160Z\"/>\n",
              "  </svg>\n",
              "    </button>\n",
              "\n",
              "  <style>\n",
              "    .colab-df-container {\n",
              "      display:flex;\n",
              "      gap: 12px;\n",
              "    }\n",
              "\n",
              "    .colab-df-convert {\n",
              "      background-color: #E8F0FE;\n",
              "      border: none;\n",
              "      border-radius: 50%;\n",
              "      cursor: pointer;\n",
              "      display: none;\n",
              "      fill: #1967D2;\n",
              "      height: 32px;\n",
              "      padding: 0 0 0 0;\n",
              "      width: 32px;\n",
              "    }\n",
              "\n",
              "    .colab-df-convert:hover {\n",
              "      background-color: #E2EBFA;\n",
              "      box-shadow: 0px 1px 2px rgba(60, 64, 67, 0.3), 0px 1px 3px 1px rgba(60, 64, 67, 0.15);\n",
              "      fill: #174EA6;\n",
              "    }\n",
              "\n",
              "    .colab-df-buttons div {\n",
              "      margin-bottom: 4px;\n",
              "    }\n",
              "\n",
              "    [theme=dark] .colab-df-convert {\n",
              "      background-color: #3B4455;\n",
              "      fill: #D2E3FC;\n",
              "    }\n",
              "\n",
              "    [theme=dark] .colab-df-convert:hover {\n",
              "      background-color: #434B5C;\n",
              "      box-shadow: 0px 1px 3px 1px rgba(0, 0, 0, 0.15);\n",
              "      filter: drop-shadow(0px 1px 2px rgba(0, 0, 0, 0.3));\n",
              "      fill: #FFFFFF;\n",
              "    }\n",
              "  </style>\n",
              "\n",
              "    <script>\n",
              "      const buttonEl =\n",
              "        document.querySelector('#df-752ae490-faa5-4b1b-88ec-c33077b509bb button.colab-df-convert');\n",
              "      buttonEl.style.display =\n",
              "        google.colab.kernel.accessAllowed ? 'block' : 'none';\n",
              "\n",
              "      async function convertToInteractive(key) {\n",
              "        const element = document.querySelector('#df-752ae490-faa5-4b1b-88ec-c33077b509bb');\n",
              "        const dataTable =\n",
              "          await google.colab.kernel.invokeFunction('convertToInteractive',\n",
              "                                                    [key], {});\n",
              "        if (!dataTable) return;\n",
              "\n",
              "        const docLinkHtml = 'Like what you see? Visit the ' +\n",
              "          '<a target=\"_blank\" href=https://colab.research.google.com/notebooks/data_table.ipynb>data table notebook</a>'\n",
              "          + ' to learn more about interactive tables.';\n",
              "        element.innerHTML = '';\n",
              "        dataTable['output_type'] = 'display_data';\n",
              "        await google.colab.output.renderOutput(dataTable, element);\n",
              "        const docLink = document.createElement('div');\n",
              "        docLink.innerHTML = docLinkHtml;\n",
              "        element.appendChild(docLink);\n",
              "      }\n",
              "    </script>\n",
              "  </div>\n",
              "\n",
              "\n",
              "    <div id=\"df-7a1d4cba-b337-472e-8374-80fe9b3fc1ad\">\n",
              "      <button class=\"colab-df-quickchart\" onclick=\"quickchart('df-7a1d4cba-b337-472e-8374-80fe9b3fc1ad')\"\n",
              "                title=\"Suggest charts\"\n",
              "                style=\"display:none;\">\n",
              "\n",
              "<svg xmlns=\"http://www.w3.org/2000/svg\" height=\"24px\"viewBox=\"0 0 24 24\"\n",
              "     width=\"24px\">\n",
              "    <g>\n",
              "        <path d=\"M19 3H5c-1.1 0-2 .9-2 2v14c0 1.1.9 2 2 2h14c1.1 0 2-.9 2-2V5c0-1.1-.9-2-2-2zM9 17H7v-7h2v7zm4 0h-2V7h2v10zm4 0h-2v-4h2v4z\"/>\n",
              "    </g>\n",
              "</svg>\n",
              "      </button>\n",
              "\n",
              "<style>\n",
              "  .colab-df-quickchart {\n",
              "      --bg-color: #E8F0FE;\n",
              "      --fill-color: #1967D2;\n",
              "      --hover-bg-color: #E2EBFA;\n",
              "      --hover-fill-color: #174EA6;\n",
              "      --disabled-fill-color: #AAA;\n",
              "      --disabled-bg-color: #DDD;\n",
              "  }\n",
              "\n",
              "  [theme=dark] .colab-df-quickchart {\n",
              "      --bg-color: #3B4455;\n",
              "      --fill-color: #D2E3FC;\n",
              "      --hover-bg-color: #434B5C;\n",
              "      --hover-fill-color: #FFFFFF;\n",
              "      --disabled-bg-color: #3B4455;\n",
              "      --disabled-fill-color: #666;\n",
              "  }\n",
              "\n",
              "  .colab-df-quickchart {\n",
              "    background-color: var(--bg-color);\n",
              "    border: none;\n",
              "    border-radius: 50%;\n",
              "    cursor: pointer;\n",
              "    display: none;\n",
              "    fill: var(--fill-color);\n",
              "    height: 32px;\n",
              "    padding: 0;\n",
              "    width: 32px;\n",
              "  }\n",
              "\n",
              "  .colab-df-quickchart:hover {\n",
              "    background-color: var(--hover-bg-color);\n",
              "    box-shadow: 0 1px 2px rgba(60, 64, 67, 0.3), 0 1px 3px 1px rgba(60, 64, 67, 0.15);\n",
              "    fill: var(--button-hover-fill-color);\n",
              "  }\n",
              "\n",
              "  .colab-df-quickchart-complete:disabled,\n",
              "  .colab-df-quickchart-complete:disabled:hover {\n",
              "    background-color: var(--disabled-bg-color);\n",
              "    fill: var(--disabled-fill-color);\n",
              "    box-shadow: none;\n",
              "  }\n",
              "\n",
              "  .colab-df-spinner {\n",
              "    border: 2px solid var(--fill-color);\n",
              "    border-color: transparent;\n",
              "    border-bottom-color: var(--fill-color);\n",
              "    animation:\n",
              "      spin 1s steps(1) infinite;\n",
              "  }\n",
              "\n",
              "  @keyframes spin {\n",
              "    0% {\n",
              "      border-color: transparent;\n",
              "      border-bottom-color: var(--fill-color);\n",
              "      border-left-color: var(--fill-color);\n",
              "    }\n",
              "    20% {\n",
              "      border-color: transparent;\n",
              "      border-left-color: var(--fill-color);\n",
              "      border-top-color: var(--fill-color);\n",
              "    }\n",
              "    30% {\n",
              "      border-color: transparent;\n",
              "      border-left-color: var(--fill-color);\n",
              "      border-top-color: var(--fill-color);\n",
              "      border-right-color: var(--fill-color);\n",
              "    }\n",
              "    40% {\n",
              "      border-color: transparent;\n",
              "      border-right-color: var(--fill-color);\n",
              "      border-top-color: var(--fill-color);\n",
              "    }\n",
              "    60% {\n",
              "      border-color: transparent;\n",
              "      border-right-color: var(--fill-color);\n",
              "    }\n",
              "    80% {\n",
              "      border-color: transparent;\n",
              "      border-right-color: var(--fill-color);\n",
              "      border-bottom-color: var(--fill-color);\n",
              "    }\n",
              "    90% {\n",
              "      border-color: transparent;\n",
              "      border-bottom-color: var(--fill-color);\n",
              "    }\n",
              "  }\n",
              "</style>\n",
              "\n",
              "      <script>\n",
              "        async function quickchart(key) {\n",
              "          const quickchartButtonEl =\n",
              "            document.querySelector('#' + key + ' button');\n",
              "          quickchartButtonEl.disabled = true;  // To prevent multiple clicks.\n",
              "          quickchartButtonEl.classList.add('colab-df-spinner');\n",
              "          try {\n",
              "            const charts = await google.colab.kernel.invokeFunction(\n",
              "                'suggestCharts', [key], {});\n",
              "          } catch (error) {\n",
              "            console.error('Error during call to suggestCharts:', error);\n",
              "          }\n",
              "          quickchartButtonEl.classList.remove('colab-df-spinner');\n",
              "          quickchartButtonEl.classList.add('colab-df-quickchart-complete');\n",
              "        }\n",
              "        (() => {\n",
              "          let quickchartButtonEl =\n",
              "            document.querySelector('#df-7a1d4cba-b337-472e-8374-80fe9b3fc1ad button');\n",
              "          quickchartButtonEl.style.display =\n",
              "            google.colab.kernel.accessAllowed ? 'block' : 'none';\n",
              "        })();\n",
              "      </script>\n",
              "    </div>\n",
              "\n",
              "    </div>\n",
              "  </div>\n"
            ],
            "application/vnd.google.colaboratory.intrinsic+json": {
              "type": "dataframe",
              "summary": "{\n  \"name\": \"df\",\n  \"rows\": 8,\n  \"fields\": [\n    {\n      \"column\": \"gdp_per_capita\",\n      \"properties\": {\n        \"dtype\": \"number\",\n        \"std\": 21095.284107350308,\n        \"min\": 188.0,\n        \"max\": 63924.0,\n        \"num_unique_values\": 8,\n        \"samples\": [\n          9977.558510638299,\n          5290.5,\n          188.0\n        ],\n        \"semantic_type\": \"\",\n        \"description\": \"\"\n      }\n    },\n    {\n      \"column\": \"life_expectancy\",\n      \"properties\": {\n        \"dtype\": \"number\",\n        \"std\": 51.64524888247171,\n        \"min\": 10.298457610670951,\n        \"max\": 188.0,\n        \"num_unique_values\": 8,\n        \"samples\": [\n          66.50153603526596,\n          70.04150000000001,\n          188.0\n        ],\n        \"semantic_type\": \"\",\n        \"description\": \"\"\n      }\n    },\n    {\n      \"column\": \"population\",\n      \"properties\": {\n        \"dtype\": \"number\",\n        \"std\": 441164657.28130454,\n        \"min\": 188.0,\n        \"max\": 1269116737.0,\n        \"num_unique_values\": 8,\n        \"samples\": [\n          32526821.05319149,\n          6888970.5,\n          188.0\n        ],\n        \"semantic_type\": \"\",\n        \"description\": \"\"\n      }\n    }\n  ]\n}"
            }
          },
          "metadata": {},
          "execution_count": 23
        }
      ]
    },
    {
      "cell_type": "code",
      "source": [
        "# στρογγυλοποίηση σε 2 δεκαδικά\n",
        "df.describe().round(2)"
      ],
      "metadata": {
        "id": "ph5TfIaq5rcf",
        "outputId": "acc6c24b-8218-42ff-bec5-a6b139bcb4bc",
        "colab": {
          "base_uri": "https://localhost:8080/",
          "height": 300
        }
      },
      "execution_count": 25,
      "outputs": [
        {
          "output_type": "execute_result",
          "data": {
            "text/plain": [
              "       gdp_per_capita  life_expectancy    population\n",
              "count          188.00           188.00  1.880000e+02\n",
              "mean          9977.56            66.50  3.252682e+07\n",
              "std          11953.39            10.30  1.237952e+08\n",
              "min            292.00            38.12  5.619600e+04\n",
              "25%           1732.50            59.66  2.003170e+06\n",
              "50%           5290.50            70.04  6.888970e+06\n",
              "75%          12701.25            74.13  2.218517e+07\n",
              "max          63924.00            81.35  1.269117e+09"
            ],
            "text/html": [
              "\n",
              "  <div id=\"df-524b3b8d-4289-417d-b6df-22b1beb239ad\" class=\"colab-df-container\">\n",
              "    <div>\n",
              "<style scoped>\n",
              "    .dataframe tbody tr th:only-of-type {\n",
              "        vertical-align: middle;\n",
              "    }\n",
              "\n",
              "    .dataframe tbody tr th {\n",
              "        vertical-align: top;\n",
              "    }\n",
              "\n",
              "    .dataframe thead th {\n",
              "        text-align: right;\n",
              "    }\n",
              "</style>\n",
              "<table border=\"1\" class=\"dataframe\">\n",
              "  <thead>\n",
              "    <tr style=\"text-align: right;\">\n",
              "      <th></th>\n",
              "      <th>gdp_per_capita</th>\n",
              "      <th>life_expectancy</th>\n",
              "      <th>population</th>\n",
              "    </tr>\n",
              "  </thead>\n",
              "  <tbody>\n",
              "    <tr>\n",
              "      <th>count</th>\n",
              "      <td>188.00</td>\n",
              "      <td>188.00</td>\n",
              "      <td>1.880000e+02</td>\n",
              "    </tr>\n",
              "    <tr>\n",
              "      <th>mean</th>\n",
              "      <td>9977.56</td>\n",
              "      <td>66.50</td>\n",
              "      <td>3.252682e+07</td>\n",
              "    </tr>\n",
              "    <tr>\n",
              "      <th>std</th>\n",
              "      <td>11953.39</td>\n",
              "      <td>10.30</td>\n",
              "      <td>1.237952e+08</td>\n",
              "    </tr>\n",
              "    <tr>\n",
              "      <th>min</th>\n",
              "      <td>292.00</td>\n",
              "      <td>38.12</td>\n",
              "      <td>5.619600e+04</td>\n",
              "    </tr>\n",
              "    <tr>\n",
              "      <th>25%</th>\n",
              "      <td>1732.50</td>\n",
              "      <td>59.66</td>\n",
              "      <td>2.003170e+06</td>\n",
              "    </tr>\n",
              "    <tr>\n",
              "      <th>50%</th>\n",
              "      <td>5290.50</td>\n",
              "      <td>70.04</td>\n",
              "      <td>6.888970e+06</td>\n",
              "    </tr>\n",
              "    <tr>\n",
              "      <th>75%</th>\n",
              "      <td>12701.25</td>\n",
              "      <td>74.13</td>\n",
              "      <td>2.218517e+07</td>\n",
              "    </tr>\n",
              "    <tr>\n",
              "      <th>max</th>\n",
              "      <td>63924.00</td>\n",
              "      <td>81.35</td>\n",
              "      <td>1.269117e+09</td>\n",
              "    </tr>\n",
              "  </tbody>\n",
              "</table>\n",
              "</div>\n",
              "    <div class=\"colab-df-buttons\">\n",
              "\n",
              "  <div class=\"colab-df-container\">\n",
              "    <button class=\"colab-df-convert\" onclick=\"convertToInteractive('df-524b3b8d-4289-417d-b6df-22b1beb239ad')\"\n",
              "            title=\"Convert this dataframe to an interactive table.\"\n",
              "            style=\"display:none;\">\n",
              "\n",
              "  <svg xmlns=\"http://www.w3.org/2000/svg\" height=\"24px\" viewBox=\"0 -960 960 960\">\n",
              "    <path d=\"M120-120v-720h720v720H120Zm60-500h600v-160H180v160Zm220 220h160v-160H400v160Zm0 220h160v-160H400v160ZM180-400h160v-160H180v160Zm440 0h160v-160H620v160ZM180-180h160v-160H180v160Zm440 0h160v-160H620v160Z\"/>\n",
              "  </svg>\n",
              "    </button>\n",
              "\n",
              "  <style>\n",
              "    .colab-df-container {\n",
              "      display:flex;\n",
              "      gap: 12px;\n",
              "    }\n",
              "\n",
              "    .colab-df-convert {\n",
              "      background-color: #E8F0FE;\n",
              "      border: none;\n",
              "      border-radius: 50%;\n",
              "      cursor: pointer;\n",
              "      display: none;\n",
              "      fill: #1967D2;\n",
              "      height: 32px;\n",
              "      padding: 0 0 0 0;\n",
              "      width: 32px;\n",
              "    }\n",
              "\n",
              "    .colab-df-convert:hover {\n",
              "      background-color: #E2EBFA;\n",
              "      box-shadow: 0px 1px 2px rgba(60, 64, 67, 0.3), 0px 1px 3px 1px rgba(60, 64, 67, 0.15);\n",
              "      fill: #174EA6;\n",
              "    }\n",
              "\n",
              "    .colab-df-buttons div {\n",
              "      margin-bottom: 4px;\n",
              "    }\n",
              "\n",
              "    [theme=dark] .colab-df-convert {\n",
              "      background-color: #3B4455;\n",
              "      fill: #D2E3FC;\n",
              "    }\n",
              "\n",
              "    [theme=dark] .colab-df-convert:hover {\n",
              "      background-color: #434B5C;\n",
              "      box-shadow: 0px 1px 3px 1px rgba(0, 0, 0, 0.15);\n",
              "      filter: drop-shadow(0px 1px 2px rgba(0, 0, 0, 0.3));\n",
              "      fill: #FFFFFF;\n",
              "    }\n",
              "  </style>\n",
              "\n",
              "    <script>\n",
              "      const buttonEl =\n",
              "        document.querySelector('#df-524b3b8d-4289-417d-b6df-22b1beb239ad button.colab-df-convert');\n",
              "      buttonEl.style.display =\n",
              "        google.colab.kernel.accessAllowed ? 'block' : 'none';\n",
              "\n",
              "      async function convertToInteractive(key) {\n",
              "        const element = document.querySelector('#df-524b3b8d-4289-417d-b6df-22b1beb239ad');\n",
              "        const dataTable =\n",
              "          await google.colab.kernel.invokeFunction('convertToInteractive',\n",
              "                                                    [key], {});\n",
              "        if (!dataTable) return;\n",
              "\n",
              "        const docLinkHtml = 'Like what you see? Visit the ' +\n",
              "          '<a target=\"_blank\" href=https://colab.research.google.com/notebooks/data_table.ipynb>data table notebook</a>'\n",
              "          + ' to learn more about interactive tables.';\n",
              "        element.innerHTML = '';\n",
              "        dataTable['output_type'] = 'display_data';\n",
              "        await google.colab.output.renderOutput(dataTable, element);\n",
              "        const docLink = document.createElement('div');\n",
              "        docLink.innerHTML = docLinkHtml;\n",
              "        element.appendChild(docLink);\n",
              "      }\n",
              "    </script>\n",
              "  </div>\n",
              "\n",
              "\n",
              "    <div id=\"df-707c12da-7e2d-41ba-9ec7-0f46fe5665e2\">\n",
              "      <button class=\"colab-df-quickchart\" onclick=\"quickchart('df-707c12da-7e2d-41ba-9ec7-0f46fe5665e2')\"\n",
              "                title=\"Suggest charts\"\n",
              "                style=\"display:none;\">\n",
              "\n",
              "<svg xmlns=\"http://www.w3.org/2000/svg\" height=\"24px\"viewBox=\"0 0 24 24\"\n",
              "     width=\"24px\">\n",
              "    <g>\n",
              "        <path d=\"M19 3H5c-1.1 0-2 .9-2 2v14c0 1.1.9 2 2 2h14c1.1 0 2-.9 2-2V5c0-1.1-.9-2-2-2zM9 17H7v-7h2v7zm4 0h-2V7h2v10zm4 0h-2v-4h2v4z\"/>\n",
              "    </g>\n",
              "</svg>\n",
              "      </button>\n",
              "\n",
              "<style>\n",
              "  .colab-df-quickchart {\n",
              "      --bg-color: #E8F0FE;\n",
              "      --fill-color: #1967D2;\n",
              "      --hover-bg-color: #E2EBFA;\n",
              "      --hover-fill-color: #174EA6;\n",
              "      --disabled-fill-color: #AAA;\n",
              "      --disabled-bg-color: #DDD;\n",
              "  }\n",
              "\n",
              "  [theme=dark] .colab-df-quickchart {\n",
              "      --bg-color: #3B4455;\n",
              "      --fill-color: #D2E3FC;\n",
              "      --hover-bg-color: #434B5C;\n",
              "      --hover-fill-color: #FFFFFF;\n",
              "      --disabled-bg-color: #3B4455;\n",
              "      --disabled-fill-color: #666;\n",
              "  }\n",
              "\n",
              "  .colab-df-quickchart {\n",
              "    background-color: var(--bg-color);\n",
              "    border: none;\n",
              "    border-radius: 50%;\n",
              "    cursor: pointer;\n",
              "    display: none;\n",
              "    fill: var(--fill-color);\n",
              "    height: 32px;\n",
              "    padding: 0;\n",
              "    width: 32px;\n",
              "  }\n",
              "\n",
              "  .colab-df-quickchart:hover {\n",
              "    background-color: var(--hover-bg-color);\n",
              "    box-shadow: 0 1px 2px rgba(60, 64, 67, 0.3), 0 1px 3px 1px rgba(60, 64, 67, 0.15);\n",
              "    fill: var(--button-hover-fill-color);\n",
              "  }\n",
              "\n",
              "  .colab-df-quickchart-complete:disabled,\n",
              "  .colab-df-quickchart-complete:disabled:hover {\n",
              "    background-color: var(--disabled-bg-color);\n",
              "    fill: var(--disabled-fill-color);\n",
              "    box-shadow: none;\n",
              "  }\n",
              "\n",
              "  .colab-df-spinner {\n",
              "    border: 2px solid var(--fill-color);\n",
              "    border-color: transparent;\n",
              "    border-bottom-color: var(--fill-color);\n",
              "    animation:\n",
              "      spin 1s steps(1) infinite;\n",
              "  }\n",
              "\n",
              "  @keyframes spin {\n",
              "    0% {\n",
              "      border-color: transparent;\n",
              "      border-bottom-color: var(--fill-color);\n",
              "      border-left-color: var(--fill-color);\n",
              "    }\n",
              "    20% {\n",
              "      border-color: transparent;\n",
              "      border-left-color: var(--fill-color);\n",
              "      border-top-color: var(--fill-color);\n",
              "    }\n",
              "    30% {\n",
              "      border-color: transparent;\n",
              "      border-left-color: var(--fill-color);\n",
              "      border-top-color: var(--fill-color);\n",
              "      border-right-color: var(--fill-color);\n",
              "    }\n",
              "    40% {\n",
              "      border-color: transparent;\n",
              "      border-right-color: var(--fill-color);\n",
              "      border-top-color: var(--fill-color);\n",
              "    }\n",
              "    60% {\n",
              "      border-color: transparent;\n",
              "      border-right-color: var(--fill-color);\n",
              "    }\n",
              "    80% {\n",
              "      border-color: transparent;\n",
              "      border-right-color: var(--fill-color);\n",
              "      border-bottom-color: var(--fill-color);\n",
              "    }\n",
              "    90% {\n",
              "      border-color: transparent;\n",
              "      border-bottom-color: var(--fill-color);\n",
              "    }\n",
              "  }\n",
              "</style>\n",
              "\n",
              "      <script>\n",
              "        async function quickchart(key) {\n",
              "          const quickchartButtonEl =\n",
              "            document.querySelector('#' + key + ' button');\n",
              "          quickchartButtonEl.disabled = true;  // To prevent multiple clicks.\n",
              "          quickchartButtonEl.classList.add('colab-df-spinner');\n",
              "          try {\n",
              "            const charts = await google.colab.kernel.invokeFunction(\n",
              "                'suggestCharts', [key], {});\n",
              "          } catch (error) {\n",
              "            console.error('Error during call to suggestCharts:', error);\n",
              "          }\n",
              "          quickchartButtonEl.classList.remove('colab-df-spinner');\n",
              "          quickchartButtonEl.classList.add('colab-df-quickchart-complete');\n",
              "        }\n",
              "        (() => {\n",
              "          let quickchartButtonEl =\n",
              "            document.querySelector('#df-707c12da-7e2d-41ba-9ec7-0f46fe5665e2 button');\n",
              "          quickchartButtonEl.style.display =\n",
              "            google.colab.kernel.accessAllowed ? 'block' : 'none';\n",
              "        })();\n",
              "      </script>\n",
              "    </div>\n",
              "\n",
              "    </div>\n",
              "  </div>\n"
            ],
            "application/vnd.google.colaboratory.intrinsic+json": {
              "type": "dataframe",
              "summary": "{\n  \"name\": \"df\",\n  \"rows\": 8,\n  \"fields\": [\n    {\n      \"column\": \"gdp_per_capita\",\n      \"properties\": {\n        \"dtype\": \"number\",\n        \"std\": 21095.28410409777,\n        \"min\": 188.0,\n        \"max\": 63924.0,\n        \"num_unique_values\": 8,\n        \"samples\": [\n          9977.56,\n          5290.5,\n          188.0\n        ],\n        \"semantic_type\": \"\",\n        \"description\": \"\"\n      }\n    },\n    {\n      \"column\": \"life_expectancy\",\n      \"properties\": {\n        \"dtype\": \"number\",\n        \"std\": 51.64545305666871,\n        \"min\": 10.3,\n        \"max\": 188.0,\n        \"num_unique_values\": 8,\n        \"samples\": [\n          66.5,\n          70.04,\n          188.0\n        ],\n        \"semantic_type\": \"\",\n        \"description\": \"\"\n      }\n    },\n    {\n      \"column\": \"population\",\n      \"properties\": {\n        \"dtype\": \"number\",\n        \"std\": 441164657.2814612,\n        \"min\": 188.0,\n        \"max\": 1269116737.0,\n        \"num_unique_values\": 8,\n        \"samples\": [\n          32526821.05,\n          6888970.5,\n          188.0\n        ],\n        \"semantic_type\": \"\",\n        \"description\": \"\"\n      }\n    }\n  ]\n}"
            }
          },
          "metadata": {},
          "execution_count": 25
        }
      ]
    },
    {
      "cell_type": "code",
      "source": [
        "# μετατροπή σε ακέραιους\n",
        "df.describe().astype(int)"
      ],
      "metadata": {
        "id": "k0KihZWr8qlq"
      },
      "execution_count": null,
      "outputs": []
    },
    {
      "cell_type": "markdown",
      "source": [
        "### **3. Επιλογή στηλών και γραμμών**"
      ],
      "metadata": {
        "id": "WUou_ZQmvJmi"
      }
    },
    {
      "cell_type": "markdown",
      "source": [
        "**3.1 επιλογή στηλών - μία στήλη**"
      ],
      "metadata": {
        "id": "SEWaHCbAyOU0"
      }
    },
    {
      "cell_type": "code",
      "source": [
        "df['country'].head() #εάν δεν το βάλει θα μου εβφανίσει ολόκληρη τη σειρά"
      ],
      "metadata": {
        "id": "Wjn6DOqGyYf0",
        "outputId": "d21630d1-504f-4cb9-8b23-e8d325690738",
        "colab": {
          "base_uri": "https://localhost:8080/",
          "height": 241
        }
      },
      "execution_count": 26,
      "outputs": [
        {
          "output_type": "execute_result",
          "data": {
            "text/plain": [
              "0            Afghanistan\n",
              "1                Albania\n",
              "2                Algeria\n",
              "3                 Angola\n",
              "4    Antigua and Barbuda\n",
              "Name: country, dtype: object"
            ],
            "text/html": [
              "<div>\n",
              "<style scoped>\n",
              "    .dataframe tbody tr th:only-of-type {\n",
              "        vertical-align: middle;\n",
              "    }\n",
              "\n",
              "    .dataframe tbody tr th {\n",
              "        vertical-align: top;\n",
              "    }\n",
              "\n",
              "    .dataframe thead th {\n",
              "        text-align: right;\n",
              "    }\n",
              "</style>\n",
              "<table border=\"1\" class=\"dataframe\">\n",
              "  <thead>\n",
              "    <tr style=\"text-align: right;\">\n",
              "      <th></th>\n",
              "      <th>country</th>\n",
              "    </tr>\n",
              "  </thead>\n",
              "  <tbody>\n",
              "    <tr>\n",
              "      <th>0</th>\n",
              "      <td>Afghanistan</td>\n",
              "    </tr>\n",
              "    <tr>\n",
              "      <th>1</th>\n",
              "      <td>Albania</td>\n",
              "    </tr>\n",
              "    <tr>\n",
              "      <th>2</th>\n",
              "      <td>Algeria</td>\n",
              "    </tr>\n",
              "    <tr>\n",
              "      <th>3</th>\n",
              "      <td>Angola</td>\n",
              "    </tr>\n",
              "    <tr>\n",
              "      <th>4</th>\n",
              "      <td>Antigua and Barbuda</td>\n",
              "    </tr>\n",
              "  </tbody>\n",
              "</table>\n",
              "</div><br><label><b>dtype:</b> object</label>"
            ]
          },
          "metadata": {},
          "execution_count": 26
        }
      ]
    },
    {
      "cell_type": "code",
      "source": [
        "# αν το όνομα της στήλης δεν έχει κενά μπορούμε να την καλέσουμε και χωρίς αγκύλες και εισαγωγικά, βάζοντας τελεία μετά το όνομα του dataframe\n",
        "df.life_expectancy.tail()"
      ],
      "metadata": {
        "id": "9WS6RiQpzHvt"
      },
      "execution_count": null,
      "outputs": []
    },
    {
      "cell_type": "markdown",
      "source": [
        "**3.2 επιλογή στηλών - πολλές στήλες**"
      ],
      "metadata": {
        "id": "2FojPMidy-n2"
      }
    },
    {
      "cell_type": "code",
      "source": [
        "# χωρισμένα με κόμμα, ΠΡΟΣΟΧΗ στα διπλά square brackets\n",
        "df[[\"country\", \"population\"]].head(1)"
      ],
      "metadata": {
        "id": "_6fjkRpqzly9",
        "outputId": "4f79e1a5-9a18-468a-e36d-6e1808c55e70",
        "colab": {
          "base_uri": "https://localhost:8080/",
          "height": 81
        }
      },
      "execution_count": 27,
      "outputs": [
        {
          "output_type": "execute_result",
          "data": {
            "text/plain": [
              "       country  population\n",
              "0  Afghanistan    22856302"
            ],
            "text/html": [
              "\n",
              "  <div id=\"df-915d6703-cff8-4c82-872a-929b8b98440d\" class=\"colab-df-container\">\n",
              "    <div>\n",
              "<style scoped>\n",
              "    .dataframe tbody tr th:only-of-type {\n",
              "        vertical-align: middle;\n",
              "    }\n",
              "\n",
              "    .dataframe tbody tr th {\n",
              "        vertical-align: top;\n",
              "    }\n",
              "\n",
              "    .dataframe thead th {\n",
              "        text-align: right;\n",
              "    }\n",
              "</style>\n",
              "<table border=\"1\" class=\"dataframe\">\n",
              "  <thead>\n",
              "    <tr style=\"text-align: right;\">\n",
              "      <th></th>\n",
              "      <th>country</th>\n",
              "      <th>population</th>\n",
              "    </tr>\n",
              "  </thead>\n",
              "  <tbody>\n",
              "    <tr>\n",
              "      <th>0</th>\n",
              "      <td>Afghanistan</td>\n",
              "      <td>22856302</td>\n",
              "    </tr>\n",
              "  </tbody>\n",
              "</table>\n",
              "</div>\n",
              "    <div class=\"colab-df-buttons\">\n",
              "\n",
              "  <div class=\"colab-df-container\">\n",
              "    <button class=\"colab-df-convert\" onclick=\"convertToInteractive('df-915d6703-cff8-4c82-872a-929b8b98440d')\"\n",
              "            title=\"Convert this dataframe to an interactive table.\"\n",
              "            style=\"display:none;\">\n",
              "\n",
              "  <svg xmlns=\"http://www.w3.org/2000/svg\" height=\"24px\" viewBox=\"0 -960 960 960\">\n",
              "    <path d=\"M120-120v-720h720v720H120Zm60-500h600v-160H180v160Zm220 220h160v-160H400v160Zm0 220h160v-160H400v160ZM180-400h160v-160H180v160Zm440 0h160v-160H620v160ZM180-180h160v-160H180v160Zm440 0h160v-160H620v160Z\"/>\n",
              "  </svg>\n",
              "    </button>\n",
              "\n",
              "  <style>\n",
              "    .colab-df-container {\n",
              "      display:flex;\n",
              "      gap: 12px;\n",
              "    }\n",
              "\n",
              "    .colab-df-convert {\n",
              "      background-color: #E8F0FE;\n",
              "      border: none;\n",
              "      border-radius: 50%;\n",
              "      cursor: pointer;\n",
              "      display: none;\n",
              "      fill: #1967D2;\n",
              "      height: 32px;\n",
              "      padding: 0 0 0 0;\n",
              "      width: 32px;\n",
              "    }\n",
              "\n",
              "    .colab-df-convert:hover {\n",
              "      background-color: #E2EBFA;\n",
              "      box-shadow: 0px 1px 2px rgba(60, 64, 67, 0.3), 0px 1px 3px 1px rgba(60, 64, 67, 0.15);\n",
              "      fill: #174EA6;\n",
              "    }\n",
              "\n",
              "    .colab-df-buttons div {\n",
              "      margin-bottom: 4px;\n",
              "    }\n",
              "\n",
              "    [theme=dark] .colab-df-convert {\n",
              "      background-color: #3B4455;\n",
              "      fill: #D2E3FC;\n",
              "    }\n",
              "\n",
              "    [theme=dark] .colab-df-convert:hover {\n",
              "      background-color: #434B5C;\n",
              "      box-shadow: 0px 1px 3px 1px rgba(0, 0, 0, 0.15);\n",
              "      filter: drop-shadow(0px 1px 2px rgba(0, 0, 0, 0.3));\n",
              "      fill: #FFFFFF;\n",
              "    }\n",
              "  </style>\n",
              "\n",
              "    <script>\n",
              "      const buttonEl =\n",
              "        document.querySelector('#df-915d6703-cff8-4c82-872a-929b8b98440d button.colab-df-convert');\n",
              "      buttonEl.style.display =\n",
              "        google.colab.kernel.accessAllowed ? 'block' : 'none';\n",
              "\n",
              "      async function convertToInteractive(key) {\n",
              "        const element = document.querySelector('#df-915d6703-cff8-4c82-872a-929b8b98440d');\n",
              "        const dataTable =\n",
              "          await google.colab.kernel.invokeFunction('convertToInteractive',\n",
              "                                                    [key], {});\n",
              "        if (!dataTable) return;\n",
              "\n",
              "        const docLinkHtml = 'Like what you see? Visit the ' +\n",
              "          '<a target=\"_blank\" href=https://colab.research.google.com/notebooks/data_table.ipynb>data table notebook</a>'\n",
              "          + ' to learn more about interactive tables.';\n",
              "        element.innerHTML = '';\n",
              "        dataTable['output_type'] = 'display_data';\n",
              "        await google.colab.output.renderOutput(dataTable, element);\n",
              "        const docLink = document.createElement('div');\n",
              "        docLink.innerHTML = docLinkHtml;\n",
              "        element.appendChild(docLink);\n",
              "      }\n",
              "    </script>\n",
              "  </div>\n",
              "\n",
              "\n",
              "    </div>\n",
              "  </div>\n"
            ],
            "application/vnd.google.colaboratory.intrinsic+json": {
              "type": "dataframe",
              "summary": "{\n  \"name\": \"df[[\\\"country\\\", \\\"population\\\"]]\",\n  \"rows\": 1,\n  \"fields\": [\n    {\n      \"column\": \"country\",\n      \"properties\": {\n        \"dtype\": \"string\",\n        \"num_unique_values\": 1,\n        \"samples\": [\n          \"Afghanistan\"\n        ],\n        \"semantic_type\": \"\",\n        \"description\": \"\"\n      }\n    },\n    {\n      \"column\": \"population\",\n      \"properties\": {\n        \"dtype\": \"number\",\n        \"std\": null,\n        \"min\": 22856302,\n        \"max\": 22856302,\n        \"num_unique_values\": 1,\n        \"samples\": [\n          22856302\n        ],\n        \"semantic_type\": \"\",\n        \"description\": \"\"\n      }\n    }\n  ]\n}"
            }
          },
          "metadata": {},
          "execution_count": 27
        }
      ]
    },
    {
      "cell_type": "markdown",
      "source": [
        "**3.3 επιλογή γραμμών - μία γραμμή** (loc)"
      ],
      "metadata": {
        "id": "sj0b4FH7vyDt"
      }
    },
    {
      "cell_type": "code",
      "source": [
        "# με την τιμή του index και χρήση του loc[] κάνει locate συγκεκριμένο raw\n",
        "df.loc[0] #αν βάλω διπλά square bruckerts θα μου τα εμφανίζει οριζόντια όχι κάθετα"
      ],
      "metadata": {
        "id": "HtDY0dNyv8m8",
        "outputId": "391b4624-378e-48e1-f5ca-bacdd892e4a5",
        "colab": {
          "base_uri": "https://localhost:8080/",
          "height": 241
        }
      },
      "execution_count": 28,
      "outputs": [
        {
          "output_type": "execute_result",
          "data": {
            "text/plain": [
              "country            Afghanistan\n",
              "continent                 Asia\n",
              "gdp_per_capita             663\n",
              "life_expectancy         54.863\n",
              "population            22856302\n",
              "Name: 0, dtype: object"
            ],
            "text/html": [
              "<div>\n",
              "<style scoped>\n",
              "    .dataframe tbody tr th:only-of-type {\n",
              "        vertical-align: middle;\n",
              "    }\n",
              "\n",
              "    .dataframe tbody tr th {\n",
              "        vertical-align: top;\n",
              "    }\n",
              "\n",
              "    .dataframe thead th {\n",
              "        text-align: right;\n",
              "    }\n",
              "</style>\n",
              "<table border=\"1\" class=\"dataframe\">\n",
              "  <thead>\n",
              "    <tr style=\"text-align: right;\">\n",
              "      <th></th>\n",
              "      <th>0</th>\n",
              "    </tr>\n",
              "  </thead>\n",
              "  <tbody>\n",
              "    <tr>\n",
              "      <th>country</th>\n",
              "      <td>Afghanistan</td>\n",
              "    </tr>\n",
              "    <tr>\n",
              "      <th>continent</th>\n",
              "      <td>Asia</td>\n",
              "    </tr>\n",
              "    <tr>\n",
              "      <th>gdp_per_capita</th>\n",
              "      <td>663</td>\n",
              "    </tr>\n",
              "    <tr>\n",
              "      <th>life_expectancy</th>\n",
              "      <td>54.863</td>\n",
              "    </tr>\n",
              "    <tr>\n",
              "      <th>population</th>\n",
              "      <td>22856302</td>\n",
              "    </tr>\n",
              "  </tbody>\n",
              "</table>\n",
              "</div><br><label><b>dtype:</b> object</label>"
            ]
          },
          "metadata": {},
          "execution_count": 28
        }
      ]
    },
    {
      "cell_type": "markdown",
      "source": [
        "**3.4 επιλογή γραμμών - πολλές γραμμές** (loc)"
      ],
      "metadata": {
        "id": "FcegZu09zuyl"
      }
    },
    {
      "cell_type": "code",
      "source": [
        "# κι εδώ διπλά square brackets\n",
        "df.loc[[4,8]]"
      ],
      "metadata": {
        "id": "5rsNf5R7z2AC",
        "outputId": "a243845f-a59c-4357-df55-0d4dddf14665",
        "colab": {
          "base_uri": "https://localhost:8080/",
          "height": 112
        }
      },
      "execution_count": 29,
      "outputs": [
        {
          "output_type": "execute_result",
          "data": {
            "text/plain": [
              "               country   continent  gdp_per_capita  life_expectancy  \\\n",
              "4  Antigua and Barbuda  N. America           12738           73.544   \n",
              "8              Austria      Europe           32008           78.330   \n",
              "\n",
              "   population  \n",
              "4       77656  \n",
              "8     8004712  "
            ],
            "text/html": [
              "\n",
              "  <div id=\"df-463bdd93-d4d0-4361-ae9e-c22b8e5352d9\" class=\"colab-df-container\">\n",
              "    <div>\n",
              "<style scoped>\n",
              "    .dataframe tbody tr th:only-of-type {\n",
              "        vertical-align: middle;\n",
              "    }\n",
              "\n",
              "    .dataframe tbody tr th {\n",
              "        vertical-align: top;\n",
              "    }\n",
              "\n",
              "    .dataframe thead th {\n",
              "        text-align: right;\n",
              "    }\n",
              "</style>\n",
              "<table border=\"1\" class=\"dataframe\">\n",
              "  <thead>\n",
              "    <tr style=\"text-align: right;\">\n",
              "      <th></th>\n",
              "      <th>country</th>\n",
              "      <th>continent</th>\n",
              "      <th>gdp_per_capita</th>\n",
              "      <th>life_expectancy</th>\n",
              "      <th>population</th>\n",
              "    </tr>\n",
              "  </thead>\n",
              "  <tbody>\n",
              "    <tr>\n",
              "      <th>4</th>\n",
              "      <td>Antigua and Barbuda</td>\n",
              "      <td>N. America</td>\n",
              "      <td>12738</td>\n",
              "      <td>73.544</td>\n",
              "      <td>77656</td>\n",
              "    </tr>\n",
              "    <tr>\n",
              "      <th>8</th>\n",
              "      <td>Austria</td>\n",
              "      <td>Europe</td>\n",
              "      <td>32008</td>\n",
              "      <td>78.330</td>\n",
              "      <td>8004712</td>\n",
              "    </tr>\n",
              "  </tbody>\n",
              "</table>\n",
              "</div>\n",
              "    <div class=\"colab-df-buttons\">\n",
              "\n",
              "  <div class=\"colab-df-container\">\n",
              "    <button class=\"colab-df-convert\" onclick=\"convertToInteractive('df-463bdd93-d4d0-4361-ae9e-c22b8e5352d9')\"\n",
              "            title=\"Convert this dataframe to an interactive table.\"\n",
              "            style=\"display:none;\">\n",
              "\n",
              "  <svg xmlns=\"http://www.w3.org/2000/svg\" height=\"24px\" viewBox=\"0 -960 960 960\">\n",
              "    <path d=\"M120-120v-720h720v720H120Zm60-500h600v-160H180v160Zm220 220h160v-160H400v160Zm0 220h160v-160H400v160ZM180-400h160v-160H180v160Zm440 0h160v-160H620v160ZM180-180h160v-160H180v160Zm440 0h160v-160H620v160Z\"/>\n",
              "  </svg>\n",
              "    </button>\n",
              "\n",
              "  <style>\n",
              "    .colab-df-container {\n",
              "      display:flex;\n",
              "      gap: 12px;\n",
              "    }\n",
              "\n",
              "    .colab-df-convert {\n",
              "      background-color: #E8F0FE;\n",
              "      border: none;\n",
              "      border-radius: 50%;\n",
              "      cursor: pointer;\n",
              "      display: none;\n",
              "      fill: #1967D2;\n",
              "      height: 32px;\n",
              "      padding: 0 0 0 0;\n",
              "      width: 32px;\n",
              "    }\n",
              "\n",
              "    .colab-df-convert:hover {\n",
              "      background-color: #E2EBFA;\n",
              "      box-shadow: 0px 1px 2px rgba(60, 64, 67, 0.3), 0px 1px 3px 1px rgba(60, 64, 67, 0.15);\n",
              "      fill: #174EA6;\n",
              "    }\n",
              "\n",
              "    .colab-df-buttons div {\n",
              "      margin-bottom: 4px;\n",
              "    }\n",
              "\n",
              "    [theme=dark] .colab-df-convert {\n",
              "      background-color: #3B4455;\n",
              "      fill: #D2E3FC;\n",
              "    }\n",
              "\n",
              "    [theme=dark] .colab-df-convert:hover {\n",
              "      background-color: #434B5C;\n",
              "      box-shadow: 0px 1px 3px 1px rgba(0, 0, 0, 0.15);\n",
              "      filter: drop-shadow(0px 1px 2px rgba(0, 0, 0, 0.3));\n",
              "      fill: #FFFFFF;\n",
              "    }\n",
              "  </style>\n",
              "\n",
              "    <script>\n",
              "      const buttonEl =\n",
              "        document.querySelector('#df-463bdd93-d4d0-4361-ae9e-c22b8e5352d9 button.colab-df-convert');\n",
              "      buttonEl.style.display =\n",
              "        google.colab.kernel.accessAllowed ? 'block' : 'none';\n",
              "\n",
              "      async function convertToInteractive(key) {\n",
              "        const element = document.querySelector('#df-463bdd93-d4d0-4361-ae9e-c22b8e5352d9');\n",
              "        const dataTable =\n",
              "          await google.colab.kernel.invokeFunction('convertToInteractive',\n",
              "                                                    [key], {});\n",
              "        if (!dataTable) return;\n",
              "\n",
              "        const docLinkHtml = 'Like what you see? Visit the ' +\n",
              "          '<a target=\"_blank\" href=https://colab.research.google.com/notebooks/data_table.ipynb>data table notebook</a>'\n",
              "          + ' to learn more about interactive tables.';\n",
              "        element.innerHTML = '';\n",
              "        dataTable['output_type'] = 'display_data';\n",
              "        await google.colab.output.renderOutput(dataTable, element);\n",
              "        const docLink = document.createElement('div');\n",
              "        docLink.innerHTML = docLinkHtml;\n",
              "        element.appendChild(docLink);\n",
              "      }\n",
              "    </script>\n",
              "  </div>\n",
              "\n",
              "\n",
              "    <div id=\"df-78964e9d-0589-40b2-ac21-330612fd8633\">\n",
              "      <button class=\"colab-df-quickchart\" onclick=\"quickchart('df-78964e9d-0589-40b2-ac21-330612fd8633')\"\n",
              "                title=\"Suggest charts\"\n",
              "                style=\"display:none;\">\n",
              "\n",
              "<svg xmlns=\"http://www.w3.org/2000/svg\" height=\"24px\"viewBox=\"0 0 24 24\"\n",
              "     width=\"24px\">\n",
              "    <g>\n",
              "        <path d=\"M19 3H5c-1.1 0-2 .9-2 2v14c0 1.1.9 2 2 2h14c1.1 0 2-.9 2-2V5c0-1.1-.9-2-2-2zM9 17H7v-7h2v7zm4 0h-2V7h2v10zm4 0h-2v-4h2v4z\"/>\n",
              "    </g>\n",
              "</svg>\n",
              "      </button>\n",
              "\n",
              "<style>\n",
              "  .colab-df-quickchart {\n",
              "      --bg-color: #E8F0FE;\n",
              "      --fill-color: #1967D2;\n",
              "      --hover-bg-color: #E2EBFA;\n",
              "      --hover-fill-color: #174EA6;\n",
              "      --disabled-fill-color: #AAA;\n",
              "      --disabled-bg-color: #DDD;\n",
              "  }\n",
              "\n",
              "  [theme=dark] .colab-df-quickchart {\n",
              "      --bg-color: #3B4455;\n",
              "      --fill-color: #D2E3FC;\n",
              "      --hover-bg-color: #434B5C;\n",
              "      --hover-fill-color: #FFFFFF;\n",
              "      --disabled-bg-color: #3B4455;\n",
              "      --disabled-fill-color: #666;\n",
              "  }\n",
              "\n",
              "  .colab-df-quickchart {\n",
              "    background-color: var(--bg-color);\n",
              "    border: none;\n",
              "    border-radius: 50%;\n",
              "    cursor: pointer;\n",
              "    display: none;\n",
              "    fill: var(--fill-color);\n",
              "    height: 32px;\n",
              "    padding: 0;\n",
              "    width: 32px;\n",
              "  }\n",
              "\n",
              "  .colab-df-quickchart:hover {\n",
              "    background-color: var(--hover-bg-color);\n",
              "    box-shadow: 0 1px 2px rgba(60, 64, 67, 0.3), 0 1px 3px 1px rgba(60, 64, 67, 0.15);\n",
              "    fill: var(--button-hover-fill-color);\n",
              "  }\n",
              "\n",
              "  .colab-df-quickchart-complete:disabled,\n",
              "  .colab-df-quickchart-complete:disabled:hover {\n",
              "    background-color: var(--disabled-bg-color);\n",
              "    fill: var(--disabled-fill-color);\n",
              "    box-shadow: none;\n",
              "  }\n",
              "\n",
              "  .colab-df-spinner {\n",
              "    border: 2px solid var(--fill-color);\n",
              "    border-color: transparent;\n",
              "    border-bottom-color: var(--fill-color);\n",
              "    animation:\n",
              "      spin 1s steps(1) infinite;\n",
              "  }\n",
              "\n",
              "  @keyframes spin {\n",
              "    0% {\n",
              "      border-color: transparent;\n",
              "      border-bottom-color: var(--fill-color);\n",
              "      border-left-color: var(--fill-color);\n",
              "    }\n",
              "    20% {\n",
              "      border-color: transparent;\n",
              "      border-left-color: var(--fill-color);\n",
              "      border-top-color: var(--fill-color);\n",
              "    }\n",
              "    30% {\n",
              "      border-color: transparent;\n",
              "      border-left-color: var(--fill-color);\n",
              "      border-top-color: var(--fill-color);\n",
              "      border-right-color: var(--fill-color);\n",
              "    }\n",
              "    40% {\n",
              "      border-color: transparent;\n",
              "      border-right-color: var(--fill-color);\n",
              "      border-top-color: var(--fill-color);\n",
              "    }\n",
              "    60% {\n",
              "      border-color: transparent;\n",
              "      border-right-color: var(--fill-color);\n",
              "    }\n",
              "    80% {\n",
              "      border-color: transparent;\n",
              "      border-right-color: var(--fill-color);\n",
              "      border-bottom-color: var(--fill-color);\n",
              "    }\n",
              "    90% {\n",
              "      border-color: transparent;\n",
              "      border-bottom-color: var(--fill-color);\n",
              "    }\n",
              "  }\n",
              "</style>\n",
              "\n",
              "      <script>\n",
              "        async function quickchart(key) {\n",
              "          const quickchartButtonEl =\n",
              "            document.querySelector('#' + key + ' button');\n",
              "          quickchartButtonEl.disabled = true;  // To prevent multiple clicks.\n",
              "          quickchartButtonEl.classList.add('colab-df-spinner');\n",
              "          try {\n",
              "            const charts = await google.colab.kernel.invokeFunction(\n",
              "                'suggestCharts', [key], {});\n",
              "          } catch (error) {\n",
              "            console.error('Error during call to suggestCharts:', error);\n",
              "          }\n",
              "          quickchartButtonEl.classList.remove('colab-df-spinner');\n",
              "          quickchartButtonEl.classList.add('colab-df-quickchart-complete');\n",
              "        }\n",
              "        (() => {\n",
              "          let quickchartButtonEl =\n",
              "            document.querySelector('#df-78964e9d-0589-40b2-ac21-330612fd8633 button');\n",
              "          quickchartButtonEl.style.display =\n",
              "            google.colab.kernel.accessAllowed ? 'block' : 'none';\n",
              "        })();\n",
              "      </script>\n",
              "    </div>\n",
              "\n",
              "    </div>\n",
              "  </div>\n"
            ],
            "application/vnd.google.colaboratory.intrinsic+json": {
              "type": "dataframe",
              "summary": "{\n  \"name\": \"df\",\n  \"rows\": 2,\n  \"fields\": [\n    {\n      \"column\": \"country\",\n      \"properties\": {\n        \"dtype\": \"string\",\n        \"num_unique_values\": 2,\n        \"samples\": [\n          \"Austria\",\n          \"Antigua and Barbuda\"\n        ],\n        \"semantic_type\": \"\",\n        \"description\": \"\"\n      }\n    },\n    {\n      \"column\": \"continent\",\n      \"properties\": {\n        \"dtype\": \"string\",\n        \"num_unique_values\": 2,\n        \"samples\": [\n          \"Europe\",\n          \"N. America\"\n        ],\n        \"semantic_type\": \"\",\n        \"description\": \"\"\n      }\n    },\n    {\n      \"column\": \"gdp_per_capita\",\n      \"properties\": {\n        \"dtype\": \"number\",\n        \"std\": 13625,\n        \"min\": 12738,\n        \"max\": 32008,\n        \"num_unique_values\": 2,\n        \"samples\": [\n          32008,\n          12738\n        ],\n        \"semantic_type\": \"\",\n        \"description\": \"\"\n      }\n    },\n    {\n      \"column\": \"life_expectancy\",\n      \"properties\": {\n        \"dtype\": \"number\",\n        \"std\": 3.3842130547588174,\n        \"min\": 73.544,\n        \"max\": 78.33,\n        \"num_unique_values\": 2,\n        \"samples\": [\n          78.33,\n          73.544\n        ],\n        \"semantic_type\": \"\",\n        \"description\": \"\"\n      }\n    },\n    {\n      \"column\": \"population\",\n      \"properties\": {\n        \"dtype\": \"number\",\n        \"std\": 5605275,\n        \"min\": 77656,\n        \"max\": 8004712,\n        \"num_unique_values\": 2,\n        \"samples\": [\n          8004712,\n          77656\n        ],\n        \"semantic_type\": \"\",\n        \"description\": \"\"\n      }\n    }\n  ]\n}"
            }
          },
          "metadata": {},
          "execution_count": 29
        }
      ]
    },
    {
      "cell_type": "markdown",
      "source": [
        "**3.5 επιλογή γραμμών - εύρος πολλών γραμμών** (loc)"
      ],
      "metadata": {
        "id": "hfXsviFJxsxA"
      }
    },
    {
      "cell_type": "code",
      "source": [
        "# όπως στις λίστες, αλλά εδώ το stop ΠΕΡΙΛΑΜΒΑΝΕΙ τον αριθμό\n",
        "df.loc[4:8] #πρώτα οι γραμμές μετά οι στήλες,,,,το λοκ φέρνει μόνο τη γραμμή"
      ],
      "metadata": {
        "id": "84ATeiEHwMwr",
        "outputId": "64da8079-1139-42dd-fa95-40c4b8efd07f",
        "colab": {
          "base_uri": "https://localhost:8080/",
          "height": 206
        }
      },
      "execution_count": 30,
      "outputs": [
        {
          "output_type": "execute_result",
          "data": {
            "text/plain": [
              "               country   continent  gdp_per_capita  life_expectancy  \\\n",
              "4  Antigua and Barbuda  N. America           12738           73.544   \n",
              "5            Argentina  S. America           10571           73.822   \n",
              "6              Armenia      Europe            2114           71.494   \n",
              "7            Australia     Oceania           29241           79.930   \n",
              "8              Austria      Europe           32008           78.330   \n",
              "\n",
              "   population  \n",
              "4       77656  \n",
              "5    36930709  \n",
              "6     3076098  \n",
              "7    19164351  \n",
              "8     8004712  "
            ],
            "text/html": [
              "\n",
              "  <div id=\"df-610a5ef8-1abc-458a-91fa-05cd314402bb\" class=\"colab-df-container\">\n",
              "    <div>\n",
              "<style scoped>\n",
              "    .dataframe tbody tr th:only-of-type {\n",
              "        vertical-align: middle;\n",
              "    }\n",
              "\n",
              "    .dataframe tbody tr th {\n",
              "        vertical-align: top;\n",
              "    }\n",
              "\n",
              "    .dataframe thead th {\n",
              "        text-align: right;\n",
              "    }\n",
              "</style>\n",
              "<table border=\"1\" class=\"dataframe\">\n",
              "  <thead>\n",
              "    <tr style=\"text-align: right;\">\n",
              "      <th></th>\n",
              "      <th>country</th>\n",
              "      <th>continent</th>\n",
              "      <th>gdp_per_capita</th>\n",
              "      <th>life_expectancy</th>\n",
              "      <th>population</th>\n",
              "    </tr>\n",
              "  </thead>\n",
              "  <tbody>\n",
              "    <tr>\n",
              "      <th>4</th>\n",
              "      <td>Antigua and Barbuda</td>\n",
              "      <td>N. America</td>\n",
              "      <td>12738</td>\n",
              "      <td>73.544</td>\n",
              "      <td>77656</td>\n",
              "    </tr>\n",
              "    <tr>\n",
              "      <th>5</th>\n",
              "      <td>Argentina</td>\n",
              "      <td>S. America</td>\n",
              "      <td>10571</td>\n",
              "      <td>73.822</td>\n",
              "      <td>36930709</td>\n",
              "    </tr>\n",
              "    <tr>\n",
              "      <th>6</th>\n",
              "      <td>Armenia</td>\n",
              "      <td>Europe</td>\n",
              "      <td>2114</td>\n",
              "      <td>71.494</td>\n",
              "      <td>3076098</td>\n",
              "    </tr>\n",
              "    <tr>\n",
              "      <th>7</th>\n",
              "      <td>Australia</td>\n",
              "      <td>Oceania</td>\n",
              "      <td>29241</td>\n",
              "      <td>79.930</td>\n",
              "      <td>19164351</td>\n",
              "    </tr>\n",
              "    <tr>\n",
              "      <th>8</th>\n",
              "      <td>Austria</td>\n",
              "      <td>Europe</td>\n",
              "      <td>32008</td>\n",
              "      <td>78.330</td>\n",
              "      <td>8004712</td>\n",
              "    </tr>\n",
              "  </tbody>\n",
              "</table>\n",
              "</div>\n",
              "    <div class=\"colab-df-buttons\">\n",
              "\n",
              "  <div class=\"colab-df-container\">\n",
              "    <button class=\"colab-df-convert\" onclick=\"convertToInteractive('df-610a5ef8-1abc-458a-91fa-05cd314402bb')\"\n",
              "            title=\"Convert this dataframe to an interactive table.\"\n",
              "            style=\"display:none;\">\n",
              "\n",
              "  <svg xmlns=\"http://www.w3.org/2000/svg\" height=\"24px\" viewBox=\"0 -960 960 960\">\n",
              "    <path d=\"M120-120v-720h720v720H120Zm60-500h600v-160H180v160Zm220 220h160v-160H400v160Zm0 220h160v-160H400v160ZM180-400h160v-160H180v160Zm440 0h160v-160H620v160ZM180-180h160v-160H180v160Zm440 0h160v-160H620v160Z\"/>\n",
              "  </svg>\n",
              "    </button>\n",
              "\n",
              "  <style>\n",
              "    .colab-df-container {\n",
              "      display:flex;\n",
              "      gap: 12px;\n",
              "    }\n",
              "\n",
              "    .colab-df-convert {\n",
              "      background-color: #E8F0FE;\n",
              "      border: none;\n",
              "      border-radius: 50%;\n",
              "      cursor: pointer;\n",
              "      display: none;\n",
              "      fill: #1967D2;\n",
              "      height: 32px;\n",
              "      padding: 0 0 0 0;\n",
              "      width: 32px;\n",
              "    }\n",
              "\n",
              "    .colab-df-convert:hover {\n",
              "      background-color: #E2EBFA;\n",
              "      box-shadow: 0px 1px 2px rgba(60, 64, 67, 0.3), 0px 1px 3px 1px rgba(60, 64, 67, 0.15);\n",
              "      fill: #174EA6;\n",
              "    }\n",
              "\n",
              "    .colab-df-buttons div {\n",
              "      margin-bottom: 4px;\n",
              "    }\n",
              "\n",
              "    [theme=dark] .colab-df-convert {\n",
              "      background-color: #3B4455;\n",
              "      fill: #D2E3FC;\n",
              "    }\n",
              "\n",
              "    [theme=dark] .colab-df-convert:hover {\n",
              "      background-color: #434B5C;\n",
              "      box-shadow: 0px 1px 3px 1px rgba(0, 0, 0, 0.15);\n",
              "      filter: drop-shadow(0px 1px 2px rgba(0, 0, 0, 0.3));\n",
              "      fill: #FFFFFF;\n",
              "    }\n",
              "  </style>\n",
              "\n",
              "    <script>\n",
              "      const buttonEl =\n",
              "        document.querySelector('#df-610a5ef8-1abc-458a-91fa-05cd314402bb button.colab-df-convert');\n",
              "      buttonEl.style.display =\n",
              "        google.colab.kernel.accessAllowed ? 'block' : 'none';\n",
              "\n",
              "      async function convertToInteractive(key) {\n",
              "        const element = document.querySelector('#df-610a5ef8-1abc-458a-91fa-05cd314402bb');\n",
              "        const dataTable =\n",
              "          await google.colab.kernel.invokeFunction('convertToInteractive',\n",
              "                                                    [key], {});\n",
              "        if (!dataTable) return;\n",
              "\n",
              "        const docLinkHtml = 'Like what you see? Visit the ' +\n",
              "          '<a target=\"_blank\" href=https://colab.research.google.com/notebooks/data_table.ipynb>data table notebook</a>'\n",
              "          + ' to learn more about interactive tables.';\n",
              "        element.innerHTML = '';\n",
              "        dataTable['output_type'] = 'display_data';\n",
              "        await google.colab.output.renderOutput(dataTable, element);\n",
              "        const docLink = document.createElement('div');\n",
              "        docLink.innerHTML = docLinkHtml;\n",
              "        element.appendChild(docLink);\n",
              "      }\n",
              "    </script>\n",
              "  </div>\n",
              "\n",
              "\n",
              "    <div id=\"df-8424355a-cf63-4cdd-b9dd-cb56fa92a988\">\n",
              "      <button class=\"colab-df-quickchart\" onclick=\"quickchart('df-8424355a-cf63-4cdd-b9dd-cb56fa92a988')\"\n",
              "                title=\"Suggest charts\"\n",
              "                style=\"display:none;\">\n",
              "\n",
              "<svg xmlns=\"http://www.w3.org/2000/svg\" height=\"24px\"viewBox=\"0 0 24 24\"\n",
              "     width=\"24px\">\n",
              "    <g>\n",
              "        <path d=\"M19 3H5c-1.1 0-2 .9-2 2v14c0 1.1.9 2 2 2h14c1.1 0 2-.9 2-2V5c0-1.1-.9-2-2-2zM9 17H7v-7h2v7zm4 0h-2V7h2v10zm4 0h-2v-4h2v4z\"/>\n",
              "    </g>\n",
              "</svg>\n",
              "      </button>\n",
              "\n",
              "<style>\n",
              "  .colab-df-quickchart {\n",
              "      --bg-color: #E8F0FE;\n",
              "      --fill-color: #1967D2;\n",
              "      --hover-bg-color: #E2EBFA;\n",
              "      --hover-fill-color: #174EA6;\n",
              "      --disabled-fill-color: #AAA;\n",
              "      --disabled-bg-color: #DDD;\n",
              "  }\n",
              "\n",
              "  [theme=dark] .colab-df-quickchart {\n",
              "      --bg-color: #3B4455;\n",
              "      --fill-color: #D2E3FC;\n",
              "      --hover-bg-color: #434B5C;\n",
              "      --hover-fill-color: #FFFFFF;\n",
              "      --disabled-bg-color: #3B4455;\n",
              "      --disabled-fill-color: #666;\n",
              "  }\n",
              "\n",
              "  .colab-df-quickchart {\n",
              "    background-color: var(--bg-color);\n",
              "    border: none;\n",
              "    border-radius: 50%;\n",
              "    cursor: pointer;\n",
              "    display: none;\n",
              "    fill: var(--fill-color);\n",
              "    height: 32px;\n",
              "    padding: 0;\n",
              "    width: 32px;\n",
              "  }\n",
              "\n",
              "  .colab-df-quickchart:hover {\n",
              "    background-color: var(--hover-bg-color);\n",
              "    box-shadow: 0 1px 2px rgba(60, 64, 67, 0.3), 0 1px 3px 1px rgba(60, 64, 67, 0.15);\n",
              "    fill: var(--button-hover-fill-color);\n",
              "  }\n",
              "\n",
              "  .colab-df-quickchart-complete:disabled,\n",
              "  .colab-df-quickchart-complete:disabled:hover {\n",
              "    background-color: var(--disabled-bg-color);\n",
              "    fill: var(--disabled-fill-color);\n",
              "    box-shadow: none;\n",
              "  }\n",
              "\n",
              "  .colab-df-spinner {\n",
              "    border: 2px solid var(--fill-color);\n",
              "    border-color: transparent;\n",
              "    border-bottom-color: var(--fill-color);\n",
              "    animation:\n",
              "      spin 1s steps(1) infinite;\n",
              "  }\n",
              "\n",
              "  @keyframes spin {\n",
              "    0% {\n",
              "      border-color: transparent;\n",
              "      border-bottom-color: var(--fill-color);\n",
              "      border-left-color: var(--fill-color);\n",
              "    }\n",
              "    20% {\n",
              "      border-color: transparent;\n",
              "      border-left-color: var(--fill-color);\n",
              "      border-top-color: var(--fill-color);\n",
              "    }\n",
              "    30% {\n",
              "      border-color: transparent;\n",
              "      border-left-color: var(--fill-color);\n",
              "      border-top-color: var(--fill-color);\n",
              "      border-right-color: var(--fill-color);\n",
              "    }\n",
              "    40% {\n",
              "      border-color: transparent;\n",
              "      border-right-color: var(--fill-color);\n",
              "      border-top-color: var(--fill-color);\n",
              "    }\n",
              "    60% {\n",
              "      border-color: transparent;\n",
              "      border-right-color: var(--fill-color);\n",
              "    }\n",
              "    80% {\n",
              "      border-color: transparent;\n",
              "      border-right-color: var(--fill-color);\n",
              "      border-bottom-color: var(--fill-color);\n",
              "    }\n",
              "    90% {\n",
              "      border-color: transparent;\n",
              "      border-bottom-color: var(--fill-color);\n",
              "    }\n",
              "  }\n",
              "</style>\n",
              "\n",
              "      <script>\n",
              "        async function quickchart(key) {\n",
              "          const quickchartButtonEl =\n",
              "            document.querySelector('#' + key + ' button');\n",
              "          quickchartButtonEl.disabled = true;  // To prevent multiple clicks.\n",
              "          quickchartButtonEl.classList.add('colab-df-spinner');\n",
              "          try {\n",
              "            const charts = await google.colab.kernel.invokeFunction(\n",
              "                'suggestCharts', [key], {});\n",
              "          } catch (error) {\n",
              "            console.error('Error during call to suggestCharts:', error);\n",
              "          }\n",
              "          quickchartButtonEl.classList.remove('colab-df-spinner');\n",
              "          quickchartButtonEl.classList.add('colab-df-quickchart-complete');\n",
              "        }\n",
              "        (() => {\n",
              "          let quickchartButtonEl =\n",
              "            document.querySelector('#df-8424355a-cf63-4cdd-b9dd-cb56fa92a988 button');\n",
              "          quickchartButtonEl.style.display =\n",
              "            google.colab.kernel.accessAllowed ? 'block' : 'none';\n",
              "        })();\n",
              "      </script>\n",
              "    </div>\n",
              "\n",
              "    </div>\n",
              "  </div>\n"
            ],
            "application/vnd.google.colaboratory.intrinsic+json": {
              "type": "dataframe",
              "summary": "{\n  \"name\": \"df\",\n  \"rows\": 5,\n  \"fields\": [\n    {\n      \"column\": \"country\",\n      \"properties\": {\n        \"dtype\": \"string\",\n        \"num_unique_values\": 5,\n        \"samples\": [\n          \"Argentina\",\n          \"Austria\",\n          \"Armenia\"\n        ],\n        \"semantic_type\": \"\",\n        \"description\": \"\"\n      }\n    },\n    {\n      \"column\": \"continent\",\n      \"properties\": {\n        \"dtype\": \"string\",\n        \"num_unique_values\": 4,\n        \"samples\": [\n          \"S. America\",\n          \"Oceania\",\n          \"N. America\"\n        ],\n        \"semantic_type\": \"\",\n        \"description\": \"\"\n      }\n    },\n    {\n      \"column\": \"gdp_per_capita\",\n      \"properties\": {\n        \"dtype\": \"number\",\n        \"std\": 12802,\n        \"min\": 2114,\n        \"max\": 32008,\n        \"num_unique_values\": 5,\n        \"samples\": [\n          10571,\n          32008,\n          2114\n        ],\n        \"semantic_type\": \"\",\n        \"description\": \"\"\n      }\n    },\n    {\n      \"column\": \"life_expectancy\",\n      \"properties\": {\n        \"dtype\": \"number\",\n        \"std\": 3.545933445511917,\n        \"min\": 71.494,\n        \"max\": 79.93,\n        \"num_unique_values\": 5,\n        \"samples\": [\n          73.822,\n          78.33,\n          71.494\n        ],\n        \"semantic_type\": \"\",\n        \"description\": \"\"\n      }\n    },\n    {\n      \"column\": \"population\",\n      \"properties\": {\n        \"dtype\": \"number\",\n        \"std\": 15000717,\n        \"min\": 77656,\n        \"max\": 36930709,\n        \"num_unique_values\": 5,\n        \"samples\": [\n          36930709,\n          8004712,\n          3076098\n        ],\n        \"semantic_type\": \"\",\n        \"description\": \"\"\n      }\n    }\n  ]\n}"
            }
          },
          "metadata": {},
          "execution_count": 30
        }
      ]
    },
    {
      "cell_type": "markdown",
      "source": [
        "**3.6 επιλογή ενός κελιού με το index της γραμμής και το όνομα της στήλης** (loc / at)"
      ],
      "metadata": {
        "id": "sZK3b4Zqy-qW"
      }
    },
    {
      "cell_type": "code",
      "source": [
        "df.loc[4, 'country']"
      ],
      "metadata": {
        "id": "jFIc_5RdwDRA",
        "outputId": "e1278413-cfec-49f7-b4bf-68e8551287d6",
        "colab": {
          "base_uri": "https://localhost:8080/",
          "height": 36
        }
      },
      "execution_count": 31,
      "outputs": [
        {
          "output_type": "execute_result",
          "data": {
            "text/plain": [
              "'Antigua and Barbuda'"
            ],
            "application/vnd.google.colaboratory.intrinsic+json": {
              "type": "string"
            }
          },
          "metadata": {},
          "execution_count": 31
        }
      ]
    },
    {
      "cell_type": "code",
      "source": [
        "# μπορούμε να ζητήσουμε μόνο τη στήλη στο loc και μετά να ζητήσουμε το column\n",
        "df.loc[4]['country']"
      ],
      "metadata": {
        "id": "_df5VUlIAz2y"
      },
      "execution_count": null,
      "outputs": []
    },
    {
      "cell_type": "markdown",
      "source": [
        "**3.7 επιλογή πολλών κελιών με γραμμές και στήλες** (loc και iloc)"
      ],
      "metadata": {
        "id": "5EU_dReB04qq"
      }
    },
    {
      "cell_type": "code",
      "source": [
        "df.loc[[4,8,100], ['country', 'gdp_per_capita']]"
      ],
      "metadata": {
        "id": "re73b8xpxHQ0"
      },
      "execution_count": null,
      "outputs": []
    },
    {
      "cell_type": "code",
      "source": [
        "df.loc[[4,8,100], ['country', 'gdp_per_capita']]"
      ],
      "metadata": {
        "id": "WwtXhzaXLcw8"
      },
      "execution_count": null,
      "outputs": []
    },
    {
      "cell_type": "code",
      "source": [
        "# εμφάνιση όλων των στηλών του dataframe\n",
        "df.head(1)"
      ],
      "metadata": {
        "id": "byWdTm-960zM"
      },
      "execution_count": null,
      "outputs": []
    },
    {
      "cell_type": "code",
      "source": [
        "# με το iloc βάζουμε και για τις στήλες τον αριθμό index\n",
        "df.iloc[[4,8,100], [0, 2]]"
      ],
      "metadata": {
        "id": "-hpP4isr2aHh"
      },
      "execution_count": null,
      "outputs": []
    },
    {
      "cell_type": "markdown",
      "source": [
        "**3.8 επιλογή εύρους γραμμών και στηλών** (iloc)"
      ],
      "metadata": {
        "id": "C7OOtXsJ1QWz"
      }
    },
    {
      "cell_type": "code",
      "source": [
        "# στο εύρος με το iloc ΔΕΝ περιλαμβάνεται το stop\n",
        "df.iloc[0:4, 1:3]"
      ],
      "metadata": {
        "id": "IsxOENPj195c"
      },
      "execution_count": null,
      "outputs": []
    },
    {
      "cell_type": "markdown",
      "source": [
        "### **4. Στατιστικά στοιχεία (σε επιλεγμένες στήλες)**"
      ],
      "metadata": {
        "id": "a3xa0VnN8o-V"
      }
    },
    {
      "cell_type": "code",
      "source": [
        "# διάμεσος\n",
        "df.population.median()"
      ],
      "metadata": {
        "id": "s2ULzwRi1KDa"
      },
      "execution_count": null,
      "outputs": []
    },
    {
      "cell_type": "code",
      "source": [
        "# μέση τιμή\n",
        "df['population'].mean()"
      ],
      "metadata": {
        "id": "9gsBYUyO1ahR",
        "colab": {
          "base_uri": "https://localhost:8080/"
        },
        "outputId": "146e4085-a3a1-4b73-8d35-ebd91a35e46a"
      },
      "execution_count": null,
      "outputs": [
        {
          "output_type": "execute_result",
          "data": {
            "text/plain": [
              "32526821.05319149"
            ]
          },
          "metadata": {},
          "execution_count": 28
        }
      ]
    },
    {
      "cell_type": "code",
      "source": [
        "# άθροισμα\n",
        "df.population.sum()"
      ],
      "metadata": {
        "id": "gP3FgIMV13j2"
      },
      "execution_count": null,
      "outputs": []
    },
    {
      "cell_type": "code",
      "source": [
        "# ελάχιστη τιμή\n",
        "df.population.min()"
      ],
      "metadata": {
        "id": "ytOkiA_F2BV_"
      },
      "execution_count": null,
      "outputs": []
    },
    {
      "cell_type": "code",
      "source": [
        "# μέγιστη τιμή\n",
        "df.population.max()"
      ],
      "metadata": {
        "id": "6MtA-70a2F0d"
      },
      "execution_count": null,
      "outputs": []
    },
    {
      "cell_type": "code",
      "source": [
        "# τυπική απόκλιση (πόσο απέχουν κατά μ.ο. οι τιμές από το μέσο όρο)\n",
        "df.population.std()"
      ],
      "metadata": {
        "id": "uCL9jK6v2L6R"
      },
      "execution_count": null,
      "outputs": []
    },
    {
      "cell_type": "code",
      "source": [
        "# συσχέτιση\n",
        "# Correlation: the tendency for two values or variables to change together, in either the same (+) or opposite way (-).\n",
        "df.corr()"
      ],
      "metadata": {
        "id": "kqNJ0LGj46c-"
      },
      "execution_count": null,
      "outputs": []
    },
    {
      "cell_type": "markdown",
      "source": [
        "---\n",
        "**Άσκηση 2**: Βρείτε τις ελάχιστες τιμές του προσδόκιμου ζωής και του κατά κεφαλή ΑΕΠ στρογγυλοποιημένες σε 1 δεκαδικό"
      ],
      "metadata": {
        "id": "nOncf3POtMZy"
      }
    },
    {
      "cell_type": "code",
      "source": [],
      "metadata": {
        "id": "02qNbTJGtZJ4"
      },
      "execution_count": null,
      "outputs": []
    },
    {
      "cell_type": "markdown",
      "source": [
        "---"
      ],
      "metadata": {
        "id": "2nOUvCRMtWTk"
      }
    },
    {
      "cell_type": "markdown",
      "source": [
        "### **5. Περιγραφή στηλών**"
      ],
      "metadata": {
        "id": "D6Kce_6nKLn6"
      }
    },
    {
      "cell_type": "markdown",
      "source": [
        "**5.1 Μοναδικές τιμές σε μία στήλη**"
      ],
      "metadata": {
        "id": "FkNrYoZ54Xql"
      }
    },
    {
      "cell_type": "code",
      "source": [
        "df['continent'].unique()"
      ],
      "metadata": {
        "id": "Vg49apik4h4w"
      },
      "execution_count": null,
      "outputs": []
    },
    {
      "cell_type": "markdown",
      "source": [
        "**5.2 describe() - περιγραφή τιμών σε μία στήλη**\n",
        "\n",
        "Η περιγραφή των τιμών μιάς μεταβλητής, δηλαδή τα αποτελέσματα που μας δίνει το describe(), εξαρτάται από το είδος της μεταβλητής που περιέχει η στήλη.\n",
        "\n",
        "![](https://drive.google.com/uc?export=view&id=1oB0c05u3hYw3QPGhRNW-D5eRqw9oqFf7)\n"
      ],
      "metadata": {
        "id": "U0bcNZ3OjcCx"
      }
    },
    {
      "cell_type": "markdown",
      "source": [
        "**5.2.1 describe() - αριθμητική μεταβλητή (numerical variable)**"
      ],
      "metadata": {
        "id": "DY4KAfgmo_xQ"
      }
    },
    {
      "cell_type": "code",
      "source": [
        "df['life_expectancy'].describe()"
      ],
      "metadata": {
        "id": "hTUw1EhJj0J1"
      },
      "execution_count": null,
      "outputs": []
    },
    {
      "cell_type": "markdown",
      "source": [
        "**5.2.2 describe() - κατηγορική μεταβλητή (categorical variable)**"
      ],
      "metadata": {
        "id": "_vjaLPw_pa5M"
      }
    },
    {
      "cell_type": "code",
      "source": [
        "df['continent'].describe()"
      ],
      "metadata": {
        "id": "M2NsVXNbjsra"
      },
      "execution_count": null,
      "outputs": []
    },
    {
      "cell_type": "markdown",
      "source": [
        "**5.3 value_counts() μέτρηση αριθμού εμφανίσεων των τιμών μιας μεταβλητής / πίνακας συχνοτήτων (frequencies)**"
      ],
      "metadata": {
        "id": "1oQQ7wkGqoM3"
      }
    },
    {
      "cell_type": "code",
      "source": [
        "df['continent'].value_counts().head()  #ποσες εγγραφές υπάρχουν με ίδιο όνομα στην ίδια στήλη,\n"
      ],
      "metadata": {
        "id": "1scR1ApLr8pV",
        "outputId": "89d958fa-acdc-4783-de10-75685bba24d8",
        "colab": {
          "base_uri": "https://localhost:8080/",
          "height": 272
        }
      },
      "execution_count": 32,
      "outputs": [
        {
          "output_type": "execute_result",
          "data": {
            "text/plain": [
              "continent\n",
              "Africa        54\n",
              "Asia          48\n",
              "Europe        42\n",
              "N. America    22\n",
              "S. America    12\n",
              "Name: count, dtype: int64"
            ],
            "text/html": [
              "<div>\n",
              "<style scoped>\n",
              "    .dataframe tbody tr th:only-of-type {\n",
              "        vertical-align: middle;\n",
              "    }\n",
              "\n",
              "    .dataframe tbody tr th {\n",
              "        vertical-align: top;\n",
              "    }\n",
              "\n",
              "    .dataframe thead th {\n",
              "        text-align: right;\n",
              "    }\n",
              "</style>\n",
              "<table border=\"1\" class=\"dataframe\">\n",
              "  <thead>\n",
              "    <tr style=\"text-align: right;\">\n",
              "      <th></th>\n",
              "      <th>count</th>\n",
              "    </tr>\n",
              "    <tr>\n",
              "      <th>continent</th>\n",
              "      <th></th>\n",
              "    </tr>\n",
              "  </thead>\n",
              "  <tbody>\n",
              "    <tr>\n",
              "      <th>Africa</th>\n",
              "      <td>54</td>\n",
              "    </tr>\n",
              "    <tr>\n",
              "      <th>Asia</th>\n",
              "      <td>48</td>\n",
              "    </tr>\n",
              "    <tr>\n",
              "      <th>Europe</th>\n",
              "      <td>42</td>\n",
              "    </tr>\n",
              "    <tr>\n",
              "      <th>N. America</th>\n",
              "      <td>22</td>\n",
              "    </tr>\n",
              "    <tr>\n",
              "      <th>S. America</th>\n",
              "      <td>12</td>\n",
              "    </tr>\n",
              "  </tbody>\n",
              "</table>\n",
              "</div><br><label><b>dtype:</b> int64</label>"
            ]
          },
          "metadata": {},
          "execution_count": 32
        }
      ]
    },
    {
      "cell_type": "code",
      "source": [
        "df['gdp_per_capita'].value_counts().head()"
      ],
      "metadata": {
        "id": "XLtHXpCZrX2_",
        "outputId": "cd738ff5-d02f-4a6d-e5cb-698ce2a1efdc",
        "colab": {
          "base_uri": "https://localhost:8080/",
          "height": 272
        }
      },
      "execution_count": 33,
      "outputs": [
        {
          "output_type": "execute_result",
          "data": {
            "text/plain": [
              "gdp_per_capita\n",
              "1001     2\n",
              "881      2\n",
              "5098     1\n",
              "2446     1\n",
              "12738    1\n",
              "Name: count, dtype: int64"
            ],
            "text/html": [
              "<div>\n",
              "<style scoped>\n",
              "    .dataframe tbody tr th:only-of-type {\n",
              "        vertical-align: middle;\n",
              "    }\n",
              "\n",
              "    .dataframe tbody tr th {\n",
              "        vertical-align: top;\n",
              "    }\n",
              "\n",
              "    .dataframe thead th {\n",
              "        text-align: right;\n",
              "    }\n",
              "</style>\n",
              "<table border=\"1\" class=\"dataframe\">\n",
              "  <thead>\n",
              "    <tr style=\"text-align: right;\">\n",
              "      <th></th>\n",
              "      <th>count</th>\n",
              "    </tr>\n",
              "    <tr>\n",
              "      <th>gdp_per_capita</th>\n",
              "      <th></th>\n",
              "    </tr>\n",
              "  </thead>\n",
              "  <tbody>\n",
              "    <tr>\n",
              "      <th>1001</th>\n",
              "      <td>2</td>\n",
              "    </tr>\n",
              "    <tr>\n",
              "      <th>881</th>\n",
              "      <td>2</td>\n",
              "    </tr>\n",
              "    <tr>\n",
              "      <th>5098</th>\n",
              "      <td>1</td>\n",
              "    </tr>\n",
              "    <tr>\n",
              "      <th>2446</th>\n",
              "      <td>1</td>\n",
              "    </tr>\n",
              "    <tr>\n",
              "      <th>12738</th>\n",
              "      <td>1</td>\n",
              "    </tr>\n",
              "  </tbody>\n",
              "</table>\n",
              "</div><br><label><b>dtype:</b> int64</label>"
            ]
          },
          "metadata": {},
          "execution_count": 33
        }
      ]
    },
    {
      "cell_type": "markdown",
      "source": [
        "---\n",
        "**Άσκηση 3**:\n",
        "\n",
        "Μετατρέψτε το προσδόκιμο ζωής σε ακέραιο και φτιάξτε τον πίνακα συχνοτήτων του"
      ],
      "metadata": {
        "id": "XJ7GLhzyrk9O"
      }
    },
    {
      "cell_type": "code",
      "source": [],
      "metadata": {
        "id": "f3Hn603Xr0-k"
      },
      "execution_count": null,
      "outputs": []
    },
    {
      "cell_type": "markdown",
      "source": [
        "---"
      ],
      "metadata": {
        "id": "iL-lyedNrxs0"
      }
    },
    {
      "cell_type": "markdown",
      "source": [
        "**6.1 sort_values() - ταξινόμηση τιμών ως προς μία στήλη**"
      ],
      "metadata": {
        "id": "775Kr2h11_9o"
      }
    },
    {
      "cell_type": "code",
      "source": [
        "# η ταξινόμιση που υπάρχει ήδη είναι με αλφαβητική σειρά ως προς τη χώρα, τα ταξινομεί σε αύξουσα σειρά επειδήα υτό είναι το ντιφολτ του"
      ],
      "metadata": {
        "id": "SyPwpuGTiNeP"
      },
      "execution_count": 35,
      "outputs": []
    },
    {
      "cell_type": "markdown",
      "source": [
        "### **6. Ταξινόμηση**"
      ],
      "metadata": {
        "id": "JGW-93_eNjfU"
      }
    },
    {
      "cell_type": "code",
      "source": [
        "# ταξινόμηση ως προς τη στήλη \"population\"\n",
        "# το default είναι σε αύξουσα σειρά\n",
        "df.sort_values(by='population').head()"
      ],
      "metadata": {
        "id": "fDP9YrEUhl2j",
        "outputId": "407afd2b-1580-4955-eb39-4ca1cf20bf5d",
        "colab": {
          "base_uri": "https://localhost:8080/",
          "height": 206
        }
      },
      "execution_count": 34,
      "outputs": [
        {
          "output_type": "execute_result",
          "data": {
            "text/plain": [
              "                 country   continent  gdp_per_capita  life_expectancy  \\\n",
              "64             Greenland  N. America           33204           67.030   \n",
              "4    Antigua and Barbuda  N. America           12738           73.544   \n",
              "146           Seychelles      Africa           15230           71.771   \n",
              "87              Kiribati     Oceania            3501           64.642   \n",
              "169                Tonga     Oceania            4886           70.810   \n",
              "\n",
              "     population  \n",
              "64        56196  \n",
              "4         77656  \n",
              "146       78685  \n",
              "87        84010  \n",
              "169       97935  "
            ],
            "text/html": [
              "\n",
              "  <div id=\"df-0e089ea5-f5f3-4ed1-9b3e-0096be5998b1\" class=\"colab-df-container\">\n",
              "    <div>\n",
              "<style scoped>\n",
              "    .dataframe tbody tr th:only-of-type {\n",
              "        vertical-align: middle;\n",
              "    }\n",
              "\n",
              "    .dataframe tbody tr th {\n",
              "        vertical-align: top;\n",
              "    }\n",
              "\n",
              "    .dataframe thead th {\n",
              "        text-align: right;\n",
              "    }\n",
              "</style>\n",
              "<table border=\"1\" class=\"dataframe\">\n",
              "  <thead>\n",
              "    <tr style=\"text-align: right;\">\n",
              "      <th></th>\n",
              "      <th>country</th>\n",
              "      <th>continent</th>\n",
              "      <th>gdp_per_capita</th>\n",
              "      <th>life_expectancy</th>\n",
              "      <th>population</th>\n",
              "    </tr>\n",
              "  </thead>\n",
              "  <tbody>\n",
              "    <tr>\n",
              "      <th>64</th>\n",
              "      <td>Greenland</td>\n",
              "      <td>N. America</td>\n",
              "      <td>33204</td>\n",
              "      <td>67.030</td>\n",
              "      <td>56196</td>\n",
              "    </tr>\n",
              "    <tr>\n",
              "      <th>4</th>\n",
              "      <td>Antigua and Barbuda</td>\n",
              "      <td>N. America</td>\n",
              "      <td>12738</td>\n",
              "      <td>73.544</td>\n",
              "      <td>77656</td>\n",
              "    </tr>\n",
              "    <tr>\n",
              "      <th>146</th>\n",
              "      <td>Seychelles</td>\n",
              "      <td>Africa</td>\n",
              "      <td>15230</td>\n",
              "      <td>71.771</td>\n",
              "      <td>78685</td>\n",
              "    </tr>\n",
              "    <tr>\n",
              "      <th>87</th>\n",
              "      <td>Kiribati</td>\n",
              "      <td>Oceania</td>\n",
              "      <td>3501</td>\n",
              "      <td>64.642</td>\n",
              "      <td>84010</td>\n",
              "    </tr>\n",
              "    <tr>\n",
              "      <th>169</th>\n",
              "      <td>Tonga</td>\n",
              "      <td>Oceania</td>\n",
              "      <td>4886</td>\n",
              "      <td>70.810</td>\n",
              "      <td>97935</td>\n",
              "    </tr>\n",
              "  </tbody>\n",
              "</table>\n",
              "</div>\n",
              "    <div class=\"colab-df-buttons\">\n",
              "\n",
              "  <div class=\"colab-df-container\">\n",
              "    <button class=\"colab-df-convert\" onclick=\"convertToInteractive('df-0e089ea5-f5f3-4ed1-9b3e-0096be5998b1')\"\n",
              "            title=\"Convert this dataframe to an interactive table.\"\n",
              "            style=\"display:none;\">\n",
              "\n",
              "  <svg xmlns=\"http://www.w3.org/2000/svg\" height=\"24px\" viewBox=\"0 -960 960 960\">\n",
              "    <path d=\"M120-120v-720h720v720H120Zm60-500h600v-160H180v160Zm220 220h160v-160H400v160Zm0 220h160v-160H400v160ZM180-400h160v-160H180v160Zm440 0h160v-160H620v160ZM180-180h160v-160H180v160Zm440 0h160v-160H620v160Z\"/>\n",
              "  </svg>\n",
              "    </button>\n",
              "\n",
              "  <style>\n",
              "    .colab-df-container {\n",
              "      display:flex;\n",
              "      gap: 12px;\n",
              "    }\n",
              "\n",
              "    .colab-df-convert {\n",
              "      background-color: #E8F0FE;\n",
              "      border: none;\n",
              "      border-radius: 50%;\n",
              "      cursor: pointer;\n",
              "      display: none;\n",
              "      fill: #1967D2;\n",
              "      height: 32px;\n",
              "      padding: 0 0 0 0;\n",
              "      width: 32px;\n",
              "    }\n",
              "\n",
              "    .colab-df-convert:hover {\n",
              "      background-color: #E2EBFA;\n",
              "      box-shadow: 0px 1px 2px rgba(60, 64, 67, 0.3), 0px 1px 3px 1px rgba(60, 64, 67, 0.15);\n",
              "      fill: #174EA6;\n",
              "    }\n",
              "\n",
              "    .colab-df-buttons div {\n",
              "      margin-bottom: 4px;\n",
              "    }\n",
              "\n",
              "    [theme=dark] .colab-df-convert {\n",
              "      background-color: #3B4455;\n",
              "      fill: #D2E3FC;\n",
              "    }\n",
              "\n",
              "    [theme=dark] .colab-df-convert:hover {\n",
              "      background-color: #434B5C;\n",
              "      box-shadow: 0px 1px 3px 1px rgba(0, 0, 0, 0.15);\n",
              "      filter: drop-shadow(0px 1px 2px rgba(0, 0, 0, 0.3));\n",
              "      fill: #FFFFFF;\n",
              "    }\n",
              "  </style>\n",
              "\n",
              "    <script>\n",
              "      const buttonEl =\n",
              "        document.querySelector('#df-0e089ea5-f5f3-4ed1-9b3e-0096be5998b1 button.colab-df-convert');\n",
              "      buttonEl.style.display =\n",
              "        google.colab.kernel.accessAllowed ? 'block' : 'none';\n",
              "\n",
              "      async function convertToInteractive(key) {\n",
              "        const element = document.querySelector('#df-0e089ea5-f5f3-4ed1-9b3e-0096be5998b1');\n",
              "        const dataTable =\n",
              "          await google.colab.kernel.invokeFunction('convertToInteractive',\n",
              "                                                    [key], {});\n",
              "        if (!dataTable) return;\n",
              "\n",
              "        const docLinkHtml = 'Like what you see? Visit the ' +\n",
              "          '<a target=\"_blank\" href=https://colab.research.google.com/notebooks/data_table.ipynb>data table notebook</a>'\n",
              "          + ' to learn more about interactive tables.';\n",
              "        element.innerHTML = '';\n",
              "        dataTable['output_type'] = 'display_data';\n",
              "        await google.colab.output.renderOutput(dataTable, element);\n",
              "        const docLink = document.createElement('div');\n",
              "        docLink.innerHTML = docLinkHtml;\n",
              "        element.appendChild(docLink);\n",
              "      }\n",
              "    </script>\n",
              "  </div>\n",
              "\n",
              "\n",
              "    <div id=\"df-c0a0c84a-f396-424e-b500-588855881b73\">\n",
              "      <button class=\"colab-df-quickchart\" onclick=\"quickchart('df-c0a0c84a-f396-424e-b500-588855881b73')\"\n",
              "                title=\"Suggest charts\"\n",
              "                style=\"display:none;\">\n",
              "\n",
              "<svg xmlns=\"http://www.w3.org/2000/svg\" height=\"24px\"viewBox=\"0 0 24 24\"\n",
              "     width=\"24px\">\n",
              "    <g>\n",
              "        <path d=\"M19 3H5c-1.1 0-2 .9-2 2v14c0 1.1.9 2 2 2h14c1.1 0 2-.9 2-2V5c0-1.1-.9-2-2-2zM9 17H7v-7h2v7zm4 0h-2V7h2v10zm4 0h-2v-4h2v4z\"/>\n",
              "    </g>\n",
              "</svg>\n",
              "      </button>\n",
              "\n",
              "<style>\n",
              "  .colab-df-quickchart {\n",
              "      --bg-color: #E8F0FE;\n",
              "      --fill-color: #1967D2;\n",
              "      --hover-bg-color: #E2EBFA;\n",
              "      --hover-fill-color: #174EA6;\n",
              "      --disabled-fill-color: #AAA;\n",
              "      --disabled-bg-color: #DDD;\n",
              "  }\n",
              "\n",
              "  [theme=dark] .colab-df-quickchart {\n",
              "      --bg-color: #3B4455;\n",
              "      --fill-color: #D2E3FC;\n",
              "      --hover-bg-color: #434B5C;\n",
              "      --hover-fill-color: #FFFFFF;\n",
              "      --disabled-bg-color: #3B4455;\n",
              "      --disabled-fill-color: #666;\n",
              "  }\n",
              "\n",
              "  .colab-df-quickchart {\n",
              "    background-color: var(--bg-color);\n",
              "    border: none;\n",
              "    border-radius: 50%;\n",
              "    cursor: pointer;\n",
              "    display: none;\n",
              "    fill: var(--fill-color);\n",
              "    height: 32px;\n",
              "    padding: 0;\n",
              "    width: 32px;\n",
              "  }\n",
              "\n",
              "  .colab-df-quickchart:hover {\n",
              "    background-color: var(--hover-bg-color);\n",
              "    box-shadow: 0 1px 2px rgba(60, 64, 67, 0.3), 0 1px 3px 1px rgba(60, 64, 67, 0.15);\n",
              "    fill: var(--button-hover-fill-color);\n",
              "  }\n",
              "\n",
              "  .colab-df-quickchart-complete:disabled,\n",
              "  .colab-df-quickchart-complete:disabled:hover {\n",
              "    background-color: var(--disabled-bg-color);\n",
              "    fill: var(--disabled-fill-color);\n",
              "    box-shadow: none;\n",
              "  }\n",
              "\n",
              "  .colab-df-spinner {\n",
              "    border: 2px solid var(--fill-color);\n",
              "    border-color: transparent;\n",
              "    border-bottom-color: var(--fill-color);\n",
              "    animation:\n",
              "      spin 1s steps(1) infinite;\n",
              "  }\n",
              "\n",
              "  @keyframes spin {\n",
              "    0% {\n",
              "      border-color: transparent;\n",
              "      border-bottom-color: var(--fill-color);\n",
              "      border-left-color: var(--fill-color);\n",
              "    }\n",
              "    20% {\n",
              "      border-color: transparent;\n",
              "      border-left-color: var(--fill-color);\n",
              "      border-top-color: var(--fill-color);\n",
              "    }\n",
              "    30% {\n",
              "      border-color: transparent;\n",
              "      border-left-color: var(--fill-color);\n",
              "      border-top-color: var(--fill-color);\n",
              "      border-right-color: var(--fill-color);\n",
              "    }\n",
              "    40% {\n",
              "      border-color: transparent;\n",
              "      border-right-color: var(--fill-color);\n",
              "      border-top-color: var(--fill-color);\n",
              "    }\n",
              "    60% {\n",
              "      border-color: transparent;\n",
              "      border-right-color: var(--fill-color);\n",
              "    }\n",
              "    80% {\n",
              "      border-color: transparent;\n",
              "      border-right-color: var(--fill-color);\n",
              "      border-bottom-color: var(--fill-color);\n",
              "    }\n",
              "    90% {\n",
              "      border-color: transparent;\n",
              "      border-bottom-color: var(--fill-color);\n",
              "    }\n",
              "  }\n",
              "</style>\n",
              "\n",
              "      <script>\n",
              "        async function quickchart(key) {\n",
              "          const quickchartButtonEl =\n",
              "            document.querySelector('#' + key + ' button');\n",
              "          quickchartButtonEl.disabled = true;  // To prevent multiple clicks.\n",
              "          quickchartButtonEl.classList.add('colab-df-spinner');\n",
              "          try {\n",
              "            const charts = await google.colab.kernel.invokeFunction(\n",
              "                'suggestCharts', [key], {});\n",
              "          } catch (error) {\n",
              "            console.error('Error during call to suggestCharts:', error);\n",
              "          }\n",
              "          quickchartButtonEl.classList.remove('colab-df-spinner');\n",
              "          quickchartButtonEl.classList.add('colab-df-quickchart-complete');\n",
              "        }\n",
              "        (() => {\n",
              "          let quickchartButtonEl =\n",
              "            document.querySelector('#df-c0a0c84a-f396-424e-b500-588855881b73 button');\n",
              "          quickchartButtonEl.style.display =\n",
              "            google.colab.kernel.accessAllowed ? 'block' : 'none';\n",
              "        })();\n",
              "      </script>\n",
              "    </div>\n",
              "\n",
              "    </div>\n",
              "  </div>\n"
            ],
            "application/vnd.google.colaboratory.intrinsic+json": {
              "type": "dataframe",
              "summary": "{\n  \"name\": \"df\",\n  \"rows\": 5,\n  \"fields\": [\n    {\n      \"column\": \"country\",\n      \"properties\": {\n        \"dtype\": \"string\",\n        \"num_unique_values\": 5,\n        \"samples\": [\n          \"Antigua and Barbuda\",\n          \"Tonga\",\n          \"Seychelles\"\n        ],\n        \"semantic_type\": \"\",\n        \"description\": \"\"\n      }\n    },\n    {\n      \"column\": \"continent\",\n      \"properties\": {\n        \"dtype\": \"string\",\n        \"num_unique_values\": 3,\n        \"samples\": [\n          \"N. America\",\n          \"Africa\",\n          \"Oceania\"\n        ],\n        \"semantic_type\": \"\",\n        \"description\": \"\"\n      }\n    },\n    {\n      \"column\": \"gdp_per_capita\",\n      \"properties\": {\n        \"dtype\": \"number\",\n        \"std\": 11886,\n        \"min\": 3501,\n        \"max\": 33204,\n        \"num_unique_values\": 5,\n        \"samples\": [\n          12738,\n          4886,\n          15230\n        ],\n        \"semantic_type\": \"\",\n        \"description\": \"\"\n      }\n    },\n    {\n      \"column\": \"life_expectancy\",\n      \"properties\": {\n        \"dtype\": \"number\",\n        \"std\": 3.6369939235583013,\n        \"min\": 64.642,\n        \"max\": 73.544,\n        \"num_unique_values\": 5,\n        \"samples\": [\n          73.544,\n          70.81,\n          71.771\n        ],\n        \"semantic_type\": \"\",\n        \"description\": \"\"\n      }\n    },\n    {\n      \"column\": \"population\",\n      \"properties\": {\n        \"dtype\": \"number\",\n        \"std\": 15045,\n        \"min\": 56196,\n        \"max\": 97935,\n        \"num_unique_values\": 5,\n        \"samples\": [\n          77656,\n          97935,\n          78685\n        ],\n        \"semantic_type\": \"\",\n        \"description\": \"\"\n      }\n    }\n  ]\n}"
            }
          },
          "metadata": {},
          "execution_count": 34
        }
      ]
    },
    {
      "cell_type": "code",
      "source": [
        "# ταξινόμηση σε φθίνουσα σειρά\n",
        "# το \"by=\" μπορεί και να παραληφθεί\n",
        "df.sort_values('population', ascending = False).head()"
      ],
      "metadata": {
        "id": "ZD3fj92ai1NT",
        "outputId": "39ed8c3a-79f7-4b44-b51d-1a172358ce9c",
        "colab": {
          "base_uri": "https://localhost:8080/",
          "height": 206
        }
      },
      "execution_count": 36,
      "outputs": [
        {
          "output_type": "execute_result",
          "data": {
            "text/plain": [
              "           country   continent  gdp_per_capita  life_expectancy  population\n",
              "34           China        Asia            3407           72.124  1269116737\n",
              "75           India        Asia            1648           62.129  1053898107\n",
              "178  United States  N. America           39758           76.800   282496310\n",
              "76       Indonesia        Asia            2714           67.289   213395411\n",
              "22          Brazil  S. America            8056           70.261   174425387"
            ],
            "text/html": [
              "\n",
              "  <div id=\"df-dc2e920b-6e56-43c6-81f6-5c0f158337af\" class=\"colab-df-container\">\n",
              "    <div>\n",
              "<style scoped>\n",
              "    .dataframe tbody tr th:only-of-type {\n",
              "        vertical-align: middle;\n",
              "    }\n",
              "\n",
              "    .dataframe tbody tr th {\n",
              "        vertical-align: top;\n",
              "    }\n",
              "\n",
              "    .dataframe thead th {\n",
              "        text-align: right;\n",
              "    }\n",
              "</style>\n",
              "<table border=\"1\" class=\"dataframe\">\n",
              "  <thead>\n",
              "    <tr style=\"text-align: right;\">\n",
              "      <th></th>\n",
              "      <th>country</th>\n",
              "      <th>continent</th>\n",
              "      <th>gdp_per_capita</th>\n",
              "      <th>life_expectancy</th>\n",
              "      <th>population</th>\n",
              "    </tr>\n",
              "  </thead>\n",
              "  <tbody>\n",
              "    <tr>\n",
              "      <th>34</th>\n",
              "      <td>China</td>\n",
              "      <td>Asia</td>\n",
              "      <td>3407</td>\n",
              "      <td>72.124</td>\n",
              "      <td>1269116737</td>\n",
              "    </tr>\n",
              "    <tr>\n",
              "      <th>75</th>\n",
              "      <td>India</td>\n",
              "      <td>Asia</td>\n",
              "      <td>1648</td>\n",
              "      <td>62.129</td>\n",
              "      <td>1053898107</td>\n",
              "    </tr>\n",
              "    <tr>\n",
              "      <th>178</th>\n",
              "      <td>United States</td>\n",
              "      <td>N. America</td>\n",
              "      <td>39758</td>\n",
              "      <td>76.800</td>\n",
              "      <td>282496310</td>\n",
              "    </tr>\n",
              "    <tr>\n",
              "      <th>76</th>\n",
              "      <td>Indonesia</td>\n",
              "      <td>Asia</td>\n",
              "      <td>2714</td>\n",
              "      <td>67.289</td>\n",
              "      <td>213395411</td>\n",
              "    </tr>\n",
              "    <tr>\n",
              "      <th>22</th>\n",
              "      <td>Brazil</td>\n",
              "      <td>S. America</td>\n",
              "      <td>8056</td>\n",
              "      <td>70.261</td>\n",
              "      <td>174425387</td>\n",
              "    </tr>\n",
              "  </tbody>\n",
              "</table>\n",
              "</div>\n",
              "    <div class=\"colab-df-buttons\">\n",
              "\n",
              "  <div class=\"colab-df-container\">\n",
              "    <button class=\"colab-df-convert\" onclick=\"convertToInteractive('df-dc2e920b-6e56-43c6-81f6-5c0f158337af')\"\n",
              "            title=\"Convert this dataframe to an interactive table.\"\n",
              "            style=\"display:none;\">\n",
              "\n",
              "  <svg xmlns=\"http://www.w3.org/2000/svg\" height=\"24px\" viewBox=\"0 -960 960 960\">\n",
              "    <path d=\"M120-120v-720h720v720H120Zm60-500h600v-160H180v160Zm220 220h160v-160H400v160Zm0 220h160v-160H400v160ZM180-400h160v-160H180v160Zm440 0h160v-160H620v160ZM180-180h160v-160H180v160Zm440 0h160v-160H620v160Z\"/>\n",
              "  </svg>\n",
              "    </button>\n",
              "\n",
              "  <style>\n",
              "    .colab-df-container {\n",
              "      display:flex;\n",
              "      gap: 12px;\n",
              "    }\n",
              "\n",
              "    .colab-df-convert {\n",
              "      background-color: #E8F0FE;\n",
              "      border: none;\n",
              "      border-radius: 50%;\n",
              "      cursor: pointer;\n",
              "      display: none;\n",
              "      fill: #1967D2;\n",
              "      height: 32px;\n",
              "      padding: 0 0 0 0;\n",
              "      width: 32px;\n",
              "    }\n",
              "\n",
              "    .colab-df-convert:hover {\n",
              "      background-color: #E2EBFA;\n",
              "      box-shadow: 0px 1px 2px rgba(60, 64, 67, 0.3), 0px 1px 3px 1px rgba(60, 64, 67, 0.15);\n",
              "      fill: #174EA6;\n",
              "    }\n",
              "\n",
              "    .colab-df-buttons div {\n",
              "      margin-bottom: 4px;\n",
              "    }\n",
              "\n",
              "    [theme=dark] .colab-df-convert {\n",
              "      background-color: #3B4455;\n",
              "      fill: #D2E3FC;\n",
              "    }\n",
              "\n",
              "    [theme=dark] .colab-df-convert:hover {\n",
              "      background-color: #434B5C;\n",
              "      box-shadow: 0px 1px 3px 1px rgba(0, 0, 0, 0.15);\n",
              "      filter: drop-shadow(0px 1px 2px rgba(0, 0, 0, 0.3));\n",
              "      fill: #FFFFFF;\n",
              "    }\n",
              "  </style>\n",
              "\n",
              "    <script>\n",
              "      const buttonEl =\n",
              "        document.querySelector('#df-dc2e920b-6e56-43c6-81f6-5c0f158337af button.colab-df-convert');\n",
              "      buttonEl.style.display =\n",
              "        google.colab.kernel.accessAllowed ? 'block' : 'none';\n",
              "\n",
              "      async function convertToInteractive(key) {\n",
              "        const element = document.querySelector('#df-dc2e920b-6e56-43c6-81f6-5c0f158337af');\n",
              "        const dataTable =\n",
              "          await google.colab.kernel.invokeFunction('convertToInteractive',\n",
              "                                                    [key], {});\n",
              "        if (!dataTable) return;\n",
              "\n",
              "        const docLinkHtml = 'Like what you see? Visit the ' +\n",
              "          '<a target=\"_blank\" href=https://colab.research.google.com/notebooks/data_table.ipynb>data table notebook</a>'\n",
              "          + ' to learn more about interactive tables.';\n",
              "        element.innerHTML = '';\n",
              "        dataTable['output_type'] = 'display_data';\n",
              "        await google.colab.output.renderOutput(dataTable, element);\n",
              "        const docLink = document.createElement('div');\n",
              "        docLink.innerHTML = docLinkHtml;\n",
              "        element.appendChild(docLink);\n",
              "      }\n",
              "    </script>\n",
              "  </div>\n",
              "\n",
              "\n",
              "    <div id=\"df-a932474a-e493-45c0-bc54-91e8a09656f3\">\n",
              "      <button class=\"colab-df-quickchart\" onclick=\"quickchart('df-a932474a-e493-45c0-bc54-91e8a09656f3')\"\n",
              "                title=\"Suggest charts\"\n",
              "                style=\"display:none;\">\n",
              "\n",
              "<svg xmlns=\"http://www.w3.org/2000/svg\" height=\"24px\"viewBox=\"0 0 24 24\"\n",
              "     width=\"24px\">\n",
              "    <g>\n",
              "        <path d=\"M19 3H5c-1.1 0-2 .9-2 2v14c0 1.1.9 2 2 2h14c1.1 0 2-.9 2-2V5c0-1.1-.9-2-2-2zM9 17H7v-7h2v7zm4 0h-2V7h2v10zm4 0h-2v-4h2v4z\"/>\n",
              "    </g>\n",
              "</svg>\n",
              "      </button>\n",
              "\n",
              "<style>\n",
              "  .colab-df-quickchart {\n",
              "      --bg-color: #E8F0FE;\n",
              "      --fill-color: #1967D2;\n",
              "      --hover-bg-color: #E2EBFA;\n",
              "      --hover-fill-color: #174EA6;\n",
              "      --disabled-fill-color: #AAA;\n",
              "      --disabled-bg-color: #DDD;\n",
              "  }\n",
              "\n",
              "  [theme=dark] .colab-df-quickchart {\n",
              "      --bg-color: #3B4455;\n",
              "      --fill-color: #D2E3FC;\n",
              "      --hover-bg-color: #434B5C;\n",
              "      --hover-fill-color: #FFFFFF;\n",
              "      --disabled-bg-color: #3B4455;\n",
              "      --disabled-fill-color: #666;\n",
              "  }\n",
              "\n",
              "  .colab-df-quickchart {\n",
              "    background-color: var(--bg-color);\n",
              "    border: none;\n",
              "    border-radius: 50%;\n",
              "    cursor: pointer;\n",
              "    display: none;\n",
              "    fill: var(--fill-color);\n",
              "    height: 32px;\n",
              "    padding: 0;\n",
              "    width: 32px;\n",
              "  }\n",
              "\n",
              "  .colab-df-quickchart:hover {\n",
              "    background-color: var(--hover-bg-color);\n",
              "    box-shadow: 0 1px 2px rgba(60, 64, 67, 0.3), 0 1px 3px 1px rgba(60, 64, 67, 0.15);\n",
              "    fill: var(--button-hover-fill-color);\n",
              "  }\n",
              "\n",
              "  .colab-df-quickchart-complete:disabled,\n",
              "  .colab-df-quickchart-complete:disabled:hover {\n",
              "    background-color: var(--disabled-bg-color);\n",
              "    fill: var(--disabled-fill-color);\n",
              "    box-shadow: none;\n",
              "  }\n",
              "\n",
              "  .colab-df-spinner {\n",
              "    border: 2px solid var(--fill-color);\n",
              "    border-color: transparent;\n",
              "    border-bottom-color: var(--fill-color);\n",
              "    animation:\n",
              "      spin 1s steps(1) infinite;\n",
              "  }\n",
              "\n",
              "  @keyframes spin {\n",
              "    0% {\n",
              "      border-color: transparent;\n",
              "      border-bottom-color: var(--fill-color);\n",
              "      border-left-color: var(--fill-color);\n",
              "    }\n",
              "    20% {\n",
              "      border-color: transparent;\n",
              "      border-left-color: var(--fill-color);\n",
              "      border-top-color: var(--fill-color);\n",
              "    }\n",
              "    30% {\n",
              "      border-color: transparent;\n",
              "      border-left-color: var(--fill-color);\n",
              "      border-top-color: var(--fill-color);\n",
              "      border-right-color: var(--fill-color);\n",
              "    }\n",
              "    40% {\n",
              "      border-color: transparent;\n",
              "      border-right-color: var(--fill-color);\n",
              "      border-top-color: var(--fill-color);\n",
              "    }\n",
              "    60% {\n",
              "      border-color: transparent;\n",
              "      border-right-color: var(--fill-color);\n",
              "    }\n",
              "    80% {\n",
              "      border-color: transparent;\n",
              "      border-right-color: var(--fill-color);\n",
              "      border-bottom-color: var(--fill-color);\n",
              "    }\n",
              "    90% {\n",
              "      border-color: transparent;\n",
              "      border-bottom-color: var(--fill-color);\n",
              "    }\n",
              "  }\n",
              "</style>\n",
              "\n",
              "      <script>\n",
              "        async function quickchart(key) {\n",
              "          const quickchartButtonEl =\n",
              "            document.querySelector('#' + key + ' button');\n",
              "          quickchartButtonEl.disabled = true;  // To prevent multiple clicks.\n",
              "          quickchartButtonEl.classList.add('colab-df-spinner');\n",
              "          try {\n",
              "            const charts = await google.colab.kernel.invokeFunction(\n",
              "                'suggestCharts', [key], {});\n",
              "          } catch (error) {\n",
              "            console.error('Error during call to suggestCharts:', error);\n",
              "          }\n",
              "          quickchartButtonEl.classList.remove('colab-df-spinner');\n",
              "          quickchartButtonEl.classList.add('colab-df-quickchart-complete');\n",
              "        }\n",
              "        (() => {\n",
              "          let quickchartButtonEl =\n",
              "            document.querySelector('#df-a932474a-e493-45c0-bc54-91e8a09656f3 button');\n",
              "          quickchartButtonEl.style.display =\n",
              "            google.colab.kernel.accessAllowed ? 'block' : 'none';\n",
              "        })();\n",
              "      </script>\n",
              "    </div>\n",
              "\n",
              "    </div>\n",
              "  </div>\n"
            ],
            "application/vnd.google.colaboratory.intrinsic+json": {
              "type": "dataframe",
              "summary": "{\n  \"name\": \"df\",\n  \"rows\": 5,\n  \"fields\": [\n    {\n      \"column\": \"country\",\n      \"properties\": {\n        \"dtype\": \"string\",\n        \"num_unique_values\": 5,\n        \"samples\": [\n          \"India\",\n          \"Brazil\",\n          \"United States\"\n        ],\n        \"semantic_type\": \"\",\n        \"description\": \"\"\n      }\n    },\n    {\n      \"column\": \"continent\",\n      \"properties\": {\n        \"dtype\": \"string\",\n        \"num_unique_values\": 3,\n        \"samples\": [\n          \"Asia\",\n          \"N. America\",\n          \"S. America\"\n        ],\n        \"semantic_type\": \"\",\n        \"description\": \"\"\n      }\n    },\n    {\n      \"column\": \"gdp_per_capita\",\n      \"properties\": {\n        \"dtype\": \"number\",\n        \"std\": 16197,\n        \"min\": 1648,\n        \"max\": 39758,\n        \"num_unique_values\": 5,\n        \"samples\": [\n          1648,\n          8056,\n          39758\n        ],\n        \"semantic_type\": \"\",\n        \"description\": \"\"\n      }\n    },\n    {\n      \"column\": \"life_expectancy\",\n      \"properties\": {\n        \"dtype\": \"number\",\n        \"std\": 5.47109077789795,\n        \"min\": 62.129,\n        \"max\": 76.8,\n        \"num_unique_values\": 5,\n        \"samples\": [\n          62.129,\n          70.26100000000001,\n          76.8\n        ],\n        \"semantic_type\": \"\",\n        \"description\": \"\"\n      }\n    },\n    {\n      \"column\": \"population\",\n      \"properties\": {\n        \"dtype\": \"number\",\n        \"std\": 520844808,\n        \"min\": 174425387,\n        \"max\": 1269116737,\n        \"num_unique_values\": 5,\n        \"samples\": [\n          1053898107,\n          174425387,\n          282496310\n        ],\n        \"semantic_type\": \"\",\n        \"description\": \"\"\n      }\n    }\n  ]\n}"
            }
          },
          "metadata": {},
          "execution_count": 36
        }
      ]
    },
    {
      "cell_type": "markdown",
      "source": [
        "**6.2 sort_values ως προς πολλές στήλες**"
      ],
      "metadata": {
        "id": "y0K9wjb7WtPK"
      }
    },
    {
      "cell_type": "code",
      "source": [
        "df.sort_values(['continent', 'country'], ascending = [True,False]).head()"
      ],
      "metadata": {
        "id": "Du-ZDGvrW2e8"
      },
      "execution_count": null,
      "outputs": []
    },
    {
      "cell_type": "markdown",
      "source": [
        "---\n",
        "**Άσκηση 4**:\n",
        "\n",
        "Ταξινομήστε το dataframe ως προς το gdp_per_capita σε φθίνουσα σειρά και εμφανίστε ένα dataframe μόνο με τις στήλες country και gdp_per_capita"
      ],
      "metadata": {
        "id": "5qidJkbXqbhj"
      }
    },
    {
      "cell_type": "code",
      "source": [],
      "metadata": {
        "id": "B5wC5bwSrEZW"
      },
      "execution_count": null,
      "outputs": []
    },
    {
      "cell_type": "markdown",
      "source": [
        "---"
      ],
      "metadata": {
        "id": "WIjLMX4irE4r"
      }
    },
    {
      "cell_type": "markdown",
      "source": [
        "### **7. Φιλτράρισμα**"
      ],
      "metadata": {
        "id": "AUn2VMHVZguH"
      }
    },
    {
      "cell_type": "markdown",
      "source": [
        "**7.1 Φιλτράρισμα στη βάση MIΑΣ συνθήκης (filtering based on ONE condition)**\n",
        "\n",
        "Όπως έχουμε δει στη for loop και στις if statements:\n",
        "* ο ορισμός μιας συνθήκης βασίζεται στις τιμές boolean **True/False**\n",
        "* υλοποιείται με τη χρήση τελεστών: **==**, **!=**, **<**, **>**, **<=**, **>=**"
      ],
      "metadata": {
        "id": "FGqwkfRss0c7"
      }
    },
    {
      "cell_type": "code",
      "source": [
        "# η τιμή της στήλης \"continent\" είναι \"Asia\"\n",
        "df['continent'] == 'Asia'  #το == ειναι τελεστής ελέγχου, είανι δηλ ερωτήματα. αυτοί οι τελεστές πάντα επιστρέφουν με true h false"
      ],
      "metadata": {
        "id": "vvJQBgu1vj-k",
        "outputId": "c195594e-8f75-4cde-de31-3e8e2fc5804c",
        "colab": {
          "base_uri": "https://localhost:8080/",
          "height": 458
        }
      },
      "execution_count": 37,
      "outputs": [
        {
          "output_type": "execute_result",
          "data": {
            "text/plain": [
              "0       True\n",
              "1      False\n",
              "2      False\n",
              "3      False\n",
              "4      False\n",
              "       ...  \n",
              "183     True\n",
              "184     True\n",
              "185     True\n",
              "186    False\n",
              "187    False\n",
              "Name: continent, Length: 188, dtype: bool"
            ],
            "text/html": [
              "<div>\n",
              "<style scoped>\n",
              "    .dataframe tbody tr th:only-of-type {\n",
              "        vertical-align: middle;\n",
              "    }\n",
              "\n",
              "    .dataframe tbody tr th {\n",
              "        vertical-align: top;\n",
              "    }\n",
              "\n",
              "    .dataframe thead th {\n",
              "        text-align: right;\n",
              "    }\n",
              "</style>\n",
              "<table border=\"1\" class=\"dataframe\">\n",
              "  <thead>\n",
              "    <tr style=\"text-align: right;\">\n",
              "      <th></th>\n",
              "      <th>continent</th>\n",
              "    </tr>\n",
              "  </thead>\n",
              "  <tbody>\n",
              "    <tr>\n",
              "      <th>0</th>\n",
              "      <td>True</td>\n",
              "    </tr>\n",
              "    <tr>\n",
              "      <th>1</th>\n",
              "      <td>False</td>\n",
              "    </tr>\n",
              "    <tr>\n",
              "      <th>2</th>\n",
              "      <td>False</td>\n",
              "    </tr>\n",
              "    <tr>\n",
              "      <th>3</th>\n",
              "      <td>False</td>\n",
              "    </tr>\n",
              "    <tr>\n",
              "      <th>4</th>\n",
              "      <td>False</td>\n",
              "    </tr>\n",
              "    <tr>\n",
              "      <th>...</th>\n",
              "      <td>...</td>\n",
              "    </tr>\n",
              "    <tr>\n",
              "      <th>183</th>\n",
              "      <td>True</td>\n",
              "    </tr>\n",
              "    <tr>\n",
              "      <th>184</th>\n",
              "      <td>True</td>\n",
              "    </tr>\n",
              "    <tr>\n",
              "      <th>185</th>\n",
              "      <td>True</td>\n",
              "    </tr>\n",
              "    <tr>\n",
              "      <th>186</th>\n",
              "      <td>False</td>\n",
              "    </tr>\n",
              "    <tr>\n",
              "      <th>187</th>\n",
              "      <td>False</td>\n",
              "    </tr>\n",
              "  </tbody>\n",
              "</table>\n",
              "<p>188 rows × 1 columns</p>\n",
              "</div><br><label><b>dtype:</b> bool</label>"
            ]
          },
          "metadata": {},
          "execution_count": 37
        }
      ]
    },
    {
      "cell_type": "markdown",
      "source": [
        "Για να δούμε το φιλτραρισμένο dataframe πρέπει να ζητήσουμε το dataframe και να βάλουμε τη συνθήκη του φιλτραρίσματος μέσα σε **square brackets**"
      ],
      "metadata": {
        "id": "HfcrD-DL--Hq"
      }
    },
    {
      "cell_type": "code",
      "source": [
        "# φέρε από το dataframe μόνο τα (5 πρώτα) rows, όπου η τιμή στη στήλη \"continent\" είναι \"Asia\"\n",
        "df[df['continent'] == 'Asia'].head() #από όλο το DF φίλτραρε το ώστε να υπάρχουν μόνο οι χώρες της ασίας"
      ],
      "metadata": {
        "id": "XtuJVhHzydOa",
        "outputId": "a06da757-78ce-4ab9-e0a1-c86424b40792",
        "colab": {
          "base_uri": "https://localhost:8080/",
          "height": 206
        }
      },
      "execution_count": 38,
      "outputs": [
        {
          "output_type": "execute_result",
          "data": {
            "text/plain": [
              "        country continent  gdp_per_capita  life_expectancy  population\n",
              "0   Afghanistan      Asia             663           54.863    22856302\n",
              "11      Bahrain      Asia           22015           74.497      638193\n",
              "12   Bangladesh      Asia            1075           65.309   129592275\n",
              "18       Bhutan      Asia            2922           60.307      571262\n",
              "23       Brunei      Asia           48020           75.927      327036"
            ],
            "text/html": [
              "\n",
              "  <div id=\"df-56c48ed5-9500-49cb-b1b0-93557cf873cd\" class=\"colab-df-container\">\n",
              "    <div>\n",
              "<style scoped>\n",
              "    .dataframe tbody tr th:only-of-type {\n",
              "        vertical-align: middle;\n",
              "    }\n",
              "\n",
              "    .dataframe tbody tr th {\n",
              "        vertical-align: top;\n",
              "    }\n",
              "\n",
              "    .dataframe thead th {\n",
              "        text-align: right;\n",
              "    }\n",
              "</style>\n",
              "<table border=\"1\" class=\"dataframe\">\n",
              "  <thead>\n",
              "    <tr style=\"text-align: right;\">\n",
              "      <th></th>\n",
              "      <th>country</th>\n",
              "      <th>continent</th>\n",
              "      <th>gdp_per_capita</th>\n",
              "      <th>life_expectancy</th>\n",
              "      <th>population</th>\n",
              "    </tr>\n",
              "  </thead>\n",
              "  <tbody>\n",
              "    <tr>\n",
              "      <th>0</th>\n",
              "      <td>Afghanistan</td>\n",
              "      <td>Asia</td>\n",
              "      <td>663</td>\n",
              "      <td>54.863</td>\n",
              "      <td>22856302</td>\n",
              "    </tr>\n",
              "    <tr>\n",
              "      <th>11</th>\n",
              "      <td>Bahrain</td>\n",
              "      <td>Asia</td>\n",
              "      <td>22015</td>\n",
              "      <td>74.497</td>\n",
              "      <td>638193</td>\n",
              "    </tr>\n",
              "    <tr>\n",
              "      <th>12</th>\n",
              "      <td>Bangladesh</td>\n",
              "      <td>Asia</td>\n",
              "      <td>1075</td>\n",
              "      <td>65.309</td>\n",
              "      <td>129592275</td>\n",
              "    </tr>\n",
              "    <tr>\n",
              "      <th>18</th>\n",
              "      <td>Bhutan</td>\n",
              "      <td>Asia</td>\n",
              "      <td>2922</td>\n",
              "      <td>60.307</td>\n",
              "      <td>571262</td>\n",
              "    </tr>\n",
              "    <tr>\n",
              "      <th>23</th>\n",
              "      <td>Brunei</td>\n",
              "      <td>Asia</td>\n",
              "      <td>48020</td>\n",
              "      <td>75.927</td>\n",
              "      <td>327036</td>\n",
              "    </tr>\n",
              "  </tbody>\n",
              "</table>\n",
              "</div>\n",
              "    <div class=\"colab-df-buttons\">\n",
              "\n",
              "  <div class=\"colab-df-container\">\n",
              "    <button class=\"colab-df-convert\" onclick=\"convertToInteractive('df-56c48ed5-9500-49cb-b1b0-93557cf873cd')\"\n",
              "            title=\"Convert this dataframe to an interactive table.\"\n",
              "            style=\"display:none;\">\n",
              "\n",
              "  <svg xmlns=\"http://www.w3.org/2000/svg\" height=\"24px\" viewBox=\"0 -960 960 960\">\n",
              "    <path d=\"M120-120v-720h720v720H120Zm60-500h600v-160H180v160Zm220 220h160v-160H400v160Zm0 220h160v-160H400v160ZM180-400h160v-160H180v160Zm440 0h160v-160H620v160ZM180-180h160v-160H180v160Zm440 0h160v-160H620v160Z\"/>\n",
              "  </svg>\n",
              "    </button>\n",
              "\n",
              "  <style>\n",
              "    .colab-df-container {\n",
              "      display:flex;\n",
              "      gap: 12px;\n",
              "    }\n",
              "\n",
              "    .colab-df-convert {\n",
              "      background-color: #E8F0FE;\n",
              "      border: none;\n",
              "      border-radius: 50%;\n",
              "      cursor: pointer;\n",
              "      display: none;\n",
              "      fill: #1967D2;\n",
              "      height: 32px;\n",
              "      padding: 0 0 0 0;\n",
              "      width: 32px;\n",
              "    }\n",
              "\n",
              "    .colab-df-convert:hover {\n",
              "      background-color: #E2EBFA;\n",
              "      box-shadow: 0px 1px 2px rgba(60, 64, 67, 0.3), 0px 1px 3px 1px rgba(60, 64, 67, 0.15);\n",
              "      fill: #174EA6;\n",
              "    }\n",
              "\n",
              "    .colab-df-buttons div {\n",
              "      margin-bottom: 4px;\n",
              "    }\n",
              "\n",
              "    [theme=dark] .colab-df-convert {\n",
              "      background-color: #3B4455;\n",
              "      fill: #D2E3FC;\n",
              "    }\n",
              "\n",
              "    [theme=dark] .colab-df-convert:hover {\n",
              "      background-color: #434B5C;\n",
              "      box-shadow: 0px 1px 3px 1px rgba(0, 0, 0, 0.15);\n",
              "      filter: drop-shadow(0px 1px 2px rgba(0, 0, 0, 0.3));\n",
              "      fill: #FFFFFF;\n",
              "    }\n",
              "  </style>\n",
              "\n",
              "    <script>\n",
              "      const buttonEl =\n",
              "        document.querySelector('#df-56c48ed5-9500-49cb-b1b0-93557cf873cd button.colab-df-convert');\n",
              "      buttonEl.style.display =\n",
              "        google.colab.kernel.accessAllowed ? 'block' : 'none';\n",
              "\n",
              "      async function convertToInteractive(key) {\n",
              "        const element = document.querySelector('#df-56c48ed5-9500-49cb-b1b0-93557cf873cd');\n",
              "        const dataTable =\n",
              "          await google.colab.kernel.invokeFunction('convertToInteractive',\n",
              "                                                    [key], {});\n",
              "        if (!dataTable) return;\n",
              "\n",
              "        const docLinkHtml = 'Like what you see? Visit the ' +\n",
              "          '<a target=\"_blank\" href=https://colab.research.google.com/notebooks/data_table.ipynb>data table notebook</a>'\n",
              "          + ' to learn more about interactive tables.';\n",
              "        element.innerHTML = '';\n",
              "        dataTable['output_type'] = 'display_data';\n",
              "        await google.colab.output.renderOutput(dataTable, element);\n",
              "        const docLink = document.createElement('div');\n",
              "        docLink.innerHTML = docLinkHtml;\n",
              "        element.appendChild(docLink);\n",
              "      }\n",
              "    </script>\n",
              "  </div>\n",
              "\n",
              "\n",
              "    <div id=\"df-427c164d-bae3-403a-b234-d185cf803c7a\">\n",
              "      <button class=\"colab-df-quickchart\" onclick=\"quickchart('df-427c164d-bae3-403a-b234-d185cf803c7a')\"\n",
              "                title=\"Suggest charts\"\n",
              "                style=\"display:none;\">\n",
              "\n",
              "<svg xmlns=\"http://www.w3.org/2000/svg\" height=\"24px\"viewBox=\"0 0 24 24\"\n",
              "     width=\"24px\">\n",
              "    <g>\n",
              "        <path d=\"M19 3H5c-1.1 0-2 .9-2 2v14c0 1.1.9 2 2 2h14c1.1 0 2-.9 2-2V5c0-1.1-.9-2-2-2zM9 17H7v-7h2v7zm4 0h-2V7h2v10zm4 0h-2v-4h2v4z\"/>\n",
              "    </g>\n",
              "</svg>\n",
              "      </button>\n",
              "\n",
              "<style>\n",
              "  .colab-df-quickchart {\n",
              "      --bg-color: #E8F0FE;\n",
              "      --fill-color: #1967D2;\n",
              "      --hover-bg-color: #E2EBFA;\n",
              "      --hover-fill-color: #174EA6;\n",
              "      --disabled-fill-color: #AAA;\n",
              "      --disabled-bg-color: #DDD;\n",
              "  }\n",
              "\n",
              "  [theme=dark] .colab-df-quickchart {\n",
              "      --bg-color: #3B4455;\n",
              "      --fill-color: #D2E3FC;\n",
              "      --hover-bg-color: #434B5C;\n",
              "      --hover-fill-color: #FFFFFF;\n",
              "      --disabled-bg-color: #3B4455;\n",
              "      --disabled-fill-color: #666;\n",
              "  }\n",
              "\n",
              "  .colab-df-quickchart {\n",
              "    background-color: var(--bg-color);\n",
              "    border: none;\n",
              "    border-radius: 50%;\n",
              "    cursor: pointer;\n",
              "    display: none;\n",
              "    fill: var(--fill-color);\n",
              "    height: 32px;\n",
              "    padding: 0;\n",
              "    width: 32px;\n",
              "  }\n",
              "\n",
              "  .colab-df-quickchart:hover {\n",
              "    background-color: var(--hover-bg-color);\n",
              "    box-shadow: 0 1px 2px rgba(60, 64, 67, 0.3), 0 1px 3px 1px rgba(60, 64, 67, 0.15);\n",
              "    fill: var(--button-hover-fill-color);\n",
              "  }\n",
              "\n",
              "  .colab-df-quickchart-complete:disabled,\n",
              "  .colab-df-quickchart-complete:disabled:hover {\n",
              "    background-color: var(--disabled-bg-color);\n",
              "    fill: var(--disabled-fill-color);\n",
              "    box-shadow: none;\n",
              "  }\n",
              "\n",
              "  .colab-df-spinner {\n",
              "    border: 2px solid var(--fill-color);\n",
              "    border-color: transparent;\n",
              "    border-bottom-color: var(--fill-color);\n",
              "    animation:\n",
              "      spin 1s steps(1) infinite;\n",
              "  }\n",
              "\n",
              "  @keyframes spin {\n",
              "    0% {\n",
              "      border-color: transparent;\n",
              "      border-bottom-color: var(--fill-color);\n",
              "      border-left-color: var(--fill-color);\n",
              "    }\n",
              "    20% {\n",
              "      border-color: transparent;\n",
              "      border-left-color: var(--fill-color);\n",
              "      border-top-color: var(--fill-color);\n",
              "    }\n",
              "    30% {\n",
              "      border-color: transparent;\n",
              "      border-left-color: var(--fill-color);\n",
              "      border-top-color: var(--fill-color);\n",
              "      border-right-color: var(--fill-color);\n",
              "    }\n",
              "    40% {\n",
              "      border-color: transparent;\n",
              "      border-right-color: var(--fill-color);\n",
              "      border-top-color: var(--fill-color);\n",
              "    }\n",
              "    60% {\n",
              "      border-color: transparent;\n",
              "      border-right-color: var(--fill-color);\n",
              "    }\n",
              "    80% {\n",
              "      border-color: transparent;\n",
              "      border-right-color: var(--fill-color);\n",
              "      border-bottom-color: var(--fill-color);\n",
              "    }\n",
              "    90% {\n",
              "      border-color: transparent;\n",
              "      border-bottom-color: var(--fill-color);\n",
              "    }\n",
              "  }\n",
              "</style>\n",
              "\n",
              "      <script>\n",
              "        async function quickchart(key) {\n",
              "          const quickchartButtonEl =\n",
              "            document.querySelector('#' + key + ' button');\n",
              "          quickchartButtonEl.disabled = true;  // To prevent multiple clicks.\n",
              "          quickchartButtonEl.classList.add('colab-df-spinner');\n",
              "          try {\n",
              "            const charts = await google.colab.kernel.invokeFunction(\n",
              "                'suggestCharts', [key], {});\n",
              "          } catch (error) {\n",
              "            console.error('Error during call to suggestCharts:', error);\n",
              "          }\n",
              "          quickchartButtonEl.classList.remove('colab-df-spinner');\n",
              "          quickchartButtonEl.classList.add('colab-df-quickchart-complete');\n",
              "        }\n",
              "        (() => {\n",
              "          let quickchartButtonEl =\n",
              "            document.querySelector('#df-427c164d-bae3-403a-b234-d185cf803c7a button');\n",
              "          quickchartButtonEl.style.display =\n",
              "            google.colab.kernel.accessAllowed ? 'block' : 'none';\n",
              "        })();\n",
              "      </script>\n",
              "    </div>\n",
              "\n",
              "    </div>\n",
              "  </div>\n"
            ],
            "application/vnd.google.colaboratory.intrinsic+json": {
              "type": "dataframe",
              "summary": "{\n  \"name\": \"df[df['continent'] == 'Asia']\",\n  \"rows\": 5,\n  \"fields\": [\n    {\n      \"column\": \"country\",\n      \"properties\": {\n        \"dtype\": \"string\",\n        \"num_unique_values\": 5,\n        \"samples\": [\n          \"Bahrain\",\n          \"Brunei\",\n          \"Bangladesh\"\n        ],\n        \"semantic_type\": \"\",\n        \"description\": \"\"\n      }\n    },\n    {\n      \"column\": \"continent\",\n      \"properties\": {\n        \"dtype\": \"category\",\n        \"num_unique_values\": 1,\n        \"samples\": [\n          \"Asia\"\n        ],\n        \"semantic_type\": \"\",\n        \"description\": \"\"\n      }\n    },\n    {\n      \"column\": \"gdp_per_capita\",\n      \"properties\": {\n        \"dtype\": \"number\",\n        \"std\": 20523,\n        \"min\": 663,\n        \"max\": 48020,\n        \"num_unique_values\": 5,\n        \"samples\": [\n          22015\n        ],\n        \"semantic_type\": \"\",\n        \"description\": \"\"\n      }\n    },\n    {\n      \"column\": \"life_expectancy\",\n      \"properties\": {\n        \"dtype\": \"number\",\n        \"std\": 9.048504782559379,\n        \"min\": 54.863,\n        \"max\": 75.92699999999999,\n        \"num_unique_values\": 5,\n        \"samples\": [\n          74.497\n        ],\n        \"semantic_type\": \"\",\n        \"description\": \"\"\n      }\n    },\n    {\n      \"column\": \"population\",\n      \"properties\": {\n        \"dtype\": \"number\",\n        \"std\": 56069440,\n        \"min\": 327036,\n        \"max\": 129592275,\n        \"num_unique_values\": 5,\n        \"samples\": [\n          638193\n        ],\n        \"semantic_type\": \"\",\n        \"description\": \"\"\n      }\n    }\n  ]\n}"
            }
          },
          "metadata": {},
          "execution_count": 38
        }
      ]
    },
    {
      "cell_type": "code",
      "source": [
        "# φέρε από το dataframe μόνο τα (5 πρώτα) rows, όπου η τιμή στη στήλη \"gdp_per_capita\" είναι μεγαλύτερη από το μέσο όρο του \"gdp_per_capita\"\n",
        "df[df['gdp_per_capita'] > df['gdp_per_capita'].mean()].head() #αυτό μπαίνει πάντα στο τέλος του κώδικα"
      ],
      "metadata": {
        "id": "ZeXodmW8zx1A"
      },
      "execution_count": null,
      "outputs": []
    },
    {
      "cell_type": "markdown",
      "source": [
        "---\n",
        "**Άσκηση 5**:\n",
        "\n",
        "Βρείτε τις χώρες όπου το προσδόκιμο ζωής είναι μεγαλύτερο από το μέσο όρο και εμφανίστε ένα dataframe με τις στήλες country, life_expectancy και gdp_per_capita, ταξινομημένο ως προς το κατά κεφαλή gdp_per_capita με φθίνουσα σειρά\n",
        "\n",
        "(κάνετε όλα αυτά σε μια γραμμή κώδικα)"
      ],
      "metadata": {
        "id": "lD7kLPFinBrj"
      }
    },
    {
      "cell_type": "code",
      "source": [],
      "metadata": {
        "id": "yhmBsXf4nnuJ"
      },
      "execution_count": null,
      "outputs": []
    },
    {
      "cell_type": "markdown",
      "source": [
        "---"
      ],
      "metadata": {
        "id": "aOZUwlxPDE2o"
      }
    },
    {
      "cell_type": "markdown",
      "source": [
        "**7.2 Φιλτράρισμα βάση ΠΟΛΛΩΝ συνθηκών (filtering based on multiple conditions)**\n",
        "\n",
        "Ο έλεγχος γίνεται με τη χρήση **λογικών τελεστών**:\n",
        "* **&** (and): η συνολική συνθήκη είναι True όταν **και οι δύο** συνθήκες είναι True\n",
        "* **|** (or): η συνολική συνθήκη είναι True όταν **έστω η μία** συνθήκη είναι True\n",
        "\n",
        "Η κάθε συνθήκη μπαίνει **μέσα σε παρένθεση**"
      ],
      "metadata": {
        "id": "PIcfUlv30ZRF"
      }
    },
    {
      "cell_type": "code",
      "source": [
        "# φέρε από το dataframe μόνο τα (5 πρώτα) rows, όπου η ήπειρος είναι η Ασία ΚΑΙ το κατά κεφαλήν ΑΕΠ είναι μεγαλύτερο από το μ.ο.\n",
        "df[(df['continent'] == 'Asia') & (df['gdp_per_capita'] > df['gdp_per_capita'].mean())].head()"
      ],
      "metadata": {
        "id": "4tomgIsy1DA-",
        "outputId": "b1501a58-46e4-4e2c-95c9-fb627b69ea23",
        "colab": {
          "base_uri": "https://localhost:8080/",
          "height": 206
        }
      },
      "execution_count": 40,
      "outputs": [
        {
          "output_type": "execute_result",
          "data": {
            "text/plain": [
              "             country continent  gdp_per_capita  life_expectancy  population\n",
              "11           Bahrain      Asia           22015           74.497      638193\n",
              "23            Brunei      Asia           48020           75.927      327036\n",
              "72  Hong Kong, China      Asia           29972           80.361     6783317\n",
              "80            Israel      Asia           22834           78.750     6014953\n",
              "83             Japan      Asia           28559           81.350   125720310"
            ],
            "text/html": [
              "\n",
              "  <div id=\"df-d9a29ea9-2c97-463d-a341-3e4ce85feb19\" class=\"colab-df-container\">\n",
              "    <div>\n",
              "<style scoped>\n",
              "    .dataframe tbody tr th:only-of-type {\n",
              "        vertical-align: middle;\n",
              "    }\n",
              "\n",
              "    .dataframe tbody tr th {\n",
              "        vertical-align: top;\n",
              "    }\n",
              "\n",
              "    .dataframe thead th {\n",
              "        text-align: right;\n",
              "    }\n",
              "</style>\n",
              "<table border=\"1\" class=\"dataframe\">\n",
              "  <thead>\n",
              "    <tr style=\"text-align: right;\">\n",
              "      <th></th>\n",
              "      <th>country</th>\n",
              "      <th>continent</th>\n",
              "      <th>gdp_per_capita</th>\n",
              "      <th>life_expectancy</th>\n",
              "      <th>population</th>\n",
              "    </tr>\n",
              "  </thead>\n",
              "  <tbody>\n",
              "    <tr>\n",
              "      <th>11</th>\n",
              "      <td>Bahrain</td>\n",
              "      <td>Asia</td>\n",
              "      <td>22015</td>\n",
              "      <td>74.497</td>\n",
              "      <td>638193</td>\n",
              "    </tr>\n",
              "    <tr>\n",
              "      <th>23</th>\n",
              "      <td>Brunei</td>\n",
              "      <td>Asia</td>\n",
              "      <td>48020</td>\n",
              "      <td>75.927</td>\n",
              "      <td>327036</td>\n",
              "    </tr>\n",
              "    <tr>\n",
              "      <th>72</th>\n",
              "      <td>Hong Kong, China</td>\n",
              "      <td>Asia</td>\n",
              "      <td>29972</td>\n",
              "      <td>80.361</td>\n",
              "      <td>6783317</td>\n",
              "    </tr>\n",
              "    <tr>\n",
              "      <th>80</th>\n",
              "      <td>Israel</td>\n",
              "      <td>Asia</td>\n",
              "      <td>22834</td>\n",
              "      <td>78.750</td>\n",
              "      <td>6014953</td>\n",
              "    </tr>\n",
              "    <tr>\n",
              "      <th>83</th>\n",
              "      <td>Japan</td>\n",
              "      <td>Asia</td>\n",
              "      <td>28559</td>\n",
              "      <td>81.350</td>\n",
              "      <td>125720310</td>\n",
              "    </tr>\n",
              "  </tbody>\n",
              "</table>\n",
              "</div>\n",
              "    <div class=\"colab-df-buttons\">\n",
              "\n",
              "  <div class=\"colab-df-container\">\n",
              "    <button class=\"colab-df-convert\" onclick=\"convertToInteractive('df-d9a29ea9-2c97-463d-a341-3e4ce85feb19')\"\n",
              "            title=\"Convert this dataframe to an interactive table.\"\n",
              "            style=\"display:none;\">\n",
              "\n",
              "  <svg xmlns=\"http://www.w3.org/2000/svg\" height=\"24px\" viewBox=\"0 -960 960 960\">\n",
              "    <path d=\"M120-120v-720h720v720H120Zm60-500h600v-160H180v160Zm220 220h160v-160H400v160Zm0 220h160v-160H400v160ZM180-400h160v-160H180v160Zm440 0h160v-160H620v160ZM180-180h160v-160H180v160Zm440 0h160v-160H620v160Z\"/>\n",
              "  </svg>\n",
              "    </button>\n",
              "\n",
              "  <style>\n",
              "    .colab-df-container {\n",
              "      display:flex;\n",
              "      gap: 12px;\n",
              "    }\n",
              "\n",
              "    .colab-df-convert {\n",
              "      background-color: #E8F0FE;\n",
              "      border: none;\n",
              "      border-radius: 50%;\n",
              "      cursor: pointer;\n",
              "      display: none;\n",
              "      fill: #1967D2;\n",
              "      height: 32px;\n",
              "      padding: 0 0 0 0;\n",
              "      width: 32px;\n",
              "    }\n",
              "\n",
              "    .colab-df-convert:hover {\n",
              "      background-color: #E2EBFA;\n",
              "      box-shadow: 0px 1px 2px rgba(60, 64, 67, 0.3), 0px 1px 3px 1px rgba(60, 64, 67, 0.15);\n",
              "      fill: #174EA6;\n",
              "    }\n",
              "\n",
              "    .colab-df-buttons div {\n",
              "      margin-bottom: 4px;\n",
              "    }\n",
              "\n",
              "    [theme=dark] .colab-df-convert {\n",
              "      background-color: #3B4455;\n",
              "      fill: #D2E3FC;\n",
              "    }\n",
              "\n",
              "    [theme=dark] .colab-df-convert:hover {\n",
              "      background-color: #434B5C;\n",
              "      box-shadow: 0px 1px 3px 1px rgba(0, 0, 0, 0.15);\n",
              "      filter: drop-shadow(0px 1px 2px rgba(0, 0, 0, 0.3));\n",
              "      fill: #FFFFFF;\n",
              "    }\n",
              "  </style>\n",
              "\n",
              "    <script>\n",
              "      const buttonEl =\n",
              "        document.querySelector('#df-d9a29ea9-2c97-463d-a341-3e4ce85feb19 button.colab-df-convert');\n",
              "      buttonEl.style.display =\n",
              "        google.colab.kernel.accessAllowed ? 'block' : 'none';\n",
              "\n",
              "      async function convertToInteractive(key) {\n",
              "        const element = document.querySelector('#df-d9a29ea9-2c97-463d-a341-3e4ce85feb19');\n",
              "        const dataTable =\n",
              "          await google.colab.kernel.invokeFunction('convertToInteractive',\n",
              "                                                    [key], {});\n",
              "        if (!dataTable) return;\n",
              "\n",
              "        const docLinkHtml = 'Like what you see? Visit the ' +\n",
              "          '<a target=\"_blank\" href=https://colab.research.google.com/notebooks/data_table.ipynb>data table notebook</a>'\n",
              "          + ' to learn more about interactive tables.';\n",
              "        element.innerHTML = '';\n",
              "        dataTable['output_type'] = 'display_data';\n",
              "        await google.colab.output.renderOutput(dataTable, element);\n",
              "        const docLink = document.createElement('div');\n",
              "        docLink.innerHTML = docLinkHtml;\n",
              "        element.appendChild(docLink);\n",
              "      }\n",
              "    </script>\n",
              "  </div>\n",
              "\n",
              "\n",
              "    <div id=\"df-6c5d67a7-755e-4fc9-9336-cfab282a7519\">\n",
              "      <button class=\"colab-df-quickchart\" onclick=\"quickchart('df-6c5d67a7-755e-4fc9-9336-cfab282a7519')\"\n",
              "                title=\"Suggest charts\"\n",
              "                style=\"display:none;\">\n",
              "\n",
              "<svg xmlns=\"http://www.w3.org/2000/svg\" height=\"24px\"viewBox=\"0 0 24 24\"\n",
              "     width=\"24px\">\n",
              "    <g>\n",
              "        <path d=\"M19 3H5c-1.1 0-2 .9-2 2v14c0 1.1.9 2 2 2h14c1.1 0 2-.9 2-2V5c0-1.1-.9-2-2-2zM9 17H7v-7h2v7zm4 0h-2V7h2v10zm4 0h-2v-4h2v4z\"/>\n",
              "    </g>\n",
              "</svg>\n",
              "      </button>\n",
              "\n",
              "<style>\n",
              "  .colab-df-quickchart {\n",
              "      --bg-color: #E8F0FE;\n",
              "      --fill-color: #1967D2;\n",
              "      --hover-bg-color: #E2EBFA;\n",
              "      --hover-fill-color: #174EA6;\n",
              "      --disabled-fill-color: #AAA;\n",
              "      --disabled-bg-color: #DDD;\n",
              "  }\n",
              "\n",
              "  [theme=dark] .colab-df-quickchart {\n",
              "      --bg-color: #3B4455;\n",
              "      --fill-color: #D2E3FC;\n",
              "      --hover-bg-color: #434B5C;\n",
              "      --hover-fill-color: #FFFFFF;\n",
              "      --disabled-bg-color: #3B4455;\n",
              "      --disabled-fill-color: #666;\n",
              "  }\n",
              "\n",
              "  .colab-df-quickchart {\n",
              "    background-color: var(--bg-color);\n",
              "    border: none;\n",
              "    border-radius: 50%;\n",
              "    cursor: pointer;\n",
              "    display: none;\n",
              "    fill: var(--fill-color);\n",
              "    height: 32px;\n",
              "    padding: 0;\n",
              "    width: 32px;\n",
              "  }\n",
              "\n",
              "  .colab-df-quickchart:hover {\n",
              "    background-color: var(--hover-bg-color);\n",
              "    box-shadow: 0 1px 2px rgba(60, 64, 67, 0.3), 0 1px 3px 1px rgba(60, 64, 67, 0.15);\n",
              "    fill: var(--button-hover-fill-color);\n",
              "  }\n",
              "\n",
              "  .colab-df-quickchart-complete:disabled,\n",
              "  .colab-df-quickchart-complete:disabled:hover {\n",
              "    background-color: var(--disabled-bg-color);\n",
              "    fill: var(--disabled-fill-color);\n",
              "    box-shadow: none;\n",
              "  }\n",
              "\n",
              "  .colab-df-spinner {\n",
              "    border: 2px solid var(--fill-color);\n",
              "    border-color: transparent;\n",
              "    border-bottom-color: var(--fill-color);\n",
              "    animation:\n",
              "      spin 1s steps(1) infinite;\n",
              "  }\n",
              "\n",
              "  @keyframes spin {\n",
              "    0% {\n",
              "      border-color: transparent;\n",
              "      border-bottom-color: var(--fill-color);\n",
              "      border-left-color: var(--fill-color);\n",
              "    }\n",
              "    20% {\n",
              "      border-color: transparent;\n",
              "      border-left-color: var(--fill-color);\n",
              "      border-top-color: var(--fill-color);\n",
              "    }\n",
              "    30% {\n",
              "      border-color: transparent;\n",
              "      border-left-color: var(--fill-color);\n",
              "      border-top-color: var(--fill-color);\n",
              "      border-right-color: var(--fill-color);\n",
              "    }\n",
              "    40% {\n",
              "      border-color: transparent;\n",
              "      border-right-color: var(--fill-color);\n",
              "      border-top-color: var(--fill-color);\n",
              "    }\n",
              "    60% {\n",
              "      border-color: transparent;\n",
              "      border-right-color: var(--fill-color);\n",
              "    }\n",
              "    80% {\n",
              "      border-color: transparent;\n",
              "      border-right-color: var(--fill-color);\n",
              "      border-bottom-color: var(--fill-color);\n",
              "    }\n",
              "    90% {\n",
              "      border-color: transparent;\n",
              "      border-bottom-color: var(--fill-color);\n",
              "    }\n",
              "  }\n",
              "</style>\n",
              "\n",
              "      <script>\n",
              "        async function quickchart(key) {\n",
              "          const quickchartButtonEl =\n",
              "            document.querySelector('#' + key + ' button');\n",
              "          quickchartButtonEl.disabled = true;  // To prevent multiple clicks.\n",
              "          quickchartButtonEl.classList.add('colab-df-spinner');\n",
              "          try {\n",
              "            const charts = await google.colab.kernel.invokeFunction(\n",
              "                'suggestCharts', [key], {});\n",
              "          } catch (error) {\n",
              "            console.error('Error during call to suggestCharts:', error);\n",
              "          }\n",
              "          quickchartButtonEl.classList.remove('colab-df-spinner');\n",
              "          quickchartButtonEl.classList.add('colab-df-quickchart-complete');\n",
              "        }\n",
              "        (() => {\n",
              "          let quickchartButtonEl =\n",
              "            document.querySelector('#df-6c5d67a7-755e-4fc9-9336-cfab282a7519 button');\n",
              "          quickchartButtonEl.style.display =\n",
              "            google.colab.kernel.accessAllowed ? 'block' : 'none';\n",
              "        })();\n",
              "      </script>\n",
              "    </div>\n",
              "\n",
              "    </div>\n",
              "  </div>\n"
            ],
            "application/vnd.google.colaboratory.intrinsic+json": {
              "type": "dataframe",
              "summary": "{\n  \"name\": \"df[(df['continent'] == 'Asia') & (df['gdp_per_capita'] > df['gdp_per_capita']\",\n  \"rows\": 5,\n  \"fields\": [\n    {\n      \"column\": \"country\",\n      \"properties\": {\n        \"dtype\": \"string\",\n        \"num_unique_values\": 5,\n        \"samples\": [\n          \"Brunei\",\n          \"Japan\",\n          \"Hong Kong, China\"\n        ],\n        \"semantic_type\": \"\",\n        \"description\": \"\"\n      }\n    },\n    {\n      \"column\": \"continent\",\n      \"properties\": {\n        \"dtype\": \"category\",\n        \"num_unique_values\": 1,\n        \"samples\": [\n          \"Asia\"\n        ],\n        \"semantic_type\": \"\",\n        \"description\": \"\"\n      }\n    },\n    {\n      \"column\": \"gdp_per_capita\",\n      \"properties\": {\n        \"dtype\": \"number\",\n        \"std\": 10506,\n        \"min\": 22015,\n        \"max\": 48020,\n        \"num_unique_values\": 5,\n        \"samples\": [\n          48020\n        ],\n        \"semantic_type\": \"\",\n        \"description\": \"\"\n      }\n    },\n    {\n      \"column\": \"life_expectancy\",\n      \"properties\": {\n        \"dtype\": \"number\",\n        \"std\": 2.9056416675151127,\n        \"min\": 74.497,\n        \"max\": 81.35,\n        \"num_unique_values\": 5,\n        \"samples\": [\n          75.92699999999999\n        ],\n        \"semantic_type\": \"\",\n        \"description\": \"\"\n      }\n    },\n    {\n      \"column\": \"population\",\n      \"properties\": {\n        \"dtype\": \"number\",\n        \"std\": 54765767,\n        \"min\": 327036,\n        \"max\": 125720310,\n        \"num_unique_values\": 5,\n        \"samples\": [\n          327036\n        ],\n        \"semantic_type\": \"\",\n        \"description\": \"\"\n      }\n    }\n  ]\n}"
            }
          },
          "metadata": {},
          "execution_count": 40
        }
      ]
    },
    {
      "cell_type": "code",
      "source": [
        "# μέτρησε (count()) πόσες εγγραφές υπάρχουν στο dataframe, όπου:\n",
        "# ΕΙΤΕ το προσδόκιμο ζωής είναι μικρότερο από το μ.ο.\n",
        "# ΕΙΤΕ το κατά κεφαλήν ΑΕΠ είναι μικρότερο από το μ.ο.\n",
        "df[(df['life_expectancy'] < df['life_expectancy'].mean()) | (df['gdp_per_capita'] < df['gdp_per_capita'].mean())].count()"
      ],
      "metadata": {
        "id": "ub2pfgep3aUD",
        "outputId": "1180841d-6c64-4e03-fd75-a27911cfaf3c",
        "colab": {
          "base_uri": "https://localhost:8080/",
          "height": 241
        }
      },
      "execution_count": 39,
      "outputs": [
        {
          "output_type": "execute_result",
          "data": {
            "text/plain": [
              "country            133\n",
              "continent          133\n",
              "gdp_per_capita     133\n",
              "life_expectancy    133\n",
              "population         133\n",
              "dtype: int64"
            ],
            "text/html": [
              "<div>\n",
              "<style scoped>\n",
              "    .dataframe tbody tr th:only-of-type {\n",
              "        vertical-align: middle;\n",
              "    }\n",
              "\n",
              "    .dataframe tbody tr th {\n",
              "        vertical-align: top;\n",
              "    }\n",
              "\n",
              "    .dataframe thead th {\n",
              "        text-align: right;\n",
              "    }\n",
              "</style>\n",
              "<table border=\"1\" class=\"dataframe\">\n",
              "  <thead>\n",
              "    <tr style=\"text-align: right;\">\n",
              "      <th></th>\n",
              "      <th>0</th>\n",
              "    </tr>\n",
              "  </thead>\n",
              "  <tbody>\n",
              "    <tr>\n",
              "      <th>country</th>\n",
              "      <td>133</td>\n",
              "    </tr>\n",
              "    <tr>\n",
              "      <th>continent</th>\n",
              "      <td>133</td>\n",
              "    </tr>\n",
              "    <tr>\n",
              "      <th>gdp_per_capita</th>\n",
              "      <td>133</td>\n",
              "    </tr>\n",
              "    <tr>\n",
              "      <th>life_expectancy</th>\n",
              "      <td>133</td>\n",
              "    </tr>\n",
              "    <tr>\n",
              "      <th>population</th>\n",
              "      <td>133</td>\n",
              "    </tr>\n",
              "  </tbody>\n",
              "</table>\n",
              "</div><br><label><b>dtype:</b> int64</label>"
            ]
          },
          "metadata": {},
          "execution_count": 39
        }
      ]
    },
    {
      "cell_type": "code",
      "source": [
        "# ίδια συνθήκη με παραπάνω, αλλά φέρε (τις 5 πρώτες σειρές από) το dataframe ταξινομημένο σε αύξουσα σειρά με βάση τη στήλη 'country'\n",
        "df[(df['life_expectancy'] < df['life_expectancy'].mean()) | (df['gdp_per_capita'] < df['gdp_per_capita'].mean())].sort_values('country').head()"
      ],
      "metadata": {
        "id": "F71aOLW_FWYt"
      },
      "execution_count": null,
      "outputs": []
    },
    {
      "cell_type": "markdown",
      "source": [
        "---\n",
        "**Άσκηση 6**:\n",
        "\n",
        "Βρείτε τις χώρες της Ασίας όπου το προσδόκιμο ζωής είναι κάτω από 64 και ταξινομήστε τες σε αύξουσα σειρά (ως προς το όνομα των χωρών). Εμφανίστε τις 5 πρώτες.\n"
      ],
      "metadata": {
        "id": "fVQFvBXel05-"
      }
    },
    {
      "cell_type": "code",
      "source": [],
      "metadata": {
        "id": "8cwKa4_ki2UM"
      },
      "execution_count": null,
      "outputs": []
    },
    {
      "cell_type": "markdown",
      "source": [
        "---\n",
        "**Άσκηση 7**: Βρείτε τη χώρα με το μικρότερο προσδόκιμο ζωής [min()]"
      ],
      "metadata": {
        "id": "BSxv5U6VwcwK"
      }
    },
    {
      "cell_type": "code",
      "source": [],
      "metadata": {
        "id": "yS1TYq7luq4S"
      },
      "execution_count": null,
      "outputs": []
    },
    {
      "cell_type": "markdown",
      "source": [
        "---\n",
        "\n",
        "**Άσκηση 8**: Βρείτε τις χώρες όπου το προσδόκιμο ζωής είναι από ένα χρόνο κάτω έως ένα χρόνο πάνω του μέσου όρου"
      ],
      "metadata": {
        "id": "TvbzLVB5zJE2"
      }
    },
    {
      "cell_type": "code",
      "source": [],
      "metadata": {
        "id": "tygppC6HyKU7"
      },
      "execution_count": null,
      "outputs": []
    },
    {
      "cell_type": "markdown",
      "source": [
        "---"
      ],
      "metadata": {
        "id": "E12TU0eVmOyN"
      }
    },
    {
      "cell_type": "markdown",
      "source": [
        "### **8. Ομαδοποίηση** group_by()\n",
        "\n",
        "Με την ομαδοποίηση μπορούμε να πάρουμε στατιστικές πληροφορίες για υποσύνολα των δεδομένων μας. Π.χ. αν έχουμε ένα dataset με την πρόθεση ψήφου, ενός δείγματος ερωτώμενων, εφόσον έχουμε καταχωρήσει και το φύλλο του ερωτώμενου, μπορούμε να δούμε τυχόν διαφοροποιήσεις στην προτίμηση ανάμεσα στα φύλλα.\n",
        "\n",
        "Δηλαδή, θέλουμε να κάνουμε ομαδοποίηση για να δούμε συνήθως πόσες εγγραφές (count) είναι σε κάθε ομάδα, ποιος είναι ο μέσος όρος των τιμών (mean) μιας στήλης (ή περισσότερων στηλών) για κάθε ομάδα, ή το min, το max, το sum κλπ."
      ],
      "metadata": {
        "id": "M4WaL0YocTch"
      }
    },
    {
      "cell_type": "code",
      "source": [
        "# γκρουπάρισμα ανά ήπειρο και εύρεση του μ.ο. του κατά κεφαλή ΑΕΠ ανά γκρουπ\n",
        "df.groupby(\"continent\")[\"gdp_per_capita\"].mean().astype(int)"
      ],
      "metadata": {
        "id": "nHTL3AFZP8Q5",
        "outputId": "b0c5ee73-1f22-4d06-9255-38db10ca64f2",
        "colab": {
          "base_uri": "https://localhost:8080/",
          "height": 303
        }
      },
      "execution_count": 43,
      "outputs": [
        {
          "output_type": "execute_result",
          "data": {
            "text/plain": [
              "continent\n",
              "Africa         2621\n",
              "Asia          11106\n",
              "Europe        18647\n",
              "N. America    11665\n",
              "Oceania        8038\n",
              "S. America     6738\n",
              "Name: gdp_per_capita, dtype: int64"
            ],
            "text/html": [
              "<div>\n",
              "<style scoped>\n",
              "    .dataframe tbody tr th:only-of-type {\n",
              "        vertical-align: middle;\n",
              "    }\n",
              "\n",
              "    .dataframe tbody tr th {\n",
              "        vertical-align: top;\n",
              "    }\n",
              "\n",
              "    .dataframe thead th {\n",
              "        text-align: right;\n",
              "    }\n",
              "</style>\n",
              "<table border=\"1\" class=\"dataframe\">\n",
              "  <thead>\n",
              "    <tr style=\"text-align: right;\">\n",
              "      <th></th>\n",
              "      <th>gdp_per_capita</th>\n",
              "    </tr>\n",
              "    <tr>\n",
              "      <th>continent</th>\n",
              "      <th></th>\n",
              "    </tr>\n",
              "  </thead>\n",
              "  <tbody>\n",
              "    <tr>\n",
              "      <th>Africa</th>\n",
              "      <td>2621</td>\n",
              "    </tr>\n",
              "    <tr>\n",
              "      <th>Asia</th>\n",
              "      <td>11106</td>\n",
              "    </tr>\n",
              "    <tr>\n",
              "      <th>Europe</th>\n",
              "      <td>18647</td>\n",
              "    </tr>\n",
              "    <tr>\n",
              "      <th>N. America</th>\n",
              "      <td>11665</td>\n",
              "    </tr>\n",
              "    <tr>\n",
              "      <th>Oceania</th>\n",
              "      <td>8038</td>\n",
              "    </tr>\n",
              "    <tr>\n",
              "      <th>S. America</th>\n",
              "      <td>6738</td>\n",
              "    </tr>\n",
              "  </tbody>\n",
              "</table>\n",
              "</div><br><label><b>dtype:</b> int64</label>"
            ]
          },
          "metadata": {},
          "execution_count": 43
        }
      ]
    },
    {
      "cell_type": "code",
      "source": [
        "# το παραπάνω με στρογγυλοποίηση\n",
        "df.groupby(\"continent\")[\"gdp_per_capita\"].mean().round(2)"
      ],
      "metadata": {
        "id": "nSw_7s_oSAZx",
        "outputId": "775ae2a2-aa60-4afd-d347-549402513d02",
        "colab": {
          "base_uri": "https://localhost:8080/",
          "height": 303
        }
      },
      "execution_count": 42,
      "outputs": [
        {
          "output_type": "execute_result",
          "data": {
            "text/plain": [
              "continent\n",
              "Africa         2621.65\n",
              "Asia          11106.44\n",
              "Europe        18647.88\n",
              "N. America    11665.68\n",
              "Oceania        8038.40\n",
              "S. America     6738.58\n",
              "Name: gdp_per_capita, dtype: float64"
            ],
            "text/html": [
              "<div>\n",
              "<style scoped>\n",
              "    .dataframe tbody tr th:only-of-type {\n",
              "        vertical-align: middle;\n",
              "    }\n",
              "\n",
              "    .dataframe tbody tr th {\n",
              "        vertical-align: top;\n",
              "    }\n",
              "\n",
              "    .dataframe thead th {\n",
              "        text-align: right;\n",
              "    }\n",
              "</style>\n",
              "<table border=\"1\" class=\"dataframe\">\n",
              "  <thead>\n",
              "    <tr style=\"text-align: right;\">\n",
              "      <th></th>\n",
              "      <th>gdp_per_capita</th>\n",
              "    </tr>\n",
              "    <tr>\n",
              "      <th>continent</th>\n",
              "      <th></th>\n",
              "    </tr>\n",
              "  </thead>\n",
              "  <tbody>\n",
              "    <tr>\n",
              "      <th>Africa</th>\n",
              "      <td>2621.65</td>\n",
              "    </tr>\n",
              "    <tr>\n",
              "      <th>Asia</th>\n",
              "      <td>11106.44</td>\n",
              "    </tr>\n",
              "    <tr>\n",
              "      <th>Europe</th>\n",
              "      <td>18647.88</td>\n",
              "    </tr>\n",
              "    <tr>\n",
              "      <th>N. America</th>\n",
              "      <td>11665.68</td>\n",
              "    </tr>\n",
              "    <tr>\n",
              "      <th>Oceania</th>\n",
              "      <td>8038.40</td>\n",
              "    </tr>\n",
              "    <tr>\n",
              "      <th>S. America</th>\n",
              "      <td>6738.58</td>\n",
              "    </tr>\n",
              "  </tbody>\n",
              "</table>\n",
              "</div><br><label><b>dtype:</b> float64</label>"
            ]
          },
          "metadata": {},
          "execution_count": 42
        }
      ]
    },
    {
      "cell_type": "markdown",
      "source": [
        "---\n",
        "**Άσκηση 9**:\n",
        "\n",
        "Βρείτε το συνολικό πληθυσμό (sum) σε κάθε ήπειρο"
      ],
      "metadata": {
        "id": "eJ1aUzZNkstY"
      }
    },
    {
      "cell_type": "code",
      "source": [
        "# γκρουπάρισμα ανά ήπειρο και εύρεση του συνολικού πληθυσμού της\n"
      ],
      "metadata": {
        "id": "DtLeMhJthBMC"
      },
      "execution_count": null,
      "outputs": []
    },
    {
      "cell_type": "markdown",
      "source": [
        "---\n",
        "\n",
        "**Άσκηση 10**:\n",
        "\n",
        "Βρείτε σε ποιες ηπείρους ο μέσος όρος του προσδόκιμου ζωής είναι μικρότερος από 55"
      ],
      "metadata": {
        "id": "PfoEAcf0lFLM"
      }
    },
    {
      "cell_type": "code",
      "source": [],
      "metadata": {
        "id": "8Hn1K82wjEdB"
      },
      "execution_count": null,
      "outputs": []
    },
    {
      "cell_type": "markdown",
      "source": [
        "---\n",
        "**Άσκηση 11**:\n",
        "\n",
        "Βρείτε πόσες χώρες υπάρχουν σε κάθε ήπειρο (count) και ταξινομήστε το αποτέλεσμα σε φθίνουσα σειρά\n"
      ],
      "metadata": {
        "id": "vRQgku8T2XZx"
      }
    },
    {
      "cell_type": "code",
      "source": [],
      "metadata": {
        "id": "f6-PSUiK2lUQ"
      },
      "execution_count": null,
      "outputs": []
    },
    {
      "cell_type": "markdown",
      "source": [
        "---"
      ],
      "metadata": {
        "id": "n1USRLC1Dc6A"
      }
    },
    {
      "cell_type": "markdown",
      "source": [
        "### **9. Αλλαγές στο dataframe**\n",
        "\n",
        "Μέχρι εδώ, απλώς επισκοπούσαμε το dataframe, χωρίς να το πειράζουμε. Όλα τα φιλτραρίσματα, οι στρογγυλοποιήσεις, οι ταξινομήσεις και οι ομαδοποιήσεις δεν έχουν αποθηκευτεί. Το dataframe εξακολουθεί να είναι όπως το ανοίξαμε."
      ],
      "metadata": {
        "id": "tcUdFuOkDgfa"
      }
    },
    {
      "cell_type": "code",
      "source": [
        "df.head()"
      ],
      "metadata": {
        "id": "m8pWdrP5EfQy"
      },
      "execution_count": null,
      "outputs": []
    },
    {
      "cell_type": "markdown",
      "source": [
        "**9.1 Αριθμητικές πράξεις σε όλες τις τιμές μιας στήλης**"
      ],
      "metadata": {
        "id": "uogFIpIplMG5"
      }
    },
    {
      "cell_type": "code",
      "source": [
        "# μετατροπή του πληθυσμού σε εκατομμύρια\n",
        "df['population'] / 1000000"
      ],
      "metadata": {
        "id": "jajqw1wvE80J"
      },
      "execution_count": null,
      "outputs": []
    },
    {
      "cell_type": "markdown",
      "source": [
        "**9.2 Aποθήκευση του αποτελέσματος σε νέα στήλη**"
      ],
      "metadata": {
        "id": "Y-8Au3nVmIC6"
      }
    },
    {
      "cell_type": "code",
      "source": [
        "df['millions'] = df['population'] /1000000\n",
        "df.head()"
      ],
      "metadata": {
        "id": "92c7-kSrE7qf"
      },
      "execution_count": null,
      "outputs": []
    },
    {
      "cell_type": "markdown",
      "source": [
        "---\n",
        "**Άσκηση 11**:\n",
        "\n",
        "Ακαθάριστο Εγχώριο Προϊόν (ΑΕΠ / GDP) είναι το σύνολο των προϊόντων, υλικών και άυλων, που παράχθηκαν μέσα στην επικράτεια μιας χώρας σε διάστημα ενός έτους, εκφρασμένο σε χρηματικές μονάδες, ακόμα και αν μέρος αυτού παράχθηκε από παραγωγικές μονάδες που ανήκουν σε κατοίκους του εξωτερικού.\n",
        "\n",
        "Το κατά κεφαλή ΑΕΠ (gdp per capita) είναι το μέρος του ΑΕΠ μιας χώρας που θεωρητικά αναλογεί σε κάθε της κάτοικο. Προκύπτει από τη σχέση: gdp_per_capita = GDP / population.\n",
        "\n",
        "Στο dataframe έχουμε το gdp_per_capita και το population.\n",
        "* Βρείτε το ΑΕΠ κάθε χώρας και αποθηκεύστε το στο dataframe σε μια νέα στήλη με όνομα \"gdp\"."
      ],
      "metadata": {
        "id": "0AGSxvlMMNzq"
      }
    },
    {
      "cell_type": "code",
      "source": [
        "\n",
        "\n",
        "df.head()"
      ],
      "metadata": {
        "id": "yJBZ_kBQFMCl"
      },
      "execution_count": null,
      "outputs": []
    },
    {
      "cell_type": "markdown",
      "source": [
        "---"
      ],
      "metadata": {
        "id": "2A66SafaOPKt"
      }
    },
    {
      "cell_type": "markdown",
      "source": [
        "**9.3 Δημιουργία νέου dataframe με επιλεγμένες στήλες από το παλιό**"
      ],
      "metadata": {
        "id": "492cp6qdml3T"
      }
    },
    {
      "cell_type": "code",
      "source": [
        "df_new2 = df[['country', 'population', 'gdp']]\n",
        "df_new2.head()"
      ],
      "metadata": {
        "id": "E81m8145FNIh"
      },
      "execution_count": null,
      "outputs": []
    },
    {
      "cell_type": "markdown",
      "source": [
        "**9.4 Διαχείριση του index σε περιπτώσεις groupby**\n",
        "\n",
        "Αν κάνουμε groupby και ζητήσουμε ένα στατιστικό μέγεθος, οι τιμές του groupby γίνονται index του νέου dataframe."
      ],
      "metadata": {
        "id": "NTcjruDSs2hr"
      }
    },
    {
      "cell_type": "code",
      "source": [
        "df.groupby('continent').sum()"
      ],
      "metadata": {
        "id": "68mc6RQKsMNI"
      },
      "execution_count": null,
      "outputs": []
    },
    {
      "cell_type": "markdown",
      "source": [
        "Για να το αποφύγουμε αυτό, ορίζουμε ότι οι τιμές του groupby ΔΕΝ θα γίνουν index"
      ],
      "metadata": {
        "id": "SUQmOAaLtidU"
      }
    },
    {
      "cell_type": "code",
      "source": [
        "df.groupby('continent', as_index = False).sum()"
      ],
      "metadata": {
        "id": "RoLKf983nQ16"
      },
      "execution_count": null,
      "outputs": []
    },
    {
      "cell_type": "markdown",
      "source": [
        "Και μπορούμε να πάρουμε ένα νέο dataframe με τις στήλες που θέλουμε"
      ],
      "metadata": {
        "id": "Z-mN3Pg6uQ2X"
      }
    },
    {
      "cell_type": "code",
      "source": [
        "df_new2 = df.groupby('continent', as_index = False).sum()[['continent', 'gdp_per_capita', 'life_expectancy', 'population']]\n",
        "df_new2"
      ],
      "metadata": {
        "id": "FqZOiLpEsTIG"
      },
      "execution_count": null,
      "outputs": []
    },
    {
      "cell_type": "markdown",
      "source": [
        "### **10. Γραφήματα**\n",
        "\n",
        "Μια βιβλιοθήκη για δημιουργία γραφημάτων είναι η matplotlib. Δημιουργούμε γραφήματα με την εντολή plot()."
      ],
      "metadata": {
        "id": "SGLJcsr7Eoc2"
      }
    },
    {
      "cell_type": "code",
      "source": [
        "%matplotlib inline"
      ],
      "metadata": {
        "id": "V7usWRVkFnMj"
      },
      "execution_count": null,
      "outputs": []
    },
    {
      "cell_type": "markdown",
      "source": [
        "**10.1 Γράφημα των τιμών μιας μεταβλητής**"
      ],
      "metadata": {
        "id": "NTJ5vAWsSOcy"
      }
    },
    {
      "cell_type": "markdown",
      "source": [
        "Η plot() δέχεται διάφορες παραμέτρους. Το default είδος (kind) γραφήματος είναι το line chart."
      ],
      "metadata": {
        "id": "y-UG3eQ7yb32"
      }
    },
    {
      "cell_type": "code",
      "source": [
        "# οι συχνότητες των τιμών της μεταβλητής (στήλης) 'continent'\n",
        "df['continent'].value_counts().plot()"
      ],
      "metadata": {
        "id": "3QtLIgFVFB24"
      },
      "execution_count": null,
      "outputs": []
    },
    {
      "cell_type": "markdown",
      "source": [
        "Αυτό όμως δεν είναι το καλύτερο γράφημα για τη συγκεκριμένη μεταβλητή. Τα γραμμικά διαγράμματα είναι κατάλληλα για την απεικόνιση των μεταβολών στις τιμές μιας μεταβλητής. Π.χ. πώς αλλάζει το gdp ή το life_expectancy στην αλληλουχία των ετών.\n",
        "\n",
        "Στην περίπτωσή μας, οι τιμές της κάθε ηπείρου, δηλαδή το πόσες χώρες είναι σε κάθε ήπειρο, θα απεικονιστεί καλύτερα με ραβδόγραμμα (bar chart)."
      ],
      "metadata": {
        "id": "jIwD1u09043D"
      }
    },
    {
      "cell_type": "code",
      "source": [
        "# ορίζουμε την παράμετρο kind της plot() ως bar\n",
        "df['continent'].value_counts().plot(kind='bar')"
      ],
      "metadata": {
        "id": "rEFhBvXa21Up"
      },
      "execution_count": null,
      "outputs": []
    },
    {
      "cell_type": "markdown",
      "source": [
        "Όμως, ακόμα καλύτερο θα ήταν ένα οριζόντιο ραβδόγραμμα (horizontal barchart)"
      ],
      "metadata": {
        "id": "Ui19x73e3V9A"
      }
    },
    {
      "cell_type": "code",
      "source": [
        "# ορίζουμε την παράμετρο kind της plot() ως barh\n",
        "df['continent'].value_counts().plot(kind='barh')"
      ],
      "metadata": {
        "id": "KRYck7rzFrBh"
      },
      "execution_count": null,
      "outputs": []
    },
    {
      "cell_type": "markdown",
      "source": [
        "Και ακόμα καλύτερα αν η ταξινόμηση των αποτελεσμάτων ήταν ανάποδα"
      ],
      "metadata": {
        "id": "9gBAVxWx5gYI"
      }
    },
    {
      "cell_type": "code",
      "source": [
        "df['continent'].value_counts().sort_values(ascending=True).plot(kind='barh')"
      ],
      "metadata": {
        "id": "ffHmSDDu5rte"
      },
      "execution_count": null,
      "outputs": []
    },
    {
      "cell_type": "markdown",
      "source": [
        "Μπορούμε να αλλάξουμε και τα χρώματα"
      ],
      "metadata": {
        "id": "1_Mq-2GJ68fT"
      }
    },
    {
      "cell_type": "code",
      "source": [
        "df['continent'].value_counts().sort_values(ascending=True).plot(kind='barh', color=['green', 'orange', 'red', 'blue', 'yellow', 'black'])"
      ],
      "metadata": {
        "id": "tILn93--7B-S"
      },
      "execution_count": null,
      "outputs": []
    },
    {
      "cell_type": "markdown",
      "source": [
        "**10.2 Γράφημα 2 μεταβλητών**"
      ],
      "metadata": {
        "id": "XLfqWJjmSDE5"
      }
    },
    {
      "cell_type": "markdown",
      "source": [
        "Ας απεικονίσουμε στον άξονα των x το κατά κεφαλή ΑΕΠ και στον άξονα των y το προσδόκιμο ζωής:"
      ],
      "metadata": {
        "id": "QHfR8LWCSh-V"
      }
    },
    {
      "cell_type": "code",
      "source": [
        "df.plot(kind='barh', x='gdp_per_capita', y='life_expectancy')"
      ],
      "metadata": {
        "id": "rq-HRQnzRlux"
      },
      "execution_count": null,
      "outputs": []
    },
    {
      "cell_type": "markdown",
      "source": [
        "Το ραβδόγαμμα δεν μας βοηθάει να δούμε κάτι.\n",
        "\n",
        "Την καλύτερη απεικόνιση για τη σχέση του κατά κεφαλή ΑΕΠ με το προσδόκιμο ζωής, μας τη δίνει ένα γράφημα διασποράς (scatter plot).\n",
        "\n",
        "Στις παραμέτρους της plot() ορίζουμε ως kind το scatter και θέτουμε τις στήλες των μεταβλητών που μας ενδιαφέρουν στους άξονες x και y."
      ],
      "metadata": {
        "id": "MAxNThp589cY"
      }
    },
    {
      "cell_type": "code",
      "source": [
        "df.plot(kind='scatter', x='gdp_per_capita', y='life_expectancy')"
      ],
      "metadata": {
        "id": "QJ4xKO50FxrH"
      },
      "execution_count": null,
      "outputs": []
    },
    {
      "cell_type": "markdown",
      "source": [
        "Το παραπάνω scatter plot μας δίνει άμεσα μια εικόνα για τη σχέση των δύο μεταβλητών. Αυτή είναι η δύναμη των οπτικοποιήσεων:\n",
        "* μπορούμε **με μια ματιά** να δούμε τι κρύβεται στα δεδομένα για να ψάξουμε περισσότερο\n",
        "* διαφορετικά είδη γραφημάτων δίνουν **καλύτερες** ή **χειρότερες** απεικονίσεις, ανάλογα με το είδος των (μεταβλητών των) δεδομένων μας και του εκάστοτε ζητούμενου\n",
        "\n",
        "Σημειώστε ότι τo γεγονός πώς οι δύο συγκεκριμένες μεταβλητές συσχετίζονται με κάποιο τρόπο, τη βλέπουμε και με το corr().\n",
        "\n",
        "Αλλά η τιμή του corr() δεν μας λέει το πώς ακριβώς συσχετίονται (πέρα από το πρόσιμο που μας λέει αν η συσχέτιση είναι ανάλογη ή αντιστρόφως ανάλογη)."
      ],
      "metadata": {
        "id": "FKVM4O6FNiOE"
      }
    },
    {
      "cell_type": "code",
      "source": [
        "df[['gdp_per_capita', 'life_expectancy']].corr()"
      ],
      "metadata": {
        "id": "YhaFi6-NN9he"
      },
      "execution_count": null,
      "outputs": []
    },
    {
      "cell_type": "markdown",
      "source": [
        "---\n",
        "**Άσκηση 12**:\n",
        "\n",
        "Βρείτε το μ.ο. του κατά κεφαλή ΑΕΠ ανά ήπειρο και φτιάξτε ένα γράφημμα πίτας (pie chart).\n",
        "\n",
        "Help:\n",
        "* η λογική είναι: ομαδοποίηση ανά ήπειρο, μέσος όρος του κατά κεφαλή ΑΕΠ, σχεδίαση σε γράφημα πίτας\n",
        "* το γράφημα πίτας στην plot() λέγεται pie\n"
      ],
      "metadata": {
        "id": "j2Hi9kTIAeSJ"
      }
    },
    {
      "cell_type": "code",
      "source": [],
      "metadata": {
        "id": "AQny4ouz_f3U"
      },
      "execution_count": null,
      "outputs": []
    },
    {
      "cell_type": "markdown",
      "source": [
        "---"
      ],
      "metadata": {
        "id": "c4OMhiMeCfSe"
      }
    },
    {
      "cell_type": "markdown",
      "source": [
        "# **Ανασκόπηση**\n",
        "\n",
        "Τι έχουμε μάθει ως εδώ:\n",
        "\n",
        "* να **εισάγουμε** βιβλιοθήκες\n",
        "* να **συνδέουμε** το colab με το drive\n",
        "* να **διαβάζουμε** και να **αποθηκεύουμε** csv\n",
        "* να **επισκοπούμε** τα δεδομένα\n",
        "* να βρίσκουμε **στατιστικά στοιχεία**\n",
        "* να βρίσκουμε **συσχετίσεις** των δεδομένων\n",
        "* να **επιλέγουμε** συγκεκριμένα κομμάτια των δεδομένων\n",
        "* να **ταξινομούμε** τα δεδομένα\n",
        "* να **φιλτράρουμε** τα δεδομένα\n",
        "* να **ομαδοποιούμε** τα δεδομένα και να παίρνουμε νέες πληροφορίες\n",
        "* να **επεξεργαζόμαστε** τα δεδομένα και να **αποθηκεύουμε** τις αλλαγές\n",
        "* να δημιουργούμε **νέα dataframes**\n",
        "* να δημιουργούμε **γραφικές απεικονίσεις** των δεδομένων και των ευρημάτων μας\n",
        "\n",
        "Προφανώς αυτά είναι μόνο η αρχή όσων μπορούμε να κάνουμε με τα pandas, αλλά δεν ξεχνάμε ότι η αρχή είναι το ήμισυ του παντός.\n",
        "\n",
        "#### **Μαθαίνουμε τα εργαλεία, αλλά δεν πρέπει να ξεχνάμε γαιτί τα μαθαίνουμε**:\n",
        "\n",
        "Εδώ επικεντρωνόμαστε στις δυνατότητες που μας προσφέρουν η Python και τα Pandas για να διαχειριστούμε μεγάλα σύνολα δεδομένων. **Αλλά ...**\n",
        "\n",
        "Ο σκοπός μας πάντα είναι να δίνουμε απαντήσεις σε ερωτήματα. Τα εργαλεία υπάρχουν και είναι ανεξάντλητα.\n",
        "\n",
        "Όλα όμως ξεκινούν από την **ενδελεχή επισκόπηση και κατανόηση των δεδομένων** μας, η οποία θα μας οδηγήσει σε σωστές, δηλαδή **ενδιαφέρουσες** και **συγκεκριμένες**, ερωτήσεις. Τα υπόλοιπα είναι πολύ σημαντικά μεν, technicalities δε που δεν πρέπει να μας τρομάζουν.\n",
        "\n",
        "\n",
        "[**Pandas Cheatsheet 1**](https://raw.githubusercontent.com/datajour-gr/DataJournalism/main/Bachelor%20Lessons%202023/Lesson%203/Pandas%20cheatsheet%201.pdf): οι βασικές εντολές για τα Pandas που καλύφθηκαν στο μάθημα σε ένα Α4"
      ],
      "metadata": {
        "id": "ONXfpalmG45E"
      }
    }
  ]
}